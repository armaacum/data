{
  "nbformat": 4,
  "nbformat_minor": 0,
  "metadata": {
    "colab": {
      "provenance": [],
      "collapsed_sections": [
        "ItfXpVtgt0Mm"
      ]
    },
    "kernelspec": {
      "name": "python3",
      "display_name": "Python 3"
    },
    "language_info": {
      "name": "python"
    }
  },
  "cells": [
    {
      "cell_type": "markdown",
      "source": [
        "El primer acercamiento se realizó con un archivo \"230303_DATOS_BASICOS_UBICACION_USUARIO.csv\" con 100.000 instancias y 13 características como NIS\tGENERO\tFECHA_NACIMIENTO\tESTADO_CIVIL\tESTRATO\tPUNTAJE_ICFES\tSISBEN\tDBU_HIJOS\tCOD_PAIS_RESISENCIA\tCOD_DPTO_RESIDENCIA\tCOD_MUNICIPIO_RESIDENCIA\tCOD_ZONA_RESIDENCIA\tCOD_BARRIO_RESIDENCIA"
      ],
      "metadata": {
        "id": "6nPwzw2auZNQ"
      }
    },
    {
      "cell_type": "markdown",
      "source": [
        "-Identificación de archivo a procesar\n",
        "\n",
        "-Cargue del archivo en Github\n",
        "\n",
        "-Cargue del archivo desde Github\n",
        "\n",
        "-Exploración de las caracteríticas del archivo\n",
        "\n",
        "-Identificación de características\n",
        "\n",
        "-Identificación de características categóricas y las características numéricas\n",
        "\n",
        "-Exploración de valores en las características:\n",
        "\n",
        "  *Faltantes\n",
        "\n",
        "  *Únicos\n"
      ],
      "metadata": {
        "id": "3johIWbMUaxc"
      }
    },
    {
      "cell_type": "markdown",
      "source": [
        "Cargue del archivo desde github"
      ],
      "metadata": {
        "id": "ySzsbU0acl7n"
      }
    },
    {
      "cell_type": "code",
      "execution_count": null,
      "metadata": {
        "id": "wGTxIM3xchtm"
      },
      "outputs": [],
      "source": [
        "import numpy as np, random, operator, pandas as pd, matplotlib.pyplot as plt\n",
        "import seaborn as sns\n",
        "#https://drive.google.com/file/d/1flzdpualWKZrAtri3LvlOuAL0dgeFttj/view?usp=share_link"
      ]
    },
    {
      "cell_type": "markdown",
      "source": [
        "Cargue del conjunto de datos 230303_DATOS_BASICOS_UBICACION_USUARIO.csv"
      ],
      "metadata": {
        "id": "y1JLrBJ7kDuE"
      }
    },
    {
      "cell_type": "code",
      "source": [
        "df = pd.read_csv('https://raw.githubusercontent.com/armaacum/data/main/230303_DATOS_BASICOS_UBICACION_USUARIO.csv',encoding='latin1', sep = ';')"
      ],
      "metadata": {
        "id": "sKwSdgbBiFww"
      },
      "execution_count": null,
      "outputs": []
    },
    {
      "cell_type": "markdown",
      "source": [
        "#Armando"
      ],
      "metadata": {
        "id": "ItfXpVtgt0Mm"
      }
    },
    {
      "cell_type": "markdown",
      "source": [
        "Se exploran las caracteríticas del archivo"
      ],
      "metadata": {
        "id": "kx-CcB8O72j4"
      }
    },
    {
      "cell_type": "code",
      "source": [
        "df.info()"
      ],
      "metadata": {
        "id": "oJPIFbsLjXl7",
        "colab": {
          "base_uri": "https://localhost:8080/"
        },
        "outputId": "07e67587-0e09-46ac-ae72-89214e086b70"
      },
      "execution_count": null,
      "outputs": [
        {
          "output_type": "stream",
          "name": "stdout",
          "text": [
            "<class 'pandas.core.frame.DataFrame'>\n",
            "RangeIndex: 100000 entries, 0 to 99999\n",
            "Data columns (total 13 columns):\n",
            " #   Column                    Non-Null Count   Dtype  \n",
            "---  ------                    --------------   -----  \n",
            " 0   NIS                       100000 non-null  int64  \n",
            " 1   GENERO                    100000 non-null  object \n",
            " 2   FECHA_NACIMIENTO          100000 non-null  object \n",
            " 3   ESTADO_CIVIL              100000 non-null  object \n",
            " 4   ESTRATO                   100000 non-null  int64  \n",
            " 5   PUNTAJE_ICFES             1798 non-null    object \n",
            " 6   SISBEN                    0 non-null       float64\n",
            " 7   DBU_HIJOS                 0 non-null       float64\n",
            " 8   COD_PAIS_RESISENCIA       100000 non-null  int64  \n",
            " 9   COD_DPTO_RESIDENCIA       100000 non-null  int64  \n",
            " 10  COD_MUNICIPIO_RESIDENCIA  100000 non-null  int64  \n",
            " 11  COD_ZONA_RESIDENCIA       3677 non-null    float64\n",
            " 12  COD_BARRIO_RESIDENCIA     3204 non-null    float64\n",
            "dtypes: float64(4), int64(5), object(4)\n",
            "memory usage: 9.9+ MB\n"
          ]
        }
      ]
    },
    {
      "cell_type": "code",
      "source": [
        "df.shape"
      ],
      "metadata": {
        "id": "EpXBRSa7m9-M",
        "colab": {
          "base_uri": "https://localhost:8080/"
        },
        "outputId": "b0b1be9b-3e14-4ad2-f092-1189f7297b98"
      },
      "execution_count": null,
      "outputs": [
        {
          "output_type": "execute_result",
          "data": {
            "text/plain": [
              "(100000, 13)"
            ]
          },
          "metadata": {},
          "execution_count": 6
        }
      ]
    },
    {
      "cell_type": "markdown",
      "source": [
        "El archivo contiene 39102 intancias por 18 características"
      ],
      "metadata": {
        "id": "gHxAJcvSkO-D"
      }
    },
    {
      "cell_type": "markdown",
      "source": [
        "Se identifican los nombre de todas las características"
      ],
      "metadata": {
        "id": "lkKr_Rqi_aOV"
      }
    },
    {
      "cell_type": "code",
      "source": [
        "columns = df.columns.values\n",
        "columns"
      ],
      "metadata": {
        "colab": {
          "base_uri": "https://localhost:8080/"
        },
        "id": "iH8LeiW8-Udh",
        "outputId": "0649c1df-4fa7-40ef-ced1-be3424eed706"
      },
      "execution_count": null,
      "outputs": [
        {
          "output_type": "execute_result",
          "data": {
            "text/plain": [
              "array(['NIS', 'GENERO', 'FECHA_NACIMIENTO', 'ESTADO_CIVIL', 'ESTRATO',\n",
              "       'PUNTAJE_ICFES', 'SISBEN', 'DBU_HIJOS', 'COD_PAIS_RESISENCIA',\n",
              "       'COD_DPTO_RESIDENCIA', 'COD_MUNICIPIO_RESIDENCIA',\n",
              "       'COD_ZONA_RESIDENCIA', 'COD_BARRIO_RESIDENCIA'], dtype=object)"
            ]
          },
          "metadata": {},
          "execution_count": 7
        }
      ]
    },
    {
      "cell_type": "markdown",
      "source": [
        "Se identifican las características categóricas y las características numéricas"
      ],
      "metadata": {
        "id": "cUadPFTX_wlB"
      }
    },
    {
      "cell_type": "code",
      "source": [
        "for t in columns:\n",
        "  print(t, df[t].dtype)"
      ],
      "metadata": {
        "colab": {
          "base_uri": "https://localhost:8080/"
        },
        "id": "liiz2smo_jhJ",
        "outputId": "e15e635a-8e66-4869-bfa0-6861c98b6534"
      },
      "execution_count": null,
      "outputs": [
        {
          "output_type": "stream",
          "name": "stdout",
          "text": [
            "NIS int64\n",
            "GENERO object\n",
            "FECHA_NACIMIENTO object\n",
            "ESTADO_CIVIL object\n",
            "ESTRATO int64\n",
            "PUNTAJE_ICFES object\n",
            "SISBEN float64\n",
            "DBU_HIJOS float64\n",
            "COD_PAIS_RESISENCIA int64\n",
            "COD_DPTO_RESIDENCIA int64\n",
            "COD_MUNICIPIO_RESIDENCIA int64\n",
            "COD_ZONA_RESIDENCIA float64\n",
            "COD_BARRIO_RESIDENCIA float64\n"
          ]
        }
      ]
    },
    {
      "cell_type": "code",
      "source": [
        "categoricos_col =[]\n",
        "for t in columns:\n",
        "  if df[t].dtype == 'object':\n",
        "    categoricos_col.append(t)\n",
        "categoricos_col\n"
      ],
      "metadata": {
        "colab": {
          "base_uri": "https://localhost:8080/"
        },
        "id": "70e4Q6ofA7sz",
        "outputId": "82fc8041-3b52-4772-88f1-e9958a95f730"
      },
      "execution_count": null,
      "outputs": [
        {
          "output_type": "execute_result",
          "data": {
            "text/plain": [
              "['GENERO', 'FECHA_NACIMIENTO', 'ESTADO_CIVIL', 'PUNTAJE_ICFES']"
            ]
          },
          "metadata": {},
          "execution_count": 9
        }
      ]
    },
    {
      "cell_type": "code",
      "source": [
        "numericas_col=[]\n",
        "for t in columns:\n",
        "  if df[t].dtype == 'int64':\n",
        "    numericas_col.append(t)\n",
        "numericas_col"
      ],
      "metadata": {
        "colab": {
          "base_uri": "https://localhost:8080/"
        },
        "id": "9k2BzV-UCLgU",
        "outputId": "b0ac5504-d6d7-4e67-bae2-48fa42806671"
      },
      "execution_count": null,
      "outputs": [
        {
          "output_type": "execute_result",
          "data": {
            "text/plain": [
              "['NIS',\n",
              " 'ESTRATO',\n",
              " 'COD_PAIS_RESISENCIA',\n",
              " 'COD_DPTO_RESIDENCIA',\n",
              " 'COD_MUNICIPIO_RESIDENCIA']"
            ]
          },
          "metadata": {},
          "execution_count": 10
        }
      ]
    },
    {
      "cell_type": "code",
      "source": [
        "data=[]\n",
        "for d in columns:\n",
        "  w=df[d].unique()\n",
        "  print(\"Cantidad de valores únicos en \",d, \" = \",len(w))\n"
      ],
      "metadata": {
        "colab": {
          "base_uri": "https://localhost:8080/"
        },
        "id": "nZG91rU2DOFb",
        "outputId": "5b169485-9cb6-45a9-9a58-f51aae8f4516"
      },
      "execution_count": null,
      "outputs": [
        {
          "output_type": "stream",
          "name": "stdout",
          "text": [
            "Cantidad de valores únicos en  NIS  =  100000\n",
            "Cantidad de valores únicos en  GENERO  =  2\n",
            "Cantidad de valores únicos en  FECHA_NACIMIENTO  =  20797\n",
            "Cantidad de valores únicos en  ESTADO_CIVIL  =  7\n",
            "Cantidad de valores únicos en  ESTRATO  =  6\n",
            "Cantidad de valores únicos en  PUNTAJE_ICFES  =  468\n",
            "Cantidad de valores únicos en  SISBEN  =  1\n",
            "Cantidad de valores únicos en  DBU_HIJOS  =  1\n",
            "Cantidad de valores únicos en  COD_PAIS_RESISENCIA  =  33\n",
            "Cantidad de valores únicos en  COD_DPTO_RESIDENCIA  =  164\n",
            "Cantidad de valores únicos en  COD_MUNICIPIO_RESIDENCIA  =  1248\n",
            "Cantidad de valores únicos en  COD_ZONA_RESIDENCIA  =  348\n",
            "Cantidad de valores únicos en  COD_BARRIO_RESIDENCIA  =  1644\n"
          ]
        }
      ]
    },
    {
      "cell_type": "code",
      "source": [
        "def check(data):\n",
        "    l=[]\n",
        "    columns=data.columns\n",
        "    for col in columns:\n",
        "        dtypes=data[col].dtypes\n",
        "        nunique=data[col].nunique()\n",
        "        sum_null=data[col].isnull().sum()\n",
        "        l.append([col,dtypes,nunique,sum_null])\n",
        "    res=pd.DataFrame(l)\n",
        "    res.columns=['column','dtypes','nunique','sum_null']\n",
        "    return res\n",
        "check(df)"
      ],
      "metadata": {
        "id": "dEqC7D3IkpnL",
        "colab": {
          "base_uri": "https://localhost:8080/",
          "height": 457
        },
        "outputId": "818c261e-837b-40b3-d264-137fcfe1b00d"
      },
      "execution_count": null,
      "outputs": [
        {
          "output_type": "execute_result",
          "data": {
            "text/plain": [
              "                      column   dtypes  nunique  sum_null\n",
              "0                        NIS    int64   100000         0\n",
              "1                     GENERO   object        2         0\n",
              "2           FECHA_NACIMIENTO   object    20797         0\n",
              "3               ESTADO_CIVIL   object        7         0\n",
              "4                    ESTRATO    int64        6         0\n",
              "5              PUNTAJE_ICFES   object      467     98202\n",
              "6                     SISBEN  float64        0    100000\n",
              "7                  DBU_HIJOS  float64        0    100000\n",
              "8        COD_PAIS_RESISENCIA    int64       33         0\n",
              "9        COD_DPTO_RESIDENCIA    int64      164         0\n",
              "10  COD_MUNICIPIO_RESIDENCIA    int64     1248         0\n",
              "11       COD_ZONA_RESIDENCIA  float64      347     96323\n",
              "12     COD_BARRIO_RESIDENCIA  float64     1643     96796"
            ],
            "text/html": [
              "\n",
              "  <div id=\"df-bf765b33-5644-4e9a-b77f-2a8ef04ef5f3\" class=\"colab-df-container\">\n",
              "    <div>\n",
              "<style scoped>\n",
              "    .dataframe tbody tr th:only-of-type {\n",
              "        vertical-align: middle;\n",
              "    }\n",
              "\n",
              "    .dataframe tbody tr th {\n",
              "        vertical-align: top;\n",
              "    }\n",
              "\n",
              "    .dataframe thead th {\n",
              "        text-align: right;\n",
              "    }\n",
              "</style>\n",
              "<table border=\"1\" class=\"dataframe\">\n",
              "  <thead>\n",
              "    <tr style=\"text-align: right;\">\n",
              "      <th></th>\n",
              "      <th>column</th>\n",
              "      <th>dtypes</th>\n",
              "      <th>nunique</th>\n",
              "      <th>sum_null</th>\n",
              "    </tr>\n",
              "  </thead>\n",
              "  <tbody>\n",
              "    <tr>\n",
              "      <th>0</th>\n",
              "      <td>NIS</td>\n",
              "      <td>int64</td>\n",
              "      <td>100000</td>\n",
              "      <td>0</td>\n",
              "    </tr>\n",
              "    <tr>\n",
              "      <th>1</th>\n",
              "      <td>GENERO</td>\n",
              "      <td>object</td>\n",
              "      <td>2</td>\n",
              "      <td>0</td>\n",
              "    </tr>\n",
              "    <tr>\n",
              "      <th>2</th>\n",
              "      <td>FECHA_NACIMIENTO</td>\n",
              "      <td>object</td>\n",
              "      <td>20797</td>\n",
              "      <td>0</td>\n",
              "    </tr>\n",
              "    <tr>\n",
              "      <th>3</th>\n",
              "      <td>ESTADO_CIVIL</td>\n",
              "      <td>object</td>\n",
              "      <td>7</td>\n",
              "      <td>0</td>\n",
              "    </tr>\n",
              "    <tr>\n",
              "      <th>4</th>\n",
              "      <td>ESTRATO</td>\n",
              "      <td>int64</td>\n",
              "      <td>6</td>\n",
              "      <td>0</td>\n",
              "    </tr>\n",
              "    <tr>\n",
              "      <th>5</th>\n",
              "      <td>PUNTAJE_ICFES</td>\n",
              "      <td>object</td>\n",
              "      <td>467</td>\n",
              "      <td>98202</td>\n",
              "    </tr>\n",
              "    <tr>\n",
              "      <th>6</th>\n",
              "      <td>SISBEN</td>\n",
              "      <td>float64</td>\n",
              "      <td>0</td>\n",
              "      <td>100000</td>\n",
              "    </tr>\n",
              "    <tr>\n",
              "      <th>7</th>\n",
              "      <td>DBU_HIJOS</td>\n",
              "      <td>float64</td>\n",
              "      <td>0</td>\n",
              "      <td>100000</td>\n",
              "    </tr>\n",
              "    <tr>\n",
              "      <th>8</th>\n",
              "      <td>COD_PAIS_RESISENCIA</td>\n",
              "      <td>int64</td>\n",
              "      <td>33</td>\n",
              "      <td>0</td>\n",
              "    </tr>\n",
              "    <tr>\n",
              "      <th>9</th>\n",
              "      <td>COD_DPTO_RESIDENCIA</td>\n",
              "      <td>int64</td>\n",
              "      <td>164</td>\n",
              "      <td>0</td>\n",
              "    </tr>\n",
              "    <tr>\n",
              "      <th>10</th>\n",
              "      <td>COD_MUNICIPIO_RESIDENCIA</td>\n",
              "      <td>int64</td>\n",
              "      <td>1248</td>\n",
              "      <td>0</td>\n",
              "    </tr>\n",
              "    <tr>\n",
              "      <th>11</th>\n",
              "      <td>COD_ZONA_RESIDENCIA</td>\n",
              "      <td>float64</td>\n",
              "      <td>347</td>\n",
              "      <td>96323</td>\n",
              "    </tr>\n",
              "    <tr>\n",
              "      <th>12</th>\n",
              "      <td>COD_BARRIO_RESIDENCIA</td>\n",
              "      <td>float64</td>\n",
              "      <td>1643</td>\n",
              "      <td>96796</td>\n",
              "    </tr>\n",
              "  </tbody>\n",
              "</table>\n",
              "</div>\n",
              "    <div class=\"colab-df-buttons\">\n",
              "\n",
              "  <div class=\"colab-df-container\">\n",
              "    <button class=\"colab-df-convert\" onclick=\"convertToInteractive('df-bf765b33-5644-4e9a-b77f-2a8ef04ef5f3')\"\n",
              "            title=\"Convert this dataframe to an interactive table.\"\n",
              "            style=\"display:none;\">\n",
              "\n",
              "  <svg xmlns=\"http://www.w3.org/2000/svg\" height=\"24px\" viewBox=\"0 -960 960 960\">\n",
              "    <path d=\"M120-120v-720h720v720H120Zm60-500h600v-160H180v160Zm220 220h160v-160H400v160Zm0 220h160v-160H400v160ZM180-400h160v-160H180v160Zm440 0h160v-160H620v160ZM180-180h160v-160H180v160Zm440 0h160v-160H620v160Z\"/>\n",
              "  </svg>\n",
              "    </button>\n",
              "\n",
              "  <style>\n",
              "    .colab-df-container {\n",
              "      display:flex;\n",
              "      gap: 12px;\n",
              "    }\n",
              "\n",
              "    .colab-df-convert {\n",
              "      background-color: #E8F0FE;\n",
              "      border: none;\n",
              "      border-radius: 50%;\n",
              "      cursor: pointer;\n",
              "      display: none;\n",
              "      fill: #1967D2;\n",
              "      height: 32px;\n",
              "      padding: 0 0 0 0;\n",
              "      width: 32px;\n",
              "    }\n",
              "\n",
              "    .colab-df-convert:hover {\n",
              "      background-color: #E2EBFA;\n",
              "      box-shadow: 0px 1px 2px rgba(60, 64, 67, 0.3), 0px 1px 3px 1px rgba(60, 64, 67, 0.15);\n",
              "      fill: #174EA6;\n",
              "    }\n",
              "\n",
              "    .colab-df-buttons div {\n",
              "      margin-bottom: 4px;\n",
              "    }\n",
              "\n",
              "    [theme=dark] .colab-df-convert {\n",
              "      background-color: #3B4455;\n",
              "      fill: #D2E3FC;\n",
              "    }\n",
              "\n",
              "    [theme=dark] .colab-df-convert:hover {\n",
              "      background-color: #434B5C;\n",
              "      box-shadow: 0px 1px 3px 1px rgba(0, 0, 0, 0.15);\n",
              "      filter: drop-shadow(0px 1px 2px rgba(0, 0, 0, 0.3));\n",
              "      fill: #FFFFFF;\n",
              "    }\n",
              "  </style>\n",
              "\n",
              "    <script>\n",
              "      const buttonEl =\n",
              "        document.querySelector('#df-bf765b33-5644-4e9a-b77f-2a8ef04ef5f3 button.colab-df-convert');\n",
              "      buttonEl.style.display =\n",
              "        google.colab.kernel.accessAllowed ? 'block' : 'none';\n",
              "\n",
              "      async function convertToInteractive(key) {\n",
              "        const element = document.querySelector('#df-bf765b33-5644-4e9a-b77f-2a8ef04ef5f3');\n",
              "        const dataTable =\n",
              "          await google.colab.kernel.invokeFunction('convertToInteractive',\n",
              "                                                    [key], {});\n",
              "        if (!dataTable) return;\n",
              "\n",
              "        const docLinkHtml = 'Like what you see? Visit the ' +\n",
              "          '<a target=\"_blank\" href=https://colab.research.google.com/notebooks/data_table.ipynb>data table notebook</a>'\n",
              "          + ' to learn more about interactive tables.';\n",
              "        element.innerHTML = '';\n",
              "        dataTable['output_type'] = 'display_data';\n",
              "        await google.colab.output.renderOutput(dataTable, element);\n",
              "        const docLink = document.createElement('div');\n",
              "        docLink.innerHTML = docLinkHtml;\n",
              "        element.appendChild(docLink);\n",
              "      }\n",
              "    </script>\n",
              "  </div>\n",
              "\n",
              "\n",
              "<div id=\"df-f19b3155-c4e6-41dd-907e-cdba038584ea\">\n",
              "  <button class=\"colab-df-quickchart\" onclick=\"quickchart('df-f19b3155-c4e6-41dd-907e-cdba038584ea')\"\n",
              "            title=\"Suggest charts\"\n",
              "            style=\"display:none;\">\n",
              "\n",
              "<svg xmlns=\"http://www.w3.org/2000/svg\" height=\"24px\"viewBox=\"0 0 24 24\"\n",
              "     width=\"24px\">\n",
              "    <g>\n",
              "        <path d=\"M19 3H5c-1.1 0-2 .9-2 2v14c0 1.1.9 2 2 2h14c1.1 0 2-.9 2-2V5c0-1.1-.9-2-2-2zM9 17H7v-7h2v7zm4 0h-2V7h2v10zm4 0h-2v-4h2v4z\"/>\n",
              "    </g>\n",
              "</svg>\n",
              "  </button>\n",
              "\n",
              "<style>\n",
              "  .colab-df-quickchart {\n",
              "      --bg-color: #E8F0FE;\n",
              "      --fill-color: #1967D2;\n",
              "      --hover-bg-color: #E2EBFA;\n",
              "      --hover-fill-color: #174EA6;\n",
              "      --disabled-fill-color: #AAA;\n",
              "      --disabled-bg-color: #DDD;\n",
              "  }\n",
              "\n",
              "  [theme=dark] .colab-df-quickchart {\n",
              "      --bg-color: #3B4455;\n",
              "      --fill-color: #D2E3FC;\n",
              "      --hover-bg-color: #434B5C;\n",
              "      --hover-fill-color: #FFFFFF;\n",
              "      --disabled-bg-color: #3B4455;\n",
              "      --disabled-fill-color: #666;\n",
              "  }\n",
              "\n",
              "  .colab-df-quickchart {\n",
              "    background-color: var(--bg-color);\n",
              "    border: none;\n",
              "    border-radius: 50%;\n",
              "    cursor: pointer;\n",
              "    display: none;\n",
              "    fill: var(--fill-color);\n",
              "    height: 32px;\n",
              "    padding: 0;\n",
              "    width: 32px;\n",
              "  }\n",
              "\n",
              "  .colab-df-quickchart:hover {\n",
              "    background-color: var(--hover-bg-color);\n",
              "    box-shadow: 0 1px 2px rgba(60, 64, 67, 0.3), 0 1px 3px 1px rgba(60, 64, 67, 0.15);\n",
              "    fill: var(--button-hover-fill-color);\n",
              "  }\n",
              "\n",
              "  .colab-df-quickchart-complete:disabled,\n",
              "  .colab-df-quickchart-complete:disabled:hover {\n",
              "    background-color: var(--disabled-bg-color);\n",
              "    fill: var(--disabled-fill-color);\n",
              "    box-shadow: none;\n",
              "  }\n",
              "\n",
              "  .colab-df-spinner {\n",
              "    border: 2px solid var(--fill-color);\n",
              "    border-color: transparent;\n",
              "    border-bottom-color: var(--fill-color);\n",
              "    animation:\n",
              "      spin 1s steps(1) infinite;\n",
              "  }\n",
              "\n",
              "  @keyframes spin {\n",
              "    0% {\n",
              "      border-color: transparent;\n",
              "      border-bottom-color: var(--fill-color);\n",
              "      border-left-color: var(--fill-color);\n",
              "    }\n",
              "    20% {\n",
              "      border-color: transparent;\n",
              "      border-left-color: var(--fill-color);\n",
              "      border-top-color: var(--fill-color);\n",
              "    }\n",
              "    30% {\n",
              "      border-color: transparent;\n",
              "      border-left-color: var(--fill-color);\n",
              "      border-top-color: var(--fill-color);\n",
              "      border-right-color: var(--fill-color);\n",
              "    }\n",
              "    40% {\n",
              "      border-color: transparent;\n",
              "      border-right-color: var(--fill-color);\n",
              "      border-top-color: var(--fill-color);\n",
              "    }\n",
              "    60% {\n",
              "      border-color: transparent;\n",
              "      border-right-color: var(--fill-color);\n",
              "    }\n",
              "    80% {\n",
              "      border-color: transparent;\n",
              "      border-right-color: var(--fill-color);\n",
              "      border-bottom-color: var(--fill-color);\n",
              "    }\n",
              "    90% {\n",
              "      border-color: transparent;\n",
              "      border-bottom-color: var(--fill-color);\n",
              "    }\n",
              "  }\n",
              "</style>\n",
              "\n",
              "  <script>\n",
              "    async function quickchart(key) {\n",
              "      const quickchartButtonEl =\n",
              "        document.querySelector('#' + key + ' button');\n",
              "      quickchartButtonEl.disabled = true;  // To prevent multiple clicks.\n",
              "      quickchartButtonEl.classList.add('colab-df-spinner');\n",
              "      try {\n",
              "        const charts = await google.colab.kernel.invokeFunction(\n",
              "            'suggestCharts', [key], {});\n",
              "      } catch (error) {\n",
              "        console.error('Error during call to suggestCharts:', error);\n",
              "      }\n",
              "      quickchartButtonEl.classList.remove('colab-df-spinner');\n",
              "      quickchartButtonEl.classList.add('colab-df-quickchart-complete');\n",
              "    }\n",
              "    (() => {\n",
              "      let quickchartButtonEl =\n",
              "        document.querySelector('#df-f19b3155-c4e6-41dd-907e-cdba038584ea button');\n",
              "      quickchartButtonEl.style.display =\n",
              "        google.colab.kernel.accessAllowed ? 'block' : 'none';\n",
              "    })();\n",
              "  </script>\n",
              "</div>\n",
              "\n",
              "    </div>\n",
              "  </div>\n"
            ],
            "application/vnd.google.colaboratory.intrinsic+json": {
              "type": "dataframe",
              "summary": "{\n  \"name\": \"check(df)\",\n  \"rows\": 13,\n  \"fields\": [\n    {\n      \"column\": \"column\",\n      \"properties\": {\n        \"dtype\": \"string\",\n        \"num_unique_values\": 13,\n        \"samples\": [\n          \"COD_ZONA_RESIDENCIA\",\n          \"COD_DPTO_RESIDENCIA\",\n          \"NIS\"\n        ],\n        \"semantic_type\": \"\",\n        \"description\": \"\"\n      }\n    },\n    {\n      \"column\": \"dtypes\",\n      \"properties\": {\n        \"dtype\": \"category\",\n        \"num_unique_values\": 3,\n        \"samples\": [\n          \"int64\",\n          \"object\",\n          \"float64\"\n        ],\n        \"semantic_type\": \"\",\n        \"description\": \"\"\n      }\n    },\n    {\n      \"column\": \"nunique\",\n      \"properties\": {\n        \"dtype\": \"number\",\n        \"std\": 27749,\n        \"min\": 0,\n        \"max\": 100000,\n        \"num_unique_values\": 12,\n        \"samples\": [\n          347,\n          1248,\n          100000\n        ],\n        \"semantic_type\": \"\",\n        \"description\": \"\"\n      }\n    },\n    {\n      \"column\": \"sum_null\",\n      \"properties\": {\n        \"dtype\": \"number\",\n        \"std\": 49768,\n        \"min\": 0,\n        \"max\": 100000,\n        \"num_unique_values\": 5,\n        \"samples\": [\n          98202,\n          96796,\n          100000\n        ],\n        \"semantic_type\": \"\",\n        \"description\": \"\"\n      }\n    }\n  ]\n}"
            }
          },
          "metadata": {},
          "execution_count": 13
        }
      ]
    },
    {
      "cell_type": "code",
      "source": [
        "df.isnull().sum()"
      ],
      "metadata": {
        "id": "3-UuuoeRoPn8",
        "colab": {
          "base_uri": "https://localhost:8080/"
        },
        "outputId": "0e40d5db-aadf-4e65-f1e6-b9430cc1c575"
      },
      "execution_count": null,
      "outputs": [
        {
          "output_type": "execute_result",
          "data": {
            "text/plain": [
              "NIS                              0\n",
              "GENERO                           0\n",
              "FECHA_NACIMIENTO                 0\n",
              "ESTADO_CIVIL                     0\n",
              "ESTRATO                          0\n",
              "PUNTAJE_ICFES                98202\n",
              "SISBEN                      100000\n",
              "DBU_HIJOS                   100000\n",
              "COD_PAIS_RESISENCIA              0\n",
              "COD_DPTO_RESIDENCIA              0\n",
              "COD_MUNICIPIO_RESIDENCIA         0\n",
              "COD_ZONA_RESIDENCIA          96323\n",
              "COD_BARRIO_RESIDENCIA        96796\n",
              "dtype: int64"
            ]
          },
          "metadata": {},
          "execution_count": 14
        }
      ]
    },
    {
      "cell_type": "code",
      "source": [
        "df[\"GENERO\"].value_counts()"
      ],
      "metadata": {
        "id": "DkzsJSEntpOI",
        "colab": {
          "base_uri": "https://localhost:8080/"
        },
        "outputId": "15830001-64d4-432c-d8c6-aec58f01fbf7"
      },
      "execution_count": null,
      "outputs": [
        {
          "output_type": "execute_result",
          "data": {
            "text/plain": [
              "GENERO\n",
              "F    52928\n",
              "M    47072\n",
              "Name: count, dtype: int64"
            ]
          },
          "metadata": {},
          "execution_count": 15
        }
      ]
    },
    {
      "cell_type": "code",
      "source": [
        "plt.figure(figsize=(8, 6))\n",
        "plt.title('DISTRIBUCIÓN POR GÉNERO')\n",
        "ay = df[\"GENERO\"].value_counts()\n",
        "mylabels = [\"FEMENINO\", \"MASCULINO\"]\n",
        "plt.pie(ay, labels = mylabels, startangle = 90, shadow = True)\n",
        "plt.show()"
      ],
      "metadata": {
        "id": "7QWO0UhOs7Bh",
        "colab": {
          "base_uri": "https://localhost:8080/",
          "height": 521
        },
        "outputId": "2e3a88a5-5f10-479c-80a1-41a5f1d9547c"
      },
      "execution_count": null,
      "outputs": [
        {
          "output_type": "display_data",
          "data": {
            "text/plain": [
              "<Figure size 800x600 with 1 Axes>"
            ],
            "image/png": "[encoded data removed]"
          },
          "metadata": {}
        }
      ]
    },
    {
      "cell_type": "code",
      "source": [
        "print(\"FEMENINO  {:.2f} %\".format(df.apply(lambda x: x['GENERO'] == 'F', axis=1).sum() / len(df) *100))\n",
        "print(\"MASCULINO {:.2f} %\".format(df.apply(lambda x: x['GENERO'] == 'M', axis=1).sum() / len(df) *100))"
      ],
      "metadata": {
        "id": "bbxTHZgit2XO",
        "colab": {
          "base_uri": "https://localhost:8080/"
        },
        "outputId": "827c8370-dc9d-488d-d6a5-4cde897f6882"
      },
      "execution_count": null,
      "outputs": [
        {
          "output_type": "stream",
          "name": "stdout",
          "text": [
            "FEMENINO  52.93 %\n",
            "MASCULINO 47.07 %\n"
          ]
        }
      ]
    },
    {
      "cell_type": "code",
      "source": [
        "# INTENTO PARA GENERAR GRAFICA CON PORCENTAJES PARA GENERO\n",
        "genero = df[\"GENERO\"].value_counts()\n",
        "plt.subplot(1,2,1)\n",
        "genero.plot(kind=\"pie\", autopct='%1.01f%%')\n",
        "plt.title(\"GENERO\")\n",
        "#plt.suptitle(\"suptitle\")\n",
        "\n",
        "plt.subplot(1,2,2)\n",
        "genero.plot(kind=\"bar\")\n",
        "plt.title(\"GENERO\")\n",
        "plt.suptitle(\"DISTRIBUCIÓN POR GÉNERO\")\n",
        "plt.show()"
      ],
      "metadata": {
        "colab": {
          "base_uri": "https://localhost:8080/",
          "height": 495
        },
        "id": "C8tOVTWYI6Ns",
        "outputId": "ed6678f7-3e20-4938-b3c6-f24505dd5654"
      },
      "execution_count": null,
      "outputs": [
        {
          "output_type": "display_data",
          "data": {
            "text/plain": [
              "<Figure size 640x480 with 2 Axes>"
            ],
            "image/png": "[encoded data removed]"
          },
          "metadata": {}
        }
      ]
    },
    {
      "cell_type": "code",
      "source": [
        "#Estado civil del usuario. Valores de chequeo: V - Viudo; E - Separado ; U - Unión Libre ; C - Casado; S - Soltero; I - Indiferente ,  N No Ingresado\n",
        "df[\"ESTADO_CIVIL\"].value_counts()"
      ],
      "metadata": {
        "id": "ThLuyqJvxGth",
        "colab": {
          "base_uri": "https://localhost:8080/"
        },
        "outputId": "366611ce-0957-478e-8e34-634a28d524fc"
      },
      "execution_count": null,
      "outputs": [
        {
          "output_type": "execute_result",
          "data": {
            "text/plain": [
              "ESTADO_CIVIL\n",
              "N    56620\n",
              "S    25091\n",
              "C     7067\n",
              "U     7056\n",
              "I     3030\n",
              "E      936\n",
              "V      200\n",
              "Name: count, dtype: int64"
            ]
          },
          "metadata": {},
          "execution_count": 19
        }
      ]
    },
    {
      "cell_type": "code",
      "source": [
        "df[\"ESTADO_CIVIL\"].unique()"
      ],
      "metadata": {
        "id": "D9ppfPZ-zz8K",
        "colab": {
          "base_uri": "https://localhost:8080/"
        },
        "outputId": "97893aa7-d350-4cc6-810e-6ce91fb28699"
      },
      "execution_count": null,
      "outputs": [
        {
          "output_type": "execute_result",
          "data": {
            "text/plain": [
              "array(['N', 'E', 'S', 'C', 'I', 'U', 'V'], dtype=object)"
            ]
          },
          "metadata": {},
          "execution_count": 20
        }
      ]
    },
    {
      "cell_type": "code",
      "source": [
        "plt.figure(figsize=(8,6))\n",
        "plt.title('ESTADO CIVIL')\n",
        "ay = df[\"ESTADO_CIVIL\"].value_counts()\n",
        "#mylabels = df[\"ESTADO_CIVIL\"].unique() #[\"V-Viudo\", \"E-Separado\", \"U-Unión Libre\", \"C-Casado\", \"S-Soltero\", \"I-Indiferente\", \"N-No Ingresado\"]\n",
        "mylabels = [\"S-Soltero\",\"N-No Ingresado\", \"U-Unión Libre\",\"I-Indiferente\" ,\"C-Casado\",\"E-Separado\",\"V-Viudo\"]\n",
        "plt.pie(df[\"ESTADO_CIVIL\"].value_counts(),  startangle = 180,shadow = True)\n",
        "plt.legend(mylabels, loc='lower right',)\n",
        "plt.show()"
      ],
      "metadata": {
        "id": "P0V9Jt8uyHIT",
        "colab": {
          "base_uri": "https://localhost:8080/",
          "height": 521
        },
        "outputId": "5612681f-29e9-4ab1-c924-7a0b64edd762"
      },
      "execution_count": null,
      "outputs": [
        {
          "output_type": "display_data",
          "data": {
            "text/plain": [
              "<Figure size 800x600 with 1 Axes>"
            ],
            "image/png": "[encoded data removed]"
          },
          "metadata": {}
        }
      ]
    },
    {
      "cell_type": "code",
      "source": [
        "print(\"SOLTERO  {:.2f} %\".format(df.apply(lambda x: x['ESTADO_CIVIL'] == 'S', axis=1).sum() / len(df) *100))\n",
        "print(\"UNION LIBRE {:.2f} %\".format(df.apply(lambda x: x['ESTADO_CIVIL'] == 'U', axis=1).sum() / len(df) *100))\n",
        "print(\"CASADO {:.2f} %\".format(df.apply(lambda x: x['ESTADO_CIVIL'] == 'C', axis=1).sum() / len(df) *100))\n",
        "print(\"VIUDO {:.2f} %\".format(df.apply(lambda x: x['ESTADO_CIVIL'] == 'V', axis=1).sum() / len(df) *100))\n",
        "print(\"SEPARADO {:.2f} %\".format(df.apply(lambda x: x['ESTADO_CIVIL'] == 'E', axis=1).sum() / len(df) *100))\n",
        "print(\"INDIFERENTE {:.2f} %\".format(df.apply(lambda x: x['ESTADO_CIVIL'] == 'I', axis=1).sum() / len(df) *100))\n",
        "print(\"NO INGRESADO {:.2f} %\".format(df.apply(lambda x: x['ESTADO_CIVIL'] == 'N', axis=1).sum() / len(df) *100))\n"
      ],
      "metadata": {
        "id": "s7pYhWl22vIQ",
        "colab": {
          "base_uri": "https://localhost:8080/"
        },
        "outputId": "f72b9a66-7e6f-4d18-cf09-9f5822be3af8"
      },
      "execution_count": null,
      "outputs": [
        {
          "output_type": "stream",
          "name": "stdout",
          "text": [
            "SOLTERO  25.09 %\n",
            "UNION LIBRE 7.06 %\n",
            "CASADO 7.07 %\n",
            "VIUDO 0.20 %\n",
            "SEPARADO 0.94 %\n",
            "INDIFERENTE 3.03 %\n",
            "NO INGRESADO 56.62 %\n"
          ]
        }
      ]
    },
    {
      "cell_type": "code",
      "source": [
        "plt.xlabel(\"ESTADO_CIVIL\")\n",
        "plt.ylabel(\"NÚMERO DE PERSONAS\")\n",
        "plt.title(\"DISTRIBUCIÓN POR ESTADO CIVIL\")\n",
        "df[\"ESTADO_CIVIL\"].value_counts().plot(kind='bar', figsize=(8,4))\n"
      ],
      "metadata": {
        "colab": {
          "base_uri": "https://localhost:8080/",
          "height": 424
        },
        "id": "KPFFcrHYS-rR",
        "outputId": "6b9094d9-1108-44e6-f7dc-dd8006a13d27"
      },
      "execution_count": null,
      "outputs": [
        {
          "output_type": "execute_result",
          "data": {
            "text/plain": [
              "<Axes: title={'center': 'DISTRIBUCIÓN POR ESTADO CIVIL'}, xlabel='ESTADO_CIVIL', ylabel='NÚMERO DE PERSONAS'>"
            ]
          },
          "metadata": {},
          "execution_count": 27
        },
        {
          "output_type": "display_data",
          "data": {
            "text/plain": [
              "<Figure size 800x400 with 1 Axes>"
            ],
            "image/png": "[encoded data removed]"
          },
          "metadata": {}
        }
      ]
    },
    {
      "cell_type": "markdown",
      "source": [
        "Análisis ESTRATO"
      ],
      "metadata": {
        "id": "3EgUh82Dglwx"
      }
    },
    {
      "cell_type": "code",
      "source": [
        "#Estado civil del usuario. Valores de chequeo: V - Viudo; E - Separado ; U - Unión Libre ; C - Casado; S - Soltero; I - Indiferente ,  N No Ingresado\n",
        "df[\"ESTRATO\"].value_counts()"
      ],
      "metadata": {
        "colab": {
          "base_uri": "https://localhost:8080/"
        },
        "id": "RzShYRrAgo74",
        "outputId": "28091a7e-95c3-48ad-ee52-d4c95d2390d2"
      },
      "execution_count": null,
      "outputs": [
        {
          "output_type": "execute_result",
          "data": {
            "text/plain": [
              "ESTRATO\n",
              "1    44380\n",
              "2    36679\n",
              "3    16150\n",
              "4     2133\n",
              "5      485\n",
              "6      173\n",
              "Name: count, dtype: int64"
            ]
          },
          "metadata": {},
          "execution_count": 28
        }
      ]
    },
    {
      "cell_type": "code",
      "source": [
        "df[\"ESTRATO\"].unique()"
      ],
      "metadata": {
        "colab": {
          "base_uri": "https://localhost:8080/"
        },
        "id": "o0Puxkpbg5z7",
        "outputId": "4c15f7ea-cc7e-4157-9a0d-776b5fc0d68b"
      },
      "execution_count": null,
      "outputs": [
        {
          "output_type": "execute_result",
          "data": {
            "text/plain": [
              "array([2, 1, 3, 4, 6, 5])"
            ]
          },
          "metadata": {},
          "execution_count": 30
        }
      ]
    },
    {
      "cell_type": "code",
      "source": [
        "plt.figure(figsize=(8, 6))\n",
        "plt.title('ESTRATO')\n",
        "ay = df[\"ESTRATO\"].value_counts()\n",
        "mylabels = ['1', '2', '3', '4', '5,', '6']\n",
        "plt.pie(df[\"ESTRATO\"].value_counts(),  startangle = 180,shadow = True)\n",
        "plt.legend(mylabels, loc='lower right',)\n",
        "plt.show()"
      ],
      "metadata": {
        "colab": {
          "base_uri": "https://localhost:8080/",
          "height": 521
        },
        "id": "kHIhc7-IhCn6",
        "outputId": "d7cb7626-a8d6-4f62-de06-f98bfa2c6465"
      },
      "execution_count": null,
      "outputs": [
        {
          "output_type": "display_data",
          "data": {
            "text/plain": [
              "<Figure size 800x600 with 1 Axes>"
            ],
            "image/png": "[encoded data removed]"
          },
          "metadata": {}
        }
      ]
    },
    {
      "cell_type": "code",
      "source": [
        "plt.xlabel(\"ESTRATO\")\n",
        "plt.ylabel(\"NÚMERO DE APRENDICES\")\n",
        "plt.title(\"DISTRIBUCIÓN DE APRENDICES POR ESTRATO\")\n",
        "df[\"ESTRATO\"].value_counts().plot(kind='bar', figsize=(8,4))"
      ],
      "metadata": {
        "colab": {
          "base_uri": "https://localhost:8080/",
          "height": 423
        },
        "id": "QZDBgffMkaL2",
        "outputId": "138df135-7624-41b3-9050-8227266cd85d"
      },
      "execution_count": null,
      "outputs": [
        {
          "output_type": "execute_result",
          "data": {
            "text/plain": [
              "<Axes: title={'center': 'DISTRIBUCIÓN DE APRENDICES POR ESTRATO'}, xlabel='ESTRATO', ylabel='NÚMERO DE APRENDICES'>"
            ]
          },
          "metadata": {},
          "execution_count": 47
        },
        {
          "output_type": "display_data",
          "data": {
            "text/plain": [
              "<Figure size 800x400 with 1 Axes>"
            ],
            "image/png": "[encoded data removed]"
          },
          "metadata": {}
        }
      ]
    },
    {
      "cell_type": "code",
      "source": [
        "print(\"ESTRATO 1 {:.2f} %\".format(df.apply(lambda x: x['ESTRATO'] == 1, axis=1).sum() / len(df) *100))\n",
        "print(\"ESTRATO 2 {:.2f} %\".format(df.apply(lambda x: x['ESTRATO'] == 2, axis=1).sum() / len(df) *100))\n",
        "print(\"ESTRATO 3 {:.2f} %\".format(df.apply(lambda x: x['ESTRATO'] == 3, axis=1).sum() / len(df) *100))\n",
        "print(\"ESTRATO 4 {:.2f} %\".format(df.apply(lambda x: x['ESTRATO'] == 4, axis=1).sum() / len(df) *100))\n",
        "print(\"ESTRATO 5 {:.2f} %\".format(df.apply(lambda x: x['ESTRATO'] == 5, axis=1).sum() / len(df) *100))\n",
        "print(\"ESTRATO 6 {:.2f} %\".format(df.apply(lambda x: x['ESTRATO'] == 6, axis=1).sum() / len(df) *100))"
      ],
      "metadata": {
        "colab": {
          "base_uri": "https://localhost:8080/"
        },
        "id": "VrLlWwjUMN1V",
        "outputId": "573176d1-30e1-4ac2-e0e9-d6dfb3e33c33"
      },
      "execution_count": null,
      "outputs": [
        {
          "output_type": "stream",
          "name": "stdout",
          "text": [
            "ESTRATO 1 44.38 %\n",
            "ESTRATO 2 36.68 %\n",
            "ESTRATO 3 16.15 %\n",
            "ESTRATO 4 2.13 %\n",
            "ESTRATO 5 0.48 %\n",
            "ESTRATO 6 0.17 %\n"
          ]
        }
      ]
    },
    {
      "cell_type": "markdown",
      "source": [
        "PUNTAJE ICFES"
      ],
      "metadata": {
        "id": "kT6u7-0qiAV6"
      }
    },
    {
      "cell_type": "code",
      "source": [
        "df[\"PUNTAJE_ICFES\"].value_counts()"
      ],
      "metadata": {
        "colab": {
          "base_uri": "https://localhost:8080/"
        },
        "id": "lo8Iqb-niDSr",
        "outputId": "c5ec35b1-b54a-4bc5-fbed-206a97ca5c5e"
      },
      "execution_count": null,
      "outputs": [
        {
          "output_type": "execute_result",
          "data": {
            "text/plain": [
              "PUNTAJE_ICFES\n",
              "50,00     51\n",
              "45,00     46\n",
              "48,00     41\n",
              "49,00     37\n",
              "300,00    35\n",
              "          ..\n",
              "351,00     1\n",
              "470,00     1\n",
              "591,00     1\n",
              "379,00     1\n",
              "813,00     1\n",
              "Name: count, Length: 467, dtype: int64"
            ]
          },
          "metadata": {},
          "execution_count": 40
        }
      ]
    },
    {
      "cell_type": "code",
      "source": [
        "plt.figure(figsize=(20, 6))\n",
        "df[\"PUNTAJE_ICFES\"].hist()"
      ],
      "metadata": {
        "colab": {
          "base_uri": "https://localhost:8080/",
          "height": 540
        },
        "id": "WHWlEXdYiOYU",
        "outputId": "9c33ddbc-02c9-4e58-9162-e56a58dd2926"
      },
      "execution_count": null,
      "outputs": [
        {
          "output_type": "execute_result",
          "data": {
            "text/plain": [
              "<Axes: >"
            ]
          },
          "metadata": {},
          "execution_count": 43
        },
        {
          "output_type": "display_data",
          "data": {
            "text/plain": [
              "<Figure size 2000x600 with 1 Axes>"
            ],
            "image/png": "[encoded data removed]"
          },
          "metadata": {}
        }
      ]
    },
    {
      "cell_type": "markdown",
      "source": [
        "NIVEL_SISBEN"
      ],
      "metadata": {
        "id": "LpP-7NyX9777"
      }
    },
    {
      "cell_type": "code",
      "source": [
        "df[\"SISBEN\"].value_counts()"
      ],
      "metadata": {
        "colab": {
          "base_uri": "https://localhost:8080/",
          "height": 141
        },
        "id": "_YTOVlAoiozC",
        "outputId": "99c236ca-0776-4220-e1d8-25332bb6cac7"
      },
      "execution_count": null,
      "outputs": [
        {
          "output_type": "error",
          "ename": "NameError",
          "evalue": "name 'df' is not defined",
          "traceback": [
            "\u001b[0;31m---------------------------------------------------------------------------\u001b[0m",
            "\u001b[0;31mNameError\u001b[0m                                 Traceback (most recent call last)",
            "\u001b[0;32m<ipython-input-1-2cd7707076dd>\u001b[0m in \u001b[0;36m<cell line: 1>\u001b[0;34m()\u001b[0m\n\u001b[0;32m----> 1\u001b[0;31m \u001b[0mdf\u001b[0m\u001b[0;34m[\u001b[0m\u001b[0;34m\"SISBEN\"\u001b[0m\u001b[0;34m]\u001b[0m\u001b[0;34m.\u001b[0m\u001b[0mvalue_counts\u001b[0m\u001b[0;34m(\u001b[0m\u001b[0;34m)\u001b[0m\u001b[0;34m\u001b[0m\u001b[0;34m\u001b[0m\u001b[0m\n\u001b[0m",
            "\u001b[0;31mNameError\u001b[0m: name 'df' is not defined"
          ]
        }
      ]
    },
    {
      "cell_type": "code",
      "source": [
        "df[\"SISBEN\"].unique()"
      ],
      "metadata": {
        "colab": {
          "base_uri": "https://localhost:8080/"
        },
        "id": "HDvHGAZD-LMm",
        "outputId": "5bccd847-702b-4254-d83e-da3560e54dc1"
      },
      "execution_count": null,
      "outputs": [
        {
          "output_type": "execute_result",
          "data": {
            "text/plain": [
              "array([nan])"
            ]
          },
          "metadata": {},
          "execution_count": 52
        }
      ]
    },
    {
      "cell_type": "markdown",
      "source": [
        "DBU_HIJOS"
      ],
      "metadata": {
        "id": "HImA1o_-HggX"
      }
    },
    {
      "cell_type": "code",
      "source": [
        "df[\"DBU_HIJOS\"].value_counts()"
      ],
      "metadata": {
        "colab": {
          "base_uri": "https://localhost:8080/"
        },
        "id": "Ayl2ZRNpHkxz",
        "outputId": "8711f8ba-8569-4a3b-ffc7-c2cd6829f3cd"
      },
      "execution_count": null,
      "outputs": [
        {
          "output_type": "execute_result",
          "data": {
            "text/plain": [
              "Series([], Name: count, dtype: int64)"
            ]
          },
          "metadata": {},
          "execution_count": 53
        }
      ]
    },
    {
      "cell_type": "code",
      "source": [
        "df[\"DBU_HIJOS\"].unique()"
      ],
      "metadata": {
        "colab": {
          "base_uri": "https://localhost:8080/"
        },
        "id": "uSmk9z12HxBf",
        "outputId": "dc785eaf-93bc-4054-c8b2-1e91e8cec519"
      },
      "execution_count": null,
      "outputs": [
        {
          "output_type": "execute_result",
          "data": {
            "text/plain": [
              "array([nan])"
            ]
          },
          "metadata": {},
          "execution_count": 54
        }
      ]
    },
    {
      "cell_type": "code",
      "source": [
        "print(\"número de instancias sin valor en DBU_HIJOS: \",df[\"DBU_HIJOS\"].isna().sum())"
      ],
      "metadata": {
        "colab": {
          "base_uri": "https://localhost:8080/"
        },
        "id": "z3EJJ986LnTG",
        "outputId": "30919bbe-1bd7-45a1-912d-d5fec2b45683"
      },
      "execution_count": null,
      "outputs": [
        {
          "output_type": "stream",
          "name": "stdout",
          "text": [
            "número de instancias sin valor en DBU_HIJOS:  38987\n"
          ]
        }
      ]
    },
    {
      "cell_type": "markdown",
      "source": [
        "COD_PAIS_RESIDENCIA"
      ],
      "metadata": {
        "id": "dRHa7-BbMNDV"
      }
    },
    {
      "cell_type": "code",
      "source": [
        "df[\"COD_PAIS_RESISENCIA\"].value_counts()"
      ],
      "metadata": {
        "id": "KHe3zRQCMOEN",
        "colab": {
          "base_uri": "https://localhost:8080/"
        },
        "outputId": "276a5d51-b232-43e6-d929-c32619b98e2a"
      },
      "execution_count": null,
      "outputs": [
        {
          "output_type": "execute_result",
          "data": {
            "text/plain": [
              "COD_PAIS_RESISENCIA\n",
              "57     99688\n",
              "58        55\n",
              "51        40\n",
              "593       34\n",
              "147       31\n",
              "34        27\n",
              "54        19\n",
              "185       18\n",
              "56        16\n",
              "52        11\n",
              "1         10\n",
              "507        9\n",
              "504        6\n",
              "506        5\n",
              "591        4\n",
              "39         3\n",
              "505        3\n",
              "49         3\n",
              "123        2\n",
              "180        2\n",
              "595        2\n",
              "503        1\n",
              "106        1\n",
              "43         1\n",
              "188        1\n",
              "46         1\n",
              "297        1\n",
              "178        1\n",
              "189        1\n",
              "55         1\n",
              "61         1\n",
              "53         1\n",
              "81         1\n",
              "Name: count, dtype: int64"
            ]
          },
          "metadata": {},
          "execution_count": 55
        }
      ]
    },
    {
      "cell_type": "code",
      "source": [
        "df[\"COD_PAIS_RESISENCIA\"].unique()"
      ],
      "metadata": {
        "colab": {
          "base_uri": "https://localhost:8080/"
        },
        "id": "RDDb-jX6Mo4l",
        "outputId": "6ef46185-31e7-4a57-9a23-7b544e00acf9"
      },
      "execution_count": null,
      "outputs": [
        {
          "output_type": "execute_result",
          "data": {
            "text/plain": [
              "array([ 57,  58, 591, 593,  54,  52,  51, 506,  56,  34,   1, 507, 123,\n",
              "       185, 505, 147, 504,  53,  61,  55, 180, 189, 595, 297,  49, 178,\n",
              "        39,  46, 188,  43, 106, 503,  81])"
            ]
          },
          "metadata": {},
          "execution_count": 56
        }
      ]
    },
    {
      "cell_type": "code",
      "source": [
        "print(\"Número de valores únicos: \",len(df[\"COD_PAIS_RESISENCIA\"].unique()))"
      ],
      "metadata": {
        "colab": {
          "base_uri": "https://localhost:8080/"
        },
        "id": "OhC1GZ4gQP99",
        "outputId": "fd9188f6-a559-4b8b-b9ec-87abffcc1f0e"
      },
      "execution_count": null,
      "outputs": [
        {
          "output_type": "stream",
          "name": "stdout",
          "text": [
            "Número de valores únicos:  33\n"
          ]
        }
      ]
    },
    {
      "cell_type": "code",
      "source": [
        "frecuencia = df[\"COD_PAIS_RESISENCIA\"].value_counts()\n",
        "total_valores = len(df[\"COD_PAIS_RESISENCIA\"])\n",
        "for pais, conteo in frecuencia.items():\n",
        "    porcentaje = (conteo / total_valores) * 100\n",
        "    print(f\"País: {pais}, Frecuencia: {conteo}, Porcentaje: {porcentaje:.2f}%\")"
      ],
      "metadata": {
        "colab": {
          "base_uri": "https://localhost:8080/"
        },
        "id": "CONw_G_KRdp1",
        "outputId": "0ec09f57-bba0-4d7f-a821-490c9c43959e"
      },
      "execution_count": null,
      "outputs": [
        {
          "output_type": "stream",
          "name": "stdout",
          "text": [
            "País: 57, Frecuencia: 99688, Porcentaje: 99.69%\n",
            "País: 58, Frecuencia: 55, Porcentaje: 0.06%\n",
            "País: 51, Frecuencia: 40, Porcentaje: 0.04%\n",
            "País: 593, Frecuencia: 34, Porcentaje: 0.03%\n",
            "País: 147, Frecuencia: 31, Porcentaje: 0.03%\n",
            "País: 34, Frecuencia: 27, Porcentaje: 0.03%\n",
            "País: 54, Frecuencia: 19, Porcentaje: 0.02%\n",
            "País: 185, Frecuencia: 18, Porcentaje: 0.02%\n",
            "País: 56, Frecuencia: 16, Porcentaje: 0.02%\n",
            "País: 52, Frecuencia: 11, Porcentaje: 0.01%\n",
            "País: 1, Frecuencia: 10, Porcentaje: 0.01%\n",
            "País: 507, Frecuencia: 9, Porcentaje: 0.01%\n",
            "País: 504, Frecuencia: 6, Porcentaje: 0.01%\n",
            "País: 506, Frecuencia: 5, Porcentaje: 0.01%\n",
            "País: 591, Frecuencia: 4, Porcentaje: 0.00%\n",
            "País: 39, Frecuencia: 3, Porcentaje: 0.00%\n",
            "País: 505, Frecuencia: 3, Porcentaje: 0.00%\n",
            "País: 49, Frecuencia: 3, Porcentaje: 0.00%\n",
            "País: 123, Frecuencia: 2, Porcentaje: 0.00%\n",
            "País: 180, Frecuencia: 2, Porcentaje: 0.00%\n",
            "País: 595, Frecuencia: 2, Porcentaje: 0.00%\n",
            "País: 503, Frecuencia: 1, Porcentaje: 0.00%\n",
            "País: 106, Frecuencia: 1, Porcentaje: 0.00%\n",
            "País: 43, Frecuencia: 1, Porcentaje: 0.00%\n",
            "País: 188, Frecuencia: 1, Porcentaje: 0.00%\n",
            "País: 46, Frecuencia: 1, Porcentaje: 0.00%\n",
            "País: 297, Frecuencia: 1, Porcentaje: 0.00%\n",
            "País: 178, Frecuencia: 1, Porcentaje: 0.00%\n",
            "País: 189, Frecuencia: 1, Porcentaje: 0.00%\n",
            "País: 55, Frecuencia: 1, Porcentaje: 0.00%\n",
            "País: 61, Frecuencia: 1, Porcentaje: 0.00%\n",
            "País: 53, Frecuencia: 1, Porcentaje: 0.00%\n",
            "País: 81, Frecuencia: 1, Porcentaje: 0.00%\n"
          ]
        }
      ]
    },
    {
      "cell_type": "code",
      "source": [
        "plt.figure(figsize=(12, 8))\n",
        "plt.title('COD_PAIS_RESIDENCIA')\n",
        "ay = df[\"COD_PAIS_RESISENCIA\"].value_counts()\n",
        "mylabels = [57,  58,  34,  56,  32, 49, 61,  40, 351,  54,  52, 147, 593,\n",
        "        51,  39]\n",
        "plt.pie(df[\"COD_PAIS_RESISENCIA\"].value_counts(),  startangle = 180,shadow = True)\n",
        "plt.legend(mylabels, loc='lower right',)\n",
        "plt.show()"
      ],
      "metadata": {
        "colab": {
          "base_uri": "https://localhost:8080/",
          "height": 675
        },
        "id": "x0seUHNZM77l",
        "outputId": "4b69350d-2da0-4329-cee5-1a4505df00e9"
      },
      "execution_count": null,
      "outputs": [
        {
          "output_type": "display_data",
          "data": {
            "text/plain": [
              "<Figure size 1200x800 with 1 Axes>"
            ],
            "image/png": "[encoded data removed]"
          },
          "metadata": {}
        }
      ]
    },
    {
      "cell_type": "code",
      "source": [
        "plt.xlabel(\"PAIS DE RESIDENCIA\")\n",
        "plt.ylabel(\"No. DE APRENDICES\")\n",
        "plt.title(\"DISTRIBUCIÓN DE APRENDICES POR PAIS DE RESIDENCIA\")\n",
        "df[\"COD_PAIS_RESISENCIA\"].value_counts().plot(kind='bar',  figsize=(8,4))"
      ],
      "metadata": {
        "colab": {
          "base_uri": "https://localhost:8080/",
          "height": 441
        },
        "id": "bgSkbOp-lV2e",
        "outputId": "442f7413-4bb7-4940-d17e-62da8fb04c4a"
      },
      "execution_count": null,
      "outputs": [
        {
          "output_type": "execute_result",
          "data": {
            "text/plain": [
              "<Axes: title={'center': 'DISTRIBUCIÓN DE APRENDICES POR PAIS DE RESIDENCIA'}, xlabel='COD_PAIS_RESISENCIA', ylabel='No. DE APRENDICES'>"
            ]
          },
          "metadata": {},
          "execution_count": 65
        },
        {
          "output_type": "display_data",
          "data": {
            "text/plain": [
              "<Figure size 800x400 with 1 Axes>"
            ],
            "image/png": "[encoded data removed]"
          },
          "metadata": {}
        }
      ]
    },
    {
      "cell_type": "markdown",
      "source": [
        "COD_DPTO_RESIDENCIA"
      ],
      "metadata": {
        "id": "C3oIlGC2Nq4V"
      }
    },
    {
      "cell_type": "code",
      "source": [
        "df[\"COD_DPTO_RESIDENCIA\"].value_counts()"
      ],
      "metadata": {
        "id": "dgCjfXS-NsMN",
        "colab": {
          "base_uri": "https://localhost:8080/"
        },
        "outputId": "576cb922-4a96-42ba-82f6-194861bcefe6"
      },
      "execution_count": null,
      "outputs": [
        {
          "output_type": "execute_result",
          "data": {
            "text/plain": [
              "COD_DPTO_RESIDENCIA\n",
              "57011     16866\n",
              "57005     12392\n",
              "57076      8199\n",
              "57025      6871\n",
              "57068      6212\n",
              "          ...  \n",
              "593015        1\n",
              "595010        1\n",
              "52020         1\n",
              "185004        1\n",
              "58016         1\n",
              "Name: count, Length: 164, dtype: int64"
            ]
          },
          "metadata": {},
          "execution_count": 66
        }
      ]
    },
    {
      "cell_type": "code",
      "source": [
        "df[\"COD_DPTO_RESIDENCIA\"].unique()"
      ],
      "metadata": {
        "id": "_xrFNdmZN8Lc",
        "colab": {
          "base_uri": "https://localhost:8080/"
        },
        "outputId": "086db23a-f44e-424b-aa05-5a5ccf6a299b"
      },
      "execution_count": null,
      "outputs": [
        {
          "output_type": "execute_result",
          "data": {
            "text/plain": [
              "array([ 57050,  57013,  57054,  57005,  57025,  57015,  57008,  57017,\n",
              "        57027,  57076,  57070,  57068,  57011,  57041,  57099,  57047,\n",
              "        57052,  57073,  57088,  57066,  57085,  57095,  57018,  57063,\n",
              "        57023,  57044,  57020,  57019,  57086,  57081,  58011, 591002,\n",
              "        57094, 593020,  54010,  57091, 593001,  52021,  51003,  58022,\n",
              "        57097,  58015, 506007,  56007,  34014,   1003,  58007,  52023,\n",
              "       507008, 123003,  56013,  58019,  51013,  52016,   1008,  58013,\n",
              "        34009,  51007,  58014,  52028, 185029, 505010, 999999, 147013,\n",
              "        51001, 506003,  56012, 147043, 504007,  58004, 593008,  34062,\n",
              "        53007,  61006,  34018, 147014,  34051, 147034, 185030,  34013,\n",
              "       593018,  51011, 147018,  55003,  58006, 180023,  54008,  52019,\n",
              "       189051,  34038, 591004, 147016, 147035, 185001,  34058, 593016,\n",
              "         1007,  54009,  34042, 185004,  52020,   1001,  51005, 593019,\n",
              "       595010, 593015, 147003, 297001,  51018,  52005,  49004,  34060,\n",
              "       178065,  56006, 147046,  56002,  49007,  39052,  54018, 147041,\n",
              "        58020, 147025, 593007,  46003,  52017,  58024, 593003, 185021,\n",
              "        51010, 185024,  34041, 504006,  51024, 185028,  43008, 106001,\n",
              "       591007, 147032, 593009,  51021,  39111,  52027,  34022,  54001,\n",
              "       506002, 503006,  58012,  58008,  51012, 147044,  39064, 507010,\n",
              "        52001,  81029, 593017, 185019,  54017,  51002,  34007, 593004,\n",
              "        51022, 595012,  34059,  58016])"
            ]
          },
          "metadata": {},
          "execution_count": 67
        }
      ]
    },
    {
      "cell_type": "code",
      "source": [
        "print(\"Número de valores únicos: \",len(df[\"COD_DPTO_RESIDENCIA\"].unique()))"
      ],
      "metadata": {
        "colab": {
          "base_uri": "https://localhost:8080/"
        },
        "id": "Asm8pqE7TLUN",
        "outputId": "7f21f56a-8785-40a0-8f0b-808ba29acabc"
      },
      "execution_count": null,
      "outputs": [
        {
          "output_type": "stream",
          "name": "stdout",
          "text": [
            "Número de valores únicos:  164\n"
          ]
        }
      ]
    },
    {
      "cell_type": "code",
      "source": [
        "frecuencia = df[\"COD_DPTO_RESIDENCIA\"].value_counts()\n",
        "total_valores = len(df[\"COD_DPTO_RESIDENCIA\"])\n",
        "for departamento, conteo in frecuencia.items():\n",
        "    porcentaje = (conteo / total_valores) * 100\n",
        "    print(f\"Departamento: {departamento}, Frecuencia: {conteo}, Porcentaje: {porcentaje:.2f}%\")"
      ],
      "metadata": {
        "colab": {
          "base_uri": "https://localhost:8080/"
        },
        "id": "qRFsC3RtStq9",
        "outputId": "fd990de3-c6dc-46a0-c9da-c62e55adb453"
      },
      "execution_count": null,
      "outputs": [
        {
          "output_type": "stream",
          "name": "stdout",
          "text": [
            "Departamento: 57011, Frecuencia: 16866, Porcentaje: 16.87%\n",
            "Departamento: 57005, Frecuencia: 12392, Porcentaje: 12.39%\n",
            "Departamento: 57076, Frecuencia: 8199, Porcentaje: 8.20%\n",
            "Departamento: 57025, Frecuencia: 6871, Porcentaje: 6.87%\n",
            "Departamento: 57068, Frecuencia: 6212, Porcentaje: 6.21%\n",
            "Departamento: 57008, Frecuencia: 5020, Porcentaje: 5.02%\n",
            "Departamento: 57013, Frecuencia: 4411, Porcentaje: 4.41%\n",
            "Departamento: 57073, Frecuencia: 3598, Porcentaje: 3.60%\n",
            "Departamento: 57015, Frecuencia: 3069, Porcentaje: 3.07%\n",
            "Departamento: 57054, Frecuencia: 2877, Porcentaje: 2.88%\n",
            "Departamento: 57041, Frecuencia: 2704, Porcentaje: 2.70%\n",
            "Departamento: 57052, Frecuencia: 2415, Porcentaje: 2.42%\n",
            "Departamento: 57020, Frecuencia: 2345, Porcentaje: 2.34%\n",
            "Departamento: 57066, Frecuencia: 2332, Porcentaje: 2.33%\n",
            "Departamento: 57023, Frecuencia: 2297, Porcentaje: 2.30%\n",
            "Departamento: 57019, Frecuencia: 2190, Porcentaje: 2.19%\n",
            "Departamento: 57047, Frecuencia: 2147, Porcentaje: 2.15%\n",
            "Departamento: 57017, Frecuencia: 2117, Porcentaje: 2.12%\n",
            "Departamento: 57050, Frecuencia: 2081, Porcentaje: 2.08%\n",
            "Departamento: 57063, Frecuencia: 1940, Porcentaje: 1.94%\n",
            "Departamento: 57070, Frecuencia: 1628, Porcentaje: 1.63%\n",
            "Departamento: 57044, Frecuencia: 1211, Porcentaje: 1.21%\n",
            "Departamento: 57027, Frecuencia: 916, Porcentaje: 0.92%\n",
            "Departamento: 57085, Frecuencia: 878, Porcentaje: 0.88%\n",
            "Departamento: 57018, Frecuencia: 748, Porcentaje: 0.75%\n",
            "Departamento: 57086, Frecuencia: 747, Porcentaje: 0.75%\n",
            "Departamento: 57081, Frecuencia: 579, Porcentaje: 0.58%\n",
            "Departamento: 57095, Frecuencia: 234, Porcentaje: 0.23%\n",
            "Departamento: 57088, Frecuencia: 199, Porcentaje: 0.20%\n",
            "Departamento: 57099, Frecuencia: 164, Porcentaje: 0.16%\n",
            "Departamento: 57091, Frecuencia: 159, Porcentaje: 0.16%\n",
            "Departamento: 57097, Frecuencia: 81, Porcentaje: 0.08%\n",
            "Departamento: 57094, Frecuencia: 64, Porcentaje: 0.06%\n",
            "Departamento: 58019, Frecuencia: 15, Porcentaje: 0.01%\n",
            "Departamento: 51013, Frecuencia: 15, Porcentaje: 0.01%\n",
            "Departamento: 593020, Frecuencia: 15, Porcentaje: 0.01%\n",
            "Departamento: 58022, Frecuencia: 10, Porcentaje: 0.01%\n",
            "Departamento: 147013, Frecuencia: 10, Porcentaje: 0.01%\n",
            "Departamento: 54008, Frecuencia: 9, Porcentaje: 0.01%\n",
            "Departamento: 56013, Frecuencia: 8, Porcentaje: 0.01%\n",
            "Departamento: 507008, Frecuencia: 8, Porcentaje: 0.01%\n",
            "Departamento: 34051, Frecuencia: 7, Porcentaje: 0.01%\n",
            "Departamento: 58007, Frecuencia: 6, Porcentaje: 0.01%\n",
            "Departamento: 58004, Frecuencia: 5, Porcentaje: 0.01%\n",
            "Departamento: 504007, Frecuencia: 5, Porcentaje: 0.01%\n",
            "Departamento: 185030, Frecuencia: 5, Porcentaje: 0.01%\n",
            "Departamento: 185029, Frecuencia: 5, Porcentaje: 0.01%\n",
            "Departamento: 147035, Frecuencia: 5, Porcentaje: 0.01%\n",
            "Departamento: 54009, Frecuencia: 5, Porcentaje: 0.01%\n",
            "Departamento: 999999, Frecuencia: 5, Porcentaje: 0.01%\n",
            "Departamento: 56007, Frecuencia: 4, Porcentaje: 0.00%\n",
            "Departamento: 1007, Frecuencia: 4, Porcentaje: 0.00%\n",
            "Departamento: 593008, Frecuencia: 4, Porcentaje: 0.00%\n",
            "Departamento: 593018, Frecuencia: 3, Porcentaje: 0.00%\n",
            "Departamento: 147034, Frecuencia: 3, Porcentaje: 0.00%\n",
            "Departamento: 58006, Frecuencia: 3, Porcentaje: 0.00%\n",
            "Departamento: 34038, Frecuencia: 3, Porcentaje: 0.00%\n",
            "Departamento: 34062, Frecuencia: 3, Porcentaje: 0.00%\n",
            "Departamento: 51005, Frecuencia: 3, Porcentaje: 0.00%\n",
            "Departamento: 51001, Frecuencia: 3, Porcentaje: 0.00%\n",
            "Departamento: 185024, Frecuencia: 3, Porcentaje: 0.00%\n",
            "Departamento: 505010, Frecuencia: 3, Porcentaje: 0.00%\n",
            "Departamento: 58014, Frecuencia: 3, Porcentaje: 0.00%\n",
            "Departamento: 51003, Frecuencia: 3, Porcentaje: 0.00%\n",
            "Departamento: 1008, Frecuencia: 3, Porcentaje: 0.00%\n",
            "Departamento: 506007, Frecuencia: 3, Porcentaje: 0.00%\n",
            "Departamento: 58024, Frecuencia: 2, Porcentaje: 0.00%\n",
            "Departamento: 34013, Frecuencia: 2, Porcentaje: 0.00%\n",
            "Departamento: 593019, Frecuencia: 2, Porcentaje: 0.00%\n",
            "Departamento: 593016, Frecuencia: 2, Porcentaje: 0.00%\n",
            "Departamento: 49004, Frecuencia: 2, Porcentaje: 0.00%\n",
            "Departamento: 591004, Frecuencia: 2, Porcentaje: 0.00%\n",
            "Departamento: 58012, Frecuencia: 2, Porcentaje: 0.00%\n",
            "Departamento: 34060, Frecuencia: 2, Porcentaje: 0.00%\n",
            "Departamento: 58015, Frecuencia: 2, Porcentaje: 0.00%\n",
            "Departamento: 180023, Frecuencia: 2, Porcentaje: 0.00%\n",
            "Departamento: 51024, Frecuencia: 2, Porcentaje: 0.00%\n",
            "Departamento: 1001, Frecuencia: 2, Porcentaje: 0.00%\n",
            "Departamento: 51011, Frecuencia: 2, Porcentaje: 0.00%\n",
            "Departamento: 52023, Frecuencia: 2, Porcentaje: 0.00%\n",
            "Departamento: 34018, Frecuencia: 2, Porcentaje: 0.00%\n",
            "Departamento: 147043, Frecuencia: 2, Porcentaje: 0.00%\n",
            "Departamento: 147041, Frecuencia: 2, Porcentaje: 0.00%\n",
            "Departamento: 58011, Frecuencia: 2, Porcentaje: 0.00%\n",
            "Departamento: 51007, Frecuencia: 2, Porcentaje: 0.00%\n",
            "Departamento: 147014, Frecuencia: 2, Porcentaje: 0.00%\n",
            "Departamento: 56002, Frecuencia: 2, Porcentaje: 0.00%\n",
            "Departamento: 123003, Frecuencia: 2, Porcentaje: 0.00%\n",
            "Departamento: 34041, Frecuencia: 1, Porcentaje: 0.00%\n",
            "Departamento: 185028, Frecuencia: 1, Porcentaje: 0.00%\n",
            "Departamento: 51010, Frecuencia: 1, Porcentaje: 0.00%\n",
            "Departamento: 504006, Frecuencia: 1, Porcentaje: 0.00%\n",
            "Departamento: 43008, Frecuencia: 1, Porcentaje: 0.00%\n",
            "Departamento: 106001, Frecuencia: 1, Porcentaje: 0.00%\n",
            "Departamento: 591007, Frecuencia: 1, Porcentaje: 0.00%\n",
            "Departamento: 185021, Frecuencia: 1, Porcentaje: 0.00%\n",
            "Departamento: 147032, Frecuencia: 1, Porcentaje: 0.00%\n",
            "Departamento: 593009, Frecuencia: 1, Porcentaje: 0.00%\n",
            "Departamento: 51021, Frecuencia: 1, Porcentaje: 0.00%\n",
            "Departamento: 593003, Frecuencia: 1, Porcentaje: 0.00%\n",
            "Departamento: 34059, Frecuencia: 1, Porcentaje: 0.00%\n",
            "Departamento: 52017, Frecuencia: 1, Porcentaje: 0.00%\n",
            "Departamento: 39111, Frecuencia: 1, Porcentaje: 0.00%\n",
            "Departamento: 34007, Frecuencia: 1, Porcentaje: 0.00%\n",
            "Departamento: 52001, Frecuencia: 1, Porcentaje: 0.00%\n",
            "Departamento: 507010, Frecuencia: 1, Porcentaje: 0.00%\n",
            "Departamento: 593017, Frecuencia: 1, Porcentaje: 0.00%\n",
            "Departamento: 185019, Frecuencia: 1, Porcentaje: 0.00%\n",
            "Departamento: 39064, Frecuencia: 1, Porcentaje: 0.00%\n",
            "Departamento: 147044, Frecuencia: 1, Porcentaje: 0.00%\n",
            "Departamento: 54017, Frecuencia: 1, Porcentaje: 0.00%\n",
            "Departamento: 51002, Frecuencia: 1, Porcentaje: 0.00%\n",
            "Departamento: 51012, Frecuencia: 1, Porcentaje: 0.00%\n",
            "Departamento: 52027, Frecuencia: 1, Porcentaje: 0.00%\n",
            "Departamento: 58008, Frecuencia: 1, Porcentaje: 0.00%\n",
            "Departamento: 503006, Frecuencia: 1, Porcentaje: 0.00%\n",
            "Departamento: 81029, Frecuencia: 1, Porcentaje: 0.00%\n",
            "Departamento: 506002, Frecuencia: 1, Porcentaje: 0.00%\n",
            "Departamento: 54001, Frecuencia: 1, Porcentaje: 0.00%\n",
            "Departamento: 51022, Frecuencia: 1, Porcentaje: 0.00%\n",
            "Departamento: 595012, Frecuencia: 1, Porcentaje: 0.00%\n",
            "Departamento: 34022, Frecuencia: 1, Porcentaje: 0.00%\n",
            "Departamento: 593004, Frecuencia: 1, Porcentaje: 0.00%\n",
            "Departamento: 147018, Frecuencia: 1, Porcentaje: 0.00%\n",
            "Departamento: 46003, Frecuencia: 1, Porcentaje: 0.00%\n",
            "Departamento: 593007, Frecuencia: 1, Porcentaje: 0.00%\n",
            "Departamento: 189051, Frecuencia: 1, Porcentaje: 0.00%\n",
            "Departamento: 52019, Frecuencia: 1, Porcentaje: 0.00%\n",
            "Departamento: 55003, Frecuencia: 1, Porcentaje: 0.00%\n",
            "Departamento: 61006, Frecuencia: 1, Porcentaje: 0.00%\n",
            "Departamento: 53007, Frecuencia: 1, Porcentaje: 0.00%\n",
            "Departamento: 56012, Frecuencia: 1, Porcentaje: 0.00%\n",
            "Departamento: 506003, Frecuencia: 1, Porcentaje: 0.00%\n",
            "Departamento: 52028, Frecuencia: 1, Porcentaje: 0.00%\n",
            "Departamento: 34009, Frecuencia: 1, Porcentaje: 0.00%\n",
            "Departamento: 58013, Frecuencia: 1, Porcentaje: 0.00%\n",
            "Departamento: 52016, Frecuencia: 1, Porcentaje: 0.00%\n",
            "Departamento: 1003, Frecuencia: 1, Porcentaje: 0.00%\n",
            "Departamento: 34014, Frecuencia: 1, Porcentaje: 0.00%\n",
            "Departamento: 52021, Frecuencia: 1, Porcentaje: 0.00%\n",
            "Departamento: 593001, Frecuencia: 1, Porcentaje: 0.00%\n",
            "Departamento: 54010, Frecuencia: 1, Porcentaje: 0.00%\n",
            "Departamento: 591002, Frecuencia: 1, Porcentaje: 0.00%\n",
            "Departamento: 147016, Frecuencia: 1, Porcentaje: 0.00%\n",
            "Departamento: 185001, Frecuencia: 1, Porcentaje: 0.00%\n",
            "Departamento: 34058, Frecuencia: 1, Porcentaje: 0.00%\n",
            "Departamento: 178065, Frecuencia: 1, Porcentaje: 0.00%\n",
            "Departamento: 147025, Frecuencia: 1, Porcentaje: 0.00%\n",
            "Departamento: 58020, Frecuencia: 1, Porcentaje: 0.00%\n",
            "Departamento: 54018, Frecuencia: 1, Porcentaje: 0.00%\n",
            "Departamento: 39052, Frecuencia: 1, Porcentaje: 0.00%\n",
            "Departamento: 49007, Frecuencia: 1, Porcentaje: 0.00%\n",
            "Departamento: 147046, Frecuencia: 1, Porcentaje: 0.00%\n",
            "Departamento: 56006, Frecuencia: 1, Porcentaje: 0.00%\n",
            "Departamento: 52005, Frecuencia: 1, Porcentaje: 0.00%\n",
            "Departamento: 34042, Frecuencia: 1, Porcentaje: 0.00%\n",
            "Departamento: 51018, Frecuencia: 1, Porcentaje: 0.00%\n",
            "Departamento: 297001, Frecuencia: 1, Porcentaje: 0.00%\n",
            "Departamento: 147003, Frecuencia: 1, Porcentaje: 0.00%\n",
            "Departamento: 593015, Frecuencia: 1, Porcentaje: 0.00%\n",
            "Departamento: 595010, Frecuencia: 1, Porcentaje: 0.00%\n",
            "Departamento: 52020, Frecuencia: 1, Porcentaje: 0.00%\n",
            "Departamento: 185004, Frecuencia: 1, Porcentaje: 0.00%\n",
            "Departamento: 58016, Frecuencia: 1, Porcentaje: 0.00%\n"
          ]
        }
      ]
    },
    {
      "cell_type": "code",
      "source": [
        "plt.figure(figsize=(12, 8))\n",
        "plt.title('COD_DPTO_RESIDENCIA')\n",
        "ay = df[\"COD_DPTO_RESIDENCIA\"].value_counts()\n",
        "mylabels = [557097,  57011,  57005,  57025,  57085,  57017,  57015,  57019,\n",
        "        57023,  57068,  57073,  57018,  57094,  57052,  57076,  57013,\n",
        "        57063,  57041,  57008,  57027,  57050,  57054,  57066,  57070,\n",
        "        57088,  57086,  57047,  57099,  57091,  57020,  57081,  57095,\n",
        "        57044,  58019,  32001,  49010,  56013,  34051,  61006,  40041,\n",
        "       351015,  54008,  52008, 147013, 593020,  58003,  56009,  56004,\n",
        "        51013,  39070,  34046]\n",
        "plt.pie(df[\"COD_DPTO_RESIDENCIA\"].value_counts(),  startangle = 180,shadow = True)\n",
        "plt.legend(mylabels, loc='lower right',)\n",
        "plt.show()"
      ],
      "metadata": {
        "colab": {
          "base_uri": "https://localhost:8080/",
          "height": 1000
        },
        "id": "vz93lxDbOLVd",
        "outputId": "2911dc76-d283-4e41-b53e-96c8dfd203f5"
      },
      "execution_count": null,
      "outputs": [
        {
          "output_type": "display_data",
          "data": {
            "text/plain": [
              "<Figure size 1200x800 with 1 Axes>"
            ],
            "image/png": "[encoded data removed]"
          },
          "metadata": {}
        }
      ]
    },
    {
      "cell_type": "code",
      "source": [
        "plt.xlabel(\"DEPARTAMENTO DE RESIDENCIA\")\n",
        "plt.ylabel(\"No. DE APRENDICES\")\n",
        "plt.title(\"DISTRIBUCIÓN DE APRENDICES POR DPTO DE RESIDENCIA\")\n",
        "df[\"COD_DPTO_RESIDENCIA\"].value_counts().plot(kind='bar',  figsize=(10,8))"
      ],
      "metadata": {
        "colab": {
          "base_uri": "https://localhost:8080/",
          "height": 558
        },
        "id": "7Aadm-Ku6-7D",
        "outputId": "3012247d-534a-41be-be53-0c8d7be937ed"
      },
      "execution_count": null,
      "outputs": [
        {
          "output_type": "execute_result",
          "data": {
            "text/plain": [
              "<Axes: title={'center': 'DISTRIBUCIÓN DE APRENDICES POR DPTO DE RESIDENCIA'}, xlabel='DEPARTAMENTO DE RESIDENCIA', ylabel='No. DE APRENDICES'>"
            ]
          },
          "metadata": {},
          "execution_count": 81
        },
        {
          "output_type": "display_data",
          "data": {
            "text/plain": [
              "<Figure size 720x576 with 1 Axes>"
            ],
            "image/png": "[encoded data removed]"
          },
          "metadata": {
            "needs_background": "light"
          }
        }
      ]
    },
    {
      "cell_type": "markdown",
      "source": [
        "COD_MUNICIPIO_RESIDENCIA"
      ],
      "metadata": {
        "id": "opxE6R9rTy0u"
      }
    },
    {
      "cell_type": "code",
      "source": [
        "df[\"COD_MUNICIPIO_RESIDENCIA\"].value_counts()"
      ],
      "metadata": {
        "colab": {
          "base_uri": "https://localhost:8080/"
        },
        "id": "zKqIHlyCTq-G",
        "outputId": "b1d59ddc-16a0-471e-ec0a-cf9b51fbd0ac"
      },
      "execution_count": null,
      "outputs": [
        {
          "output_type": "execute_result",
          "data": {
            "text/plain": [
              "COD_MUNICIPIO_RESIDENCIA\n",
              "57011001     16862\n",
              "57005001      4745\n",
              "57076001      3570\n",
              "57008001      2838\n",
              "57013001      2731\n",
              "             ...  \n",
              "56006001         1\n",
              "52028001         1\n",
              "57054871         1\n",
              "178065001        1\n",
              "58016001         1\n",
              "Name: count, Length: 1248, dtype: int64"
            ]
          },
          "metadata": {},
          "execution_count": 71
        }
      ]
    },
    {
      "cell_type": "code",
      "source": [
        "print(\"Número de valores únicos: \",len(df[\"COD_MUNICIPIO_RESIDENCIA\"].unique()))"
      ],
      "metadata": {
        "colab": {
          "base_uri": "https://localhost:8080/"
        },
        "id": "V45yKZyjUKhK",
        "outputId": "9307b429-9773-42b2-910b-dbdb3155dfee"
      },
      "execution_count": null,
      "outputs": [
        {
          "output_type": "stream",
          "name": "stdout",
          "text": [
            "Número de valores únicos:  1248\n"
          ]
        }
      ]
    },
    {
      "cell_type": "code",
      "source": [
        "frecuencia = df[\"COD_MUNICIPIO_RESIDENCIA\"].value_counts()\n",
        "total_valores = len(df[\"COD_MUNICIPIO_RESIDENCIA\"])\n",
        "for municipio, conteo in frecuencia.items():\n",
        "    porcentaje = (conteo / total_valores) * 100\n",
        "    print(f\"Municipio: {municipio}, Frecuencia: {conteo}, Porcentaje: {porcentaje:.2f}%\")"
      ],
      "metadata": {
        "colab": {
          "base_uri": "https://localhost:8080/"
        },
        "id": "Yb9TXxROUahG",
        "outputId": "d006fee7-1eff-4b8f-ddd9-217aa52b6872"
      },
      "execution_count": null,
      "outputs": [
        {
          "output_type": "stream",
          "name": "stdout",
          "text": [
            "Municipio: 57011001, Frecuencia: 16862, Porcentaje: 16.86%\n",
            "Municipio: 57005001, Frecuencia: 4745, Porcentaje: 4.75%\n",
            "Municipio: 57076001, Frecuencia: 3570, Porcentaje: 3.57%\n",
            "Municipio: 57008001, Frecuencia: 2838, Porcentaje: 2.84%\n",
            "Municipio: 57013001, Frecuencia: 2731, Porcentaje: 2.73%\n",
            "Municipio: 57068001, Frecuencia: 1807, Porcentaje: 1.81%\n",
            "Municipio: 57054001, Frecuencia: 1696, Porcentaje: 1.70%\n",
            "Municipio: 57073001, Frecuencia: 1630, Porcentaje: 1.63%\n",
            "Municipio: 57066001, Frecuencia: 1317, Porcentaje: 1.32%\n",
            "Municipio: 57025754, Frecuencia: 1212, Porcentaje: 1.21%\n",
            "Municipio: 57050001, Frecuencia: 1183, Porcentaje: 1.18%\n",
            "Municipio: 57047001, Frecuencia: 1138, Porcentaje: 1.14%\n",
            "Municipio: 57063001, Frecuencia: 1120, Porcentaje: 1.12%\n",
            "Municipio: 57017001, Frecuencia: 990, Porcentaje: 0.99%\n",
            "Municipio: 57020001, Frecuencia: 980, Porcentaje: 0.98%\n",
            "Municipio: 57041001, Frecuencia: 931, Porcentaje: 0.93%\n",
            "Municipio: 57019001, Frecuencia: 865, Porcentaje: 0.86%\n",
            "Municipio: 57008758, Frecuencia: 847, Porcentaje: 0.85%\n",
            "Municipio: 57005088, Frecuencia: 819, Porcentaje: 0.82%\n",
            "Municipio: 57052001, Frecuencia: 799, Porcentaje: 0.80%\n",
            "Municipio: 57076109, Frecuencia: 783, Porcentaje: 0.78%\n",
            "Municipio: 57068081, Frecuencia: 779, Porcentaje: 0.78%\n",
            "Municipio: 57023001, Frecuencia: 761, Porcentaje: 0.76%\n",
            "Municipio: 57068276, Frecuencia: 728, Porcentaje: 0.73%\n",
            "Municipio: 57076520, Frecuencia: 618, Porcentaje: 0.62%\n",
            "Municipio: 57070001, Frecuencia: 520, Porcentaje: 0.52%\n",
            "Municipio: 57076834, Frecuencia: 517, Porcentaje: 0.52%\n",
            "Municipio: 57025290, Frecuencia: 502, Porcentaje: 0.50%\n",
            "Municipio: 57005360, Frecuencia: 493, Porcentaje: 0.49%\n",
            "Municipio: 57015001, Frecuencia: 452, Porcentaje: 0.45%\n",
            "Municipio: 57044001, Frecuencia: 440, Porcentaje: 0.44%\n",
            "Municipio: 57085001, Frecuencia: 436, Porcentaje: 0.44%\n",
            "Municipio: 57066170, Frecuencia: 436, Porcentaje: 0.44%\n",
            "Municipio: 57018001, Frecuencia: 420, Porcentaje: 0.42%\n",
            "Municipio: 57015759, Frecuencia: 416, Porcentaje: 0.42%\n",
            "Municipio: 57027001, Frecuencia: 412, Porcentaje: 0.41%\n",
            "Municipio: 57068307, Frecuencia: 406, Porcentaje: 0.41%\n",
            "Municipio: 57068547, Frecuencia: 405, Porcentaje: 0.40%\n",
            "Municipio: 57015238, Frecuencia: 363, Porcentaje: 0.36%\n",
            "Municipio: 57041551, Frecuencia: 358, Porcentaje: 0.36%\n",
            "Municipio: 57005266, Frecuencia: 350, Porcentaje: 0.35%\n",
            "Municipio: 57052835, Frecuencia: 342, Porcentaje: 0.34%\n",
            "Municipio: 57025307, Frecuencia: 319, Porcentaje: 0.32%\n",
            "Municipio: 57005045, Frecuencia: 308, Porcentaje: 0.31%\n",
            "Municipio: 57076111, Frecuencia: 287, Porcentaje: 0.29%\n",
            "Municipio: 57081001, Frecuencia: 280, Porcentaje: 0.28%\n",
            "Municipio: 57025269, Frecuencia: 276, Porcentaje: 0.28%\n",
            "Municipio: 57020011, Frecuencia: 267, Porcentaje: 0.27%\n",
            "Municipio: 57005154, Frecuencia: 263, Porcentaje: 0.26%\n",
            "Municipio: 57025899, Frecuencia: 259, Porcentaje: 0.26%\n",
            "Municipio: 57063130, Frecuencia: 257, Porcentaje: 0.26%\n",
            "Municipio: 57025473, Frecuencia: 251, Porcentaje: 0.25%\n",
            "Municipio: 57025001, Frecuencia: 242, Porcentaje: 0.24%\n",
            "Municipio: 57076364, Frecuencia: 237, Porcentaje: 0.24%\n",
            "Municipio: 57050006, Frecuencia: 234, Porcentaje: 0.23%\n",
            "Municipio: 57076147, Frecuencia: 233, Porcentaje: 0.23%\n",
            "Municipio: 57052356, Frecuencia: 229, Porcentaje: 0.23%\n",
            "Municipio: 57008638, Frecuencia: 226, Porcentaje: 0.23%\n",
            "Municipio: 57041298, Frecuencia: 215, Porcentaje: 0.21%\n",
            "Municipio: 57017380, Frecuencia: 215, Porcentaje: 0.21%\n",
            "Municipio: 57025175, Frecuencia: 214, Porcentaje: 0.21%\n",
            "Municipio: 57005837, Frecuencia: 206, Porcentaje: 0.21%\n",
            "Municipio: 57005615, Frecuencia: 200, Porcentaje: 0.20%\n",
            "Municipio: 57025430, Frecuencia: 198, Porcentaje: 0.20%\n",
            "Municipio: 57044430, Frecuencia: 196, Porcentaje: 0.20%\n",
            "Municipio: 57073268, Frecuencia: 196, Porcentaje: 0.20%\n",
            "Municipio: 57025286, Frecuencia: 193, Porcentaje: 0.19%\n",
            "Municipio: 57095001, Frecuencia: 189, Porcentaje: 0.19%\n",
            "Municipio: 57076892, Frecuencia: 189, Porcentaje: 0.19%\n",
            "Municipio: 57047189, Frecuencia: 185, Porcentaje: 0.18%\n",
            "Municipio: 57068679, Frecuencia: 184, Porcentaje: 0.18%\n",
            "Municipio: 57054498, Frecuencia: 179, Porcentaje: 0.18%\n",
            "Municipio: 57005172, Frecuencia: 176, Porcentaje: 0.18%\n",
            "Municipio: 57086568, Frecuencia: 173, Porcentaje: 0.17%\n",
            "Municipio: 57008078, Frecuencia: 167, Porcentaje: 0.17%\n",
            "Municipio: 57054405, Frecuencia: 165, Porcentaje: 0.17%\n",
            "Municipio: 57023417, Frecuencia: 165, Porcentaje: 0.17%\n",
            "Municipio: 57054874, Frecuencia: 163, Porcentaje: 0.16%\n",
            "Municipio: 57008433, Frecuencia: 160, Porcentaje: 0.16%\n",
            "Municipio: 57005148, Frecuencia: 160, Porcentaje: 0.16%\n",
            "Municipio: 57041396, Frecuencia: 159, Porcentaje: 0.16%\n",
            "Municipio: 57066682, Frecuencia: 158, Porcentaje: 0.16%\n",
            "Municipio: 57005129, Frecuencia: 155, Porcentaje: 0.15%\n",
            "Municipio: 57076275, Frecuencia: 153, Porcentaje: 0.15%\n",
            "Municipio: 57013430, Frecuencia: 153, Porcentaje: 0.15%\n",
            "Municipio: 57013836, Frecuencia: 153, Porcentaje: 0.15%\n",
            "Municipio: 57005212, Frecuencia: 152, Porcentaje: 0.15%\n",
            "Municipio: 57091001, Frecuencia: 145, Porcentaje: 0.14%\n",
            "Municipio: 57023162, Frecuencia: 144, Porcentaje: 0.14%\n",
            "Municipio: 57076130, Frecuencia: 142, Porcentaje: 0.14%\n",
            "Municipio: 57073449, Frecuencia: 142, Porcentaje: 0.14%\n",
            "Municipio: 57025875, Frecuencia: 142, Porcentaje: 0.14%\n",
            "Municipio: 57013244, Frecuencia: 137, Porcentaje: 0.14%\n",
            "Municipio: 57005002, Frecuencia: 136, Porcentaje: 0.14%\n",
            "Municipio: 57013052, Frecuencia: 133, Porcentaje: 0.13%\n",
            "Municipio: 57005893, Frecuencia: 133, Porcentaje: 0.13%\n",
            "Municipio: 57005079, Frecuencia: 132, Porcentaje: 0.13%\n",
            "Municipio: 57063470, Frecuencia: 130, Porcentaje: 0.13%\n",
            "Municipio: 57019698, Frecuencia: 130, Porcentaje: 0.13%\n",
            "Municipio: 57088001, Frecuencia: 129, Porcentaje: 0.13%\n",
            "Municipio: 57015176, Frecuencia: 129, Porcentaje: 0.13%\n",
            "Municipio: 57023466, Frecuencia: 128, Porcentaje: 0.13%\n",
            "Municipio: 57020013, Frecuencia: 127, Porcentaje: 0.13%\n",
            "Municipio: 57023807, Frecuencia: 125, Porcentaje: 0.12%\n",
            "Municipio: 57025126, Frecuencia: 124, Porcentaje: 0.12%\n",
            "Municipio: 57076248, Frecuencia: 123, Porcentaje: 0.12%\n",
            "Municipio: 57025183, Frecuencia: 122, Porcentaje: 0.12%\n",
            "Municipio: 57017174, Frecuencia: 121, Porcentaje: 0.12%\n",
            "Municipio: 57005308, Frecuencia: 119, Porcentaje: 0.12%\n",
            "Municipio: 57019573, Frecuencia: 117, Porcentaje: 0.12%\n",
            "Municipio: 57005579, Frecuencia: 115, Porcentaje: 0.11%\n",
            "Municipio: 57050313, Frecuencia: 113, Porcentaje: 0.11%\n",
            "Municipio: 57068575, Frecuencia: 113, Porcentaje: 0.11%\n",
            "Municipio: 57008296, Frecuencia: 112, Porcentaje: 0.11%\n",
            "Municipio: 57086001, Frecuencia: 111, Porcentaje: 0.11%\n",
            "Municipio: 57070215, Frecuencia: 110, Porcentaje: 0.11%\n",
            "Municipio: 57073168, Frecuencia: 110, Porcentaje: 0.11%\n",
            "Municipio: 57023660, Frecuencia: 110, Porcentaje: 0.11%\n",
            "Municipio: 57086320, Frecuencia: 110, Porcentaje: 0.11%\n",
            "Municipio: 57020400, Frecuencia: 109, Porcentaje: 0.11%\n",
            "Municipio: 57025740, Frecuencia: 108, Porcentaje: 0.11%\n",
            "Municipio: 57081794, Frecuencia: 108, Porcentaje: 0.11%\n",
            "Municipio: 57085010, Frecuencia: 107, Porcentaje: 0.11%\n",
            "Municipio: 57068861, Frecuencia: 107, Porcentaje: 0.11%\n",
            "Municipio: 57068432, Frecuencia: 105, Porcentaje: 0.10%\n",
            "Municipio: 57025817, Frecuencia: 105, Porcentaje: 0.10%\n",
            "Municipio: 57005380, Frecuencia: 105, Porcentaje: 0.10%\n",
            "Municipio: 57068077, Frecuencia: 105, Porcentaje: 0.10%\n",
            "Municipio: 57068190, Frecuencia: 104, Porcentaje: 0.10%\n",
            "Municipio: 57068755, Frecuencia: 103, Porcentaje: 0.10%\n",
            "Municipio: 57076020, Frecuencia: 102, Porcentaje: 0.10%\n",
            "Municipio: 57015572, Frecuencia: 101, Porcentaje: 0.10%\n",
            "Municipio: 57066400, Frecuencia: 100, Porcentaje: 0.10%\n",
            "Municipio: 57063401, Frecuencia: 100, Porcentaje: 0.10%\n",
            "Municipio: 57047288, Frecuencia: 100, Porcentaje: 0.10%\n",
            "Municipio: 57068406, Frecuencia: 99, Porcentaje: 0.10%\n",
            "Municipio: 57076563, Frecuencia: 97, Porcentaje: 0.10%\n",
            "Municipio: 57047980, Frecuencia: 96, Porcentaje: 0.10%\n",
            "Municipio: 57017614, Frecuencia: 95, Porcentaje: 0.10%\n",
            "Municipio: 57005318, Frecuencia: 94, Porcentaje: 0.09%\n",
            "Municipio: 57073411, Frecuencia: 93, Porcentaje: 0.09%\n",
            "Municipio: 57005376, Frecuencia: 93, Porcentaje: 0.09%\n",
            "Municipio: 57063594, Frecuencia: 92, Porcentaje: 0.09%\n",
            "Municipio: 57081736, Frecuencia: 92, Porcentaje: 0.09%\n",
            "Municipio: 57013468, Frecuencia: 91, Porcentaje: 0.09%\n",
            "Municipio: 57070713, Frecuencia: 91, Porcentaje: 0.09%\n",
            "Municipio: 57008573, Frecuencia: 91, Porcentaje: 0.09%\n",
            "Municipio: 57005147, Frecuencia: 90, Porcentaje: 0.09%\n",
            "Municipio: 57041132, Frecuencia: 89, Porcentaje: 0.09%\n",
            "Municipio: 57054518, Frecuencia: 88, Porcentaje: 0.09%\n",
            "Municipio: 57073283, Frecuencia: 88, Porcentaje: 0.09%\n",
            "Municipio: 57005490, Frecuencia: 88, Porcentaje: 0.09%\n",
            "Municipio: 57041306, Frecuencia: 88, Porcentaje: 0.09%\n",
            "Municipio: 57068689, Frecuencia: 87, Porcentaje: 0.09%\n",
            "Municipio: 57019807, Frecuencia: 87, Porcentaje: 0.09%\n",
            "Municipio: 57017873, Frecuencia: 87, Porcentaje: 0.09%\n",
            "Municipio: 57025320, Frecuencia: 87, Porcentaje: 0.09%\n",
            "Municipio: 57073349, Frecuencia: 87, Porcentaje: 0.09%\n",
            "Municipio: 57044035, Frecuencia: 86, Porcentaje: 0.09%\n",
            "Municipio: 57013654, Frecuencia: 86, Porcentaje: 0.09%\n",
            "Municipio: 57047555, Frecuencia: 86, Porcentaje: 0.09%\n",
            "Municipio: 57025214, Frecuencia: 85, Porcentaje: 0.08%\n",
            "Municipio: 57005631, Frecuencia: 85, Porcentaje: 0.08%\n",
            "Municipio: 57068655, Frecuencia: 84, Porcentaje: 0.08%\n",
            "Municipio: 57013657, Frecuencia: 84, Porcentaje: 0.08%\n",
            "Municipio: 57076113, Frecuencia: 84, Porcentaje: 0.08%\n",
            "Municipio: 57085410, Frecuencia: 84, Porcentaje: 0.08%\n",
            "Municipio: 57015516, Frecuencia: 84, Porcentaje: 0.08%\n",
            "Municipio: 57044847, Frecuencia: 84, Porcentaje: 0.08%\n",
            "Municipio: 57063190, Frecuencia: 83, Porcentaje: 0.08%\n",
            "Municipio: 57076895, Frecuencia: 83, Porcentaje: 0.08%\n",
            "Municipio: 57099001, Frecuencia: 83, Porcentaje: 0.08%\n",
            "Municipio: 57076828, Frecuencia: 83, Porcentaje: 0.08%\n",
            "Municipio: 57005250, Frecuencia: 81, Porcentaje: 0.08%\n",
            "Municipio: 57073319, Frecuencia: 80, Porcentaje: 0.08%\n",
            "Municipio: 57097001, Frecuencia: 80, Porcentaje: 0.08%\n",
            "Municipio: 57005440, Frecuencia: 79, Porcentaje: 0.08%\n",
            "Municipio: 57025513, Frecuencia: 78, Porcentaje: 0.08%\n",
            "Municipio: 57041524, Frecuencia: 78, Porcentaje: 0.08%\n",
            "Municipio: 57023555, Frecuencia: 78, Porcentaje: 0.08%\n",
            "Municipio: 57025572, Frecuencia: 77, Porcentaje: 0.08%\n",
            "Municipio: 57020621, Frecuencia: 77, Porcentaje: 0.08%\n",
            "Municipio: 57044279, Frecuencia: 76, Porcentaje: 0.08%\n",
            "Municipio: 57005042, Frecuencia: 76, Porcentaje: 0.08%\n",
            "Municipio: 57086865, Frecuencia: 74, Porcentaje: 0.07%\n",
            "Municipio: 57076318, Frecuencia: 74, Porcentaje: 0.07%\n",
            "Municipio: 57073443, Frecuencia: 74, Porcentaje: 0.07%\n",
            "Municipio: 57020250, Frecuencia: 73, Porcentaje: 0.07%\n",
            "Municipio: 57025743, Frecuencia: 73, Porcentaje: 0.07%\n",
            "Municipio: 57005034, Frecuencia: 72, Porcentaje: 0.07%\n",
            "Municipio: 57068615, Frecuencia: 72, Porcentaje: 0.07%\n",
            "Municipio: 57088564, Frecuencia: 72, Porcentaje: 0.07%\n",
            "Municipio: 57017013, Frecuencia: 72, Porcentaje: 0.07%\n",
            "Municipio: 57025386, Frecuencia: 72, Porcentaje: 0.07%\n",
            "Municipio: 57013442, Frecuencia: 71, Porcentaje: 0.07%\n",
            "Municipio: 57005665, Frecuencia: 71, Porcentaje: 0.07%\n",
            "Municipio: 57005756, Frecuencia: 70, Porcentaje: 0.07%\n",
            "Municipio: 57017042, Frecuencia: 69, Porcentaje: 0.07%\n",
            "Municipio: 57081065, Frecuencia: 68, Porcentaje: 0.07%\n",
            "Municipio: 57005847, Frecuencia: 66, Porcentaje: 0.07%\n",
            "Municipio: 57073275, Frecuencia: 66, Porcentaje: 0.07%\n",
            "Municipio: 57027361, Frecuencia: 65, Porcentaje: 0.07%\n",
            "Municipio: 57008520, Frecuencia: 65, Porcentaje: 0.07%\n",
            "Municipio: 57005591, Frecuencia: 65, Porcentaje: 0.07%\n",
            "Municipio: 57015491, Frecuencia: 65, Porcentaje: 0.07%\n",
            "Municipio: 57047053, Frecuencia: 65, Porcentaje: 0.07%\n",
            "Municipio: 57076122, Frecuencia: 64, Porcentaje: 0.06%\n",
            "Municipio: 57020228, Frecuencia: 64, Porcentaje: 0.06%\n",
            "Municipio: 57076233, Frecuencia: 64, Porcentaje: 0.06%\n",
            "Municipio: 57050568, Frecuencia: 64, Porcentaje: 0.06%\n",
            "Municipio: 57076736, Frecuencia: 63, Porcentaje: 0.06%\n",
            "Municipio: 57008685, Frecuencia: 63, Porcentaje: 0.06%\n",
            "Municipio: 57023686, Frecuencia: 63, Porcentaje: 0.06%\n",
            "Municipio: 57073585, Frecuencia: 63, Porcentaje: 0.06%\n",
            "Municipio: 57023189, Frecuencia: 62, Porcentaje: 0.06%\n",
            "Municipio: 57023855, Frecuencia: 62, Porcentaje: 0.06%\n",
            "Municipio: 57025843, Frecuencia: 62, Porcentaje: 0.06%\n",
            "Municipio: 57019256, Frecuencia: 62, Porcentaje: 0.06%\n",
            "Municipio: 57076400, Frecuencia: 62, Porcentaje: 0.06%\n",
            "Municipio: 57005234, Frecuencia: 61, Porcentaje: 0.06%\n",
            "Municipio: 57017541, Frecuencia: 61, Porcentaje: 0.06%\n",
            "Municipio: 57005679, Frecuencia: 61, Porcentaje: 0.06%\n",
            "Municipio: 57054810, Frecuencia: 61, Porcentaje: 0.06%\n",
            "Municipio: 57019548, Frecuencia: 61, Porcentaje: 0.06%\n",
            "Municipio: 57005030, Frecuencia: 60, Porcentaje: 0.06%\n",
            "Municipio: 57025151, Frecuencia: 60, Porcentaje: 0.06%\n",
            "Municipio: 57047245, Frecuencia: 59, Porcentaje: 0.06%\n",
            "Municipio: 57020770, Frecuencia: 59, Porcentaje: 0.06%\n",
            "Municipio: 57013433, Frecuencia: 59, Porcentaje: 0.06%\n",
            "Municipio: 57005887, Frecuencia: 59, Porcentaje: 0.06%\n",
            "Municipio: 57044650, Frecuencia: 59, Porcentaje: 0.06%\n",
            "Municipio: 57054820, Frecuencia: 58, Porcentaje: 0.06%\n",
            "Municipio: 57094001, Frecuencia: 58, Porcentaje: 0.06%\n",
            "Municipio: 57076036, Frecuencia: 57, Porcentaje: 0.06%\n",
            "Municipio: 57052227, Frecuencia: 57, Porcentaje: 0.06%\n",
            "Municipio: 57020750, Frecuencia: 57, Porcentaje: 0.06%\n",
            "Municipio: 57041006, Frecuencia: 57, Porcentaje: 0.06%\n",
            "Municipio: 57086885, Frecuencia: 57, Porcentaje: 0.06%\n",
            "Municipio: 57070523, Frecuencia: 57, Porcentaje: 0.06%\n",
            "Municipio: 57050573, Frecuencia: 57, Porcentaje: 0.06%\n",
            "Municipio: 57076622, Frecuencia: 57, Porcentaje: 0.06%\n",
            "Municipio: 57005789, Frecuencia: 56, Porcentaje: 0.06%\n",
            "Municipio: 57041615, Frecuencia: 56, Porcentaje: 0.06%\n",
            "Municipio: 57025488, Frecuencia: 56, Porcentaje: 0.06%\n",
            "Municipio: 57073024, Frecuencia: 55, Porcentaje: 0.06%\n",
            "Municipio: 57073124, Frecuencia: 55, Porcentaje: 0.06%\n",
            "Municipio: 57025181, Frecuencia: 55, Porcentaje: 0.06%\n",
            "Municipio: 57015299, Frecuencia: 55, Porcentaje: 0.06%\n",
            "Municipio: 57005890, Frecuencia: 55, Porcentaje: 0.06%\n",
            "Municipio: 57025799, Frecuencia: 54, Porcentaje: 0.05%\n",
            "Municipio: 57025200, Frecuencia: 54, Porcentaje: 0.05%\n",
            "Municipio: 57070670, Frecuencia: 54, Porcentaje: 0.05%\n",
            "Municipio: 57066440, Frecuencia: 53, Porcentaje: 0.05%\n",
            "Municipio: 57052838, Frecuencia: 53, Porcentaje: 0.05%\n",
            "Municipio: 57019130, Frecuencia: 53, Porcentaje: 0.05%\n",
            "Municipio: 57008634, Frecuencia: 53, Porcentaje: 0.05%\n",
            "Municipio: 57008606, Frecuencia: 53, Porcentaje: 0.05%\n",
            "Municipio: 57076616, Frecuencia: 53, Porcentaje: 0.05%\n",
            "Municipio: 57005120, Frecuencia: 53, Porcentaje: 0.05%\n",
            "Municipio: 57025053, Frecuencia: 52, Porcentaje: 0.05%\n",
            "Municipio: 57066045, Frecuencia: 52, Porcentaje: 0.05%\n",
            "Municipio: 57070418, Frecuencia: 52, Porcentaje: 0.05%\n",
            "Municipio: 57066594, Frecuencia: 52, Porcentaje: 0.05%\n",
            "Municipio: 57008560, Frecuencia: 52, Porcentaje: 0.05%\n",
            "Municipio: 57023068, Frecuencia: 52, Porcentaje: 0.05%\n",
            "Municipio: 57044090, Frecuencia: 52, Porcentaje: 0.05%\n",
            "Municipio: 57018753, Frecuencia: 52, Porcentaje: 0.05%\n",
            "Municipio: 57005282, Frecuencia: 52, Porcentaje: 0.05%\n",
            "Municipio: 57005686, Frecuencia: 52, Porcentaje: 0.05%\n",
            "Municipio: 57070820, Frecuencia: 51, Porcentaje: 0.05%\n",
            "Municipio: 57044078, Frecuencia: 51, Porcentaje: 0.05%\n",
            "Municipio: 57044560, Frecuencia: 51, Porcentaje: 0.05%\n",
            "Municipio: 57085440, Frecuencia: 51, Porcentaje: 0.05%\n",
            "Municipio: 57073861, Frecuencia: 50, Porcentaje: 0.05%\n",
            "Municipio: 57005101, Frecuencia: 50, Porcentaje: 0.05%\n",
            "Municipio: 57013006, Frecuencia: 50, Porcentaje: 0.05%\n",
            "Municipio: 57073408, Frecuencia: 50, Porcentaje: 0.05%\n",
            "Municipio: 57068013, Frecuencia: 50, Porcentaje: 0.05%\n",
            "Municipio: 57073504, Frecuencia: 50, Porcentaje: 0.05%\n",
            "Municipio: 57041668, Frecuencia: 49, Porcentaje: 0.05%\n",
            "Municipio: 57020060, Frecuencia: 49, Porcentaje: 0.05%\n",
            "Municipio: 57041016, Frecuencia: 49, Porcentaje: 0.05%\n",
            "Municipio: 57052019, Frecuencia: 48, Porcentaje: 0.05%\n",
            "Municipio: 57005051, Frecuencia: 48, Porcentaje: 0.05%\n",
            "Municipio: 57070742, Frecuencia: 48, Porcentaje: 0.05%\n",
            "Municipio: 57005541, Frecuencia: 48, Porcentaje: 0.05%\n",
            "Municipio: 57025649, Frecuencia: 48, Porcentaje: 0.05%\n",
            "Municipio: 57005284, Frecuencia: 48, Porcentaje: 0.05%\n",
            "Municipio: 57008421, Frecuencia: 48, Porcentaje: 0.05%\n",
            "Municipio: 57005790, Frecuencia: 48, Porcentaje: 0.05%\n",
            "Municipio: 57005031, Frecuencia: 47, Porcentaje: 0.05%\n",
            "Municipio: 57023580, Frecuencia: 47, Porcentaje: 0.05%\n",
            "Municipio: 57070717, Frecuencia: 47, Porcentaje: 0.05%\n",
            "Municipio: 57076126, Frecuencia: 47, Porcentaje: 0.05%\n",
            "Municipio: 57085250, Frecuencia: 47, Porcentaje: 0.05%\n",
            "Municipio: 57020178, Frecuencia: 47, Porcentaje: 0.05%\n",
            "Municipio: 57023570, Frecuencia: 47, Porcentaje: 0.05%\n",
            "Municipio: 57041676, Frecuencia: 47, Porcentaje: 0.05%\n",
            "Municipio: 57005400, Frecuencia: 47, Porcentaje: 0.05%\n",
            "Municipio: 57005040, Frecuencia: 46, Porcentaje: 0.05%\n",
            "Municipio: 57005364, Frecuencia: 46, Porcentaje: 0.05%\n",
            "Municipio: 57005660, Frecuencia: 46, Porcentaje: 0.05%\n",
            "Municipio: 57076306, Frecuencia: 46, Porcentaje: 0.05%\n",
            "Municipio: 57019022, Frecuencia: 46, Porcentaje: 0.05%\n",
            "Municipio: 57019845, Frecuencia: 46, Porcentaje: 0.05%\n",
            "Municipio: 57005138, Frecuencia: 45, Porcentaje: 0.04%\n",
            "Municipio: 57073616, Frecuencia: 45, Porcentaje: 0.04%\n",
            "Municipio: 57023678, Frecuencia: 45, Porcentaje: 0.04%\n",
            "Municipio: 57047318, Frecuencia: 45, Porcentaje: 0.04%\n",
            "Municipio: 57008832, Frecuencia: 45, Porcentaje: 0.04%\n",
            "Municipio: 57070708, Frecuencia: 45, Porcentaje: 0.04%\n",
            "Municipio: 57013160, Frecuencia: 45, Porcentaje: 0.04%\n",
            "Municipio: 57025377, Frecuencia: 45, Porcentaje: 0.04%\n",
            "Municipio: 57005642, Frecuencia: 45, Porcentaje: 0.04%\n",
            "Municipio: 57015753, Frecuencia: 45, Porcentaje: 0.04%\n",
            "Municipio: 57023182, Frecuencia: 45, Porcentaje: 0.04%\n",
            "Municipio: 57005664, Frecuencia: 45, Porcentaje: 0.04%\n",
            "Municipio: 57019473, Frecuencia: 45, Porcentaje: 0.04%\n",
            "Municipio: 57020710, Frecuencia: 44, Porcentaje: 0.04%\n",
            "Municipio: 57070823, Frecuencia: 44, Porcentaje: 0.04%\n",
            "Municipio: 57073217, Frecuencia: 44, Porcentaje: 0.04%\n",
            "Municipio: 57086749, Frecuencia: 44, Porcentaje: 0.04%\n",
            "Municipio: 57047030, Frecuencia: 44, Porcentaje: 0.04%\n",
            "Municipio: 57025245, Frecuencia: 44, Porcentaje: 0.04%\n",
            "Municipio: 57050318, Frecuencia: 44, Porcentaje: 0.04%\n",
            "Municipio: 57073555, Frecuencia: 43, Porcentaje: 0.04%\n",
            "Municipio: 57005604, Frecuencia: 43, Porcentaje: 0.04%\n",
            "Municipio: 57020550, Frecuencia: 43, Porcentaje: 0.04%\n",
            "Municipio: 57005368, Frecuencia: 43, Porcentaje: 0.04%\n",
            "Municipio: 57005670, Frecuencia: 43, Porcentaje: 0.04%\n",
            "Municipio: 57073520, Frecuencia: 43, Porcentaje: 0.04%\n",
            "Municipio: 57066088, Frecuencia: 43, Porcentaje: 0.04%\n",
            "Municipio: 57025785, Frecuencia: 43, Porcentaje: 0.04%\n",
            "Municipio: 57073067, Frecuencia: 43, Porcentaje: 0.04%\n",
            "Municipio: 57052678, Frecuencia: 42, Porcentaje: 0.04%\n",
            "Municipio: 57015646, Frecuencia: 42, Porcentaje: 0.04%\n",
            "Municipio: 57025662, Frecuencia: 42, Porcentaje: 0.04%\n",
            "Municipio: 57070678, Frecuencia: 42, Porcentaje: 0.04%\n",
            "Municipio: 57008372, Frecuencia: 42, Porcentaje: 0.04%\n",
            "Municipio: 57020032, Frecuencia: 41, Porcentaje: 0.04%\n",
            "Municipio: 57050689, Frecuencia: 41, Porcentaje: 0.04%\n",
            "Municipio: 57017777, Frecuencia: 41, Porcentaje: 0.04%\n",
            "Municipio: 57099773, Frecuencia: 41, Porcentaje: 0.04%\n",
            "Municipio: 57041770, Frecuencia: 41, Porcentaje: 0.04%\n",
            "Municipio: 57070771, Frecuencia: 41, Porcentaje: 0.04%\n",
            "Municipio: 57005861, Frecuencia: 41, Porcentaje: 0.04%\n",
            "Municipio: 57070110, Frecuencia: 41, Porcentaje: 0.04%\n",
            "Municipio: 57013670, Frecuencia: 41, Porcentaje: 0.04%\n",
            "Municipio: 57015693, Frecuencia: 41, Porcentaje: 0.04%\n",
            "Municipio: 57017486, Frecuencia: 40, Porcentaje: 0.04%\n",
            "Municipio: 57025402, Frecuencia: 40, Porcentaje: 0.04%\n",
            "Municipio: 57070702, Frecuencia: 40, Porcentaje: 0.04%\n",
            "Municipio: 57013780, Frecuencia: 40, Porcentaje: 0.04%\n",
            "Municipio: 57025658, Frecuencia: 40, Porcentaje: 0.04%\n",
            "Municipio: 57073675, Frecuencia: 40, Porcentaje: 0.04%\n",
            "Municipio: 57020238, Frecuencia: 40, Porcentaje: 0.04%\n",
            "Municipio: 57044378, Frecuencia: 40, Porcentaje: 0.04%\n",
            "Municipio: 57047058, Frecuencia: 40, Porcentaje: 0.04%\n",
            "Municipio: 57019142, Frecuencia: 39, Porcentaje: 0.04%\n",
            "Municipio: 57023670, Frecuencia: 39, Porcentaje: 0.04%\n",
            "Municipio: 57020383, Frecuencia: 39, Porcentaje: 0.04%\n",
            "Municipio: 57063548, Frecuencia: 39, Porcentaje: 0.04%\n",
            "Municipio: 57070429, Frecuencia: 39, Porcentaje: 0.04%\n",
            "Municipio: 57054261, Frecuencia: 39, Porcentaje: 0.04%\n",
            "Municipio: 57005055, Frecuencia: 39, Porcentaje: 0.04%\n",
            "Municipio: 57005736, Frecuencia: 38, Porcentaje: 0.04%\n",
            "Municipio: 57076670, Frecuencia: 38, Porcentaje: 0.04%\n",
            "Municipio: 57070221, Frecuencia: 38, Porcentaje: 0.04%\n",
            "Municipio: 57019300, Frecuencia: 38, Porcentaje: 0.04%\n",
            "Municipio: 57005761, Frecuencia: 37, Porcentaje: 0.04%\n",
            "Municipio: 57068895, Frecuencia: 37, Porcentaje: 0.04%\n",
            "Municipio: 57019743, Frecuencia: 37, Porcentaje: 0.04%\n",
            "Municipio: 57015469, Frecuencia: 37, Porcentaje: 0.04%\n",
            "Municipio: 57041791, Frecuencia: 37, Porcentaje: 0.04%\n",
            "Municipio: 57041807, Frecuencia: 37, Porcentaje: 0.04%\n",
            "Municipio: 57076100, Frecuencia: 37, Porcentaje: 0.04%\n",
            "Municipio: 57005858, Frecuencia: 37, Porcentaje: 0.04%\n",
            "Municipio: 57052585, Frecuencia: 37, Porcentaje: 0.04%\n",
            "Municipio: 57070473, Frecuencia: 36, Porcentaje: 0.04%\n",
            "Municipio: 57025019, Frecuencia: 36, Porcentaje: 0.04%\n",
            "Municipio: 57015407, Frecuencia: 36, Porcentaje: 0.04%\n",
            "Municipio: 57025148, Frecuencia: 36, Porcentaje: 0.04%\n",
            "Municipio: 57073624, Frecuencia: 36, Porcentaje: 0.04%\n",
            "Municipio: 57047551, Frecuencia: 36, Porcentaje: 0.04%\n",
            "Municipio: 57023300, Frecuencia: 36, Porcentaje: 0.04%\n",
            "Municipio: 57070235, Frecuencia: 35, Porcentaje: 0.03%\n",
            "Municipio: 57015022, Frecuencia: 35, Porcentaje: 0.03%\n",
            "Municipio: 57015204, Frecuencia: 35, Porcentaje: 0.03%\n",
            "Municipio: 57027205, Frecuencia: 35, Porcentaje: 0.03%\n",
            "Municipio: 57063272, Frecuencia: 35, Porcentaje: 0.03%\n",
            "Municipio: 57005854, Frecuencia: 35, Porcentaje: 0.03%\n",
            "Municipio: 57025260, Frecuencia: 35, Porcentaje: 0.03%\n",
            "Municipio: 57025718, Frecuencia: 35, Porcentaje: 0.03%\n",
            "Municipio: 57076497, Frecuencia: 35, Porcentaje: 0.03%\n",
            "Municipio: 57025745, Frecuencia: 35, Porcentaje: 0.03%\n",
            "Municipio: 57041020, Frecuencia: 35, Porcentaje: 0.03%\n",
            "Municipio: 57041548, Frecuencia: 35, Porcentaje: 0.03%\n",
            "Municipio: 57020175, Frecuencia: 35, Porcentaje: 0.03%\n",
            "Municipio: 57005585, Frecuencia: 35, Porcentaje: 0.03%\n",
            "Municipio: 57008558, Frecuencia: 34, Porcentaje: 0.03%\n",
            "Municipio: 57054003, Frecuencia: 34, Porcentaje: 0.03%\n",
            "Municipio: 57025612, Frecuencia: 34, Porcentaje: 0.03%\n",
            "Municipio: 57005190, Frecuencia: 34, Porcentaje: 0.03%\n",
            "Municipio: 57019318, Frecuencia: 34, Porcentaje: 0.03%\n",
            "Municipio: 57005656, Frecuencia: 34, Porcentaje: 0.03%\n",
            "Municipio: 57025322, Frecuencia: 34, Porcentaje: 0.03%\n",
            "Municipio: 57013140, Frecuencia: 34, Porcentaje: 0.03%\n",
            "Municipio: 57005856, Frecuencia: 34, Porcentaje: 0.03%\n",
            "Municipio: 57070124, Frecuencia: 34, Porcentaje: 0.03%\n",
            "Municipio: 57019455, Frecuencia: 34, Porcentaje: 0.03%\n",
            "Municipio: 57005697, Frecuencia: 34, Porcentaje: 0.03%\n",
            "Municipio: 57085162, Frecuencia: 34, Porcentaje: 0.03%\n",
            "Municipio: 57005142, Frecuencia: 33, Porcentaje: 0.03%\n",
            "Municipio: 57070233, Frecuencia: 33, Porcentaje: 0.03%\n",
            "Municipio: 57073352, Frecuencia: 33, Porcentaje: 0.03%\n",
            "Municipio: 57013212, Frecuencia: 33, Porcentaje: 0.03%\n",
            "Municipio: 57068229, Frecuencia: 33, Porcentaje: 0.03%\n",
            "Municipio: 57086569, Frecuencia: 33, Porcentaje: 0.03%\n",
            "Municipio: 57025758, Frecuencia: 33, Porcentaje: 0.03%\n",
            "Municipio: 57019355, Frecuencia: 33, Porcentaje: 0.03%\n",
            "Municipio: 57025394, Frecuencia: 33, Porcentaje: 0.03%\n",
            "Municipio: 57005237, Frecuencia: 33, Porcentaje: 0.03%\n",
            "Municipio: 57047707, Frecuencia: 33, Porcentaje: 0.03%\n",
            "Municipio: 57041359, Frecuencia: 33, Porcentaje: 0.03%\n",
            "Municipio: 57073055, Frecuencia: 33, Porcentaje: 0.03%\n",
            "Municipio: 57025438, Frecuencia: 33, Porcentaje: 0.03%\n",
            "Municipio: 57005649, Frecuencia: 33, Porcentaje: 0.03%\n",
            "Municipio: 57073148, Frecuencia: 33, Porcentaje: 0.03%\n",
            "Municipio: 57073671, Frecuencia: 33, Porcentaje: 0.03%\n",
            "Municipio: 57068572, Frecuencia: 33, Porcentaje: 0.03%\n",
            "Municipio: 57050226, Frecuencia: 33, Porcentaje: 0.03%\n",
            "Municipio: 57027787, Frecuencia: 32, Porcentaje: 0.03%\n",
            "Municipio: 57018247, Frecuencia: 32, Porcentaje: 0.03%\n",
            "Municipio: 57020045, Frecuencia: 32, Porcentaje: 0.03%\n",
            "Municipio: 57025035, Frecuencia: 32, Porcentaje: 0.03%\n",
            "Municipio: 57019212, Frecuencia: 32, Porcentaje: 0.03%\n",
            "Municipio: 57005690, Frecuencia: 32, Porcentaje: 0.03%\n",
            "Municipio: 57025040, Frecuencia: 32, Porcentaje: 0.03%\n",
            "Municipio: 57019513, Frecuencia: 32, Porcentaje: 0.03%\n",
            "Municipio: 57015686, Frecuencia: 32, Porcentaje: 0.03%\n",
            "Municipio: 57023672, Frecuencia: 32, Porcentaje: 0.03%\n",
            "Municipio: 57063302, Frecuencia: 32, Porcentaje: 0.03%\n",
            "Municipio: 57020517, Frecuencia: 32, Porcentaje: 0.03%\n",
            "Municipio: 57086571, Frecuencia: 32, Porcentaje: 0.03%\n",
            "Municipio: 57019100, Frecuencia: 31, Porcentaje: 0.03%\n",
            "Municipio: 57054720, Frecuencia: 31, Porcentaje: 0.03%\n",
            "Municipio: 57005895, Frecuencia: 31, Porcentaje: 0.03%\n",
            "Municipio: 57052215, Frecuencia: 31, Porcentaje: 0.03%\n",
            "Municipio: 57015047, Frecuencia: 31, Porcentaje: 0.03%\n",
            "Municipio: 57025297, Frecuencia: 31, Porcentaje: 0.03%\n",
            "Municipio: 57027615, Frecuencia: 31, Porcentaje: 0.03%\n",
            "Municipio: 57066687, Frecuencia: 31, Porcentaje: 0.03%\n",
            "Municipio: 57013838, Frecuencia: 31, Porcentaje: 0.03%\n",
            "Municipio: 57086573, Frecuencia: 31, Porcentaje: 0.03%\n",
            "Municipio: 57023500, Frecuencia: 30, Porcentaje: 0.03%\n",
            "Municipio: 57086219, Frecuencia: 30, Porcentaje: 0.03%\n",
            "Municipio: 57070508, Frecuencia: 30, Porcentaje: 0.03%\n",
            "Municipio: 57023675, Frecuencia: 30, Porcentaje: 0.03%\n",
            "Municipio: 57052687, Frecuencia: 30, Porcentaje: 0.03%\n",
            "Municipio: 57005543, Frecuencia: 30, Porcentaje: 0.03%\n",
            "Municipio: 57005607, Frecuencia: 30, Porcentaje: 0.03%\n",
            "Municipio: 57015806, Frecuencia: 30, Porcentaje: 0.03%\n",
            "Municipio: 57050150, Frecuencia: 29, Porcentaje: 0.03%\n",
            "Municipio: 57068101, Frecuencia: 29, Porcentaje: 0.03%\n",
            "Municipio: 57052683, Frecuencia: 29, Porcentaje: 0.03%\n",
            "Municipio: 57017433, Frecuencia: 29, Porcentaje: 0.03%\n",
            "Municipio: 57052320, Frecuencia: 29, Porcentaje: 0.03%\n",
            "Municipio: 57068770, Frecuencia: 29, Porcentaje: 0.03%\n",
            "Municipio: 57050450, Frecuencia: 29, Porcentaje: 0.03%\n",
            "Municipio: 57025594, Frecuencia: 29, Porcentaje: 0.03%\n",
            "Municipio: 57018094, Frecuencia: 28, Porcentaje: 0.03%\n",
            "Municipio: 57019585, Frecuencia: 28, Porcentaje: 0.03%\n",
            "Municipio: 57020295, Frecuencia: 28, Porcentaje: 0.03%\n",
            "Municipio: 57019532, Frecuencia: 28, Porcentaje: 0.03%\n",
            "Municipio: 57025099, Frecuencia: 28, Porcentaje: 0.03%\n",
            "Municipio: 57013873, Frecuencia: 28, Porcentaje: 0.03%\n",
            "Municipio: 57017877, Frecuencia: 28, Porcentaje: 0.03%\n",
            "Municipio: 57047170, Frecuencia: 28, Porcentaje: 0.03%\n",
            "Municipio: 57025815, Frecuencia: 28, Porcentaje: 0.03%\n",
            "Municipio: 57023079, Frecuencia: 28, Porcentaje: 0.03%\n",
            "Municipio: 57018150, Frecuencia: 28, Porcentaje: 0.03%\n",
            "Municipio: 57076606, Frecuencia: 27, Porcentaje: 0.03%\n",
            "Municipio: 57013688, Frecuencia: 27, Porcentaje: 0.03%\n",
            "Municipio: 57052317, Frecuencia: 27, Porcentaje: 0.03%\n",
            "Municipio: 57017524, Frecuencia: 27, Porcentaje: 0.03%\n",
            "Municipio: 57020787, Frecuencia: 27, Porcentaje: 0.03%\n",
            "Municipio: 57070204, Frecuencia: 27, Porcentaje: 0.03%\n",
            "Municipio: 57019450, Frecuencia: 27, Porcentaje: 0.03%\n",
            "Municipio: 57013673, Frecuencia: 27, Porcentaje: 0.03%\n",
            "Municipio: 57052612, Frecuencia: 27, Porcentaje: 0.03%\n",
            "Municipio: 57015322, Frecuencia: 27, Porcentaje: 0.03%\n",
            "Municipio: 57070400, Frecuencia: 27, Porcentaje: 0.03%\n",
            "Municipio: 57023586, Frecuencia: 27, Porcentaje: 0.03%\n",
            "Municipio: 57052250, Frecuencia: 27, Porcentaje: 0.03%\n",
            "Municipio: 57005197, Frecuencia: 27, Porcentaje: 0.03%\n",
            "Municipio: 57025851, Frecuencia: 27, Porcentaje: 0.03%\n",
            "Municipio: 57044874, Frecuencia: 27, Porcentaje: 0.03%\n",
            "Municipio: 57068255, Frecuencia: 27, Porcentaje: 0.03%\n",
            "Municipio: 57041378, Frecuencia: 26, Porcentaje: 0.03%\n",
            "Municipio: 57050606, Frecuencia: 26, Porcentaje: 0.03%\n",
            "Municipio: 57005480, Frecuencia: 26, Porcentaje: 0.03%\n",
            "Municipio: 57027006, Frecuencia: 26, Porcentaje: 0.03%\n",
            "Municipio: 57025506, Frecuencia: 26, Porcentaje: 0.03%\n",
            "Municipio: 57025772, Frecuencia: 26, Porcentaje: 0.03%\n",
            "Municipio: 57068162, Frecuencia: 26, Porcentaje: 0.03%\n",
            "Municipio: 57017662, Frecuencia: 26, Porcentaje: 0.03%\n",
            "Municipio: 57017388, Frecuencia: 26, Porcentaje: 0.03%\n",
            "Municipio: 57015455, Frecuencia: 26, Porcentaje: 0.03%\n",
            "Municipio: 57063690, Frecuencia: 26, Porcentaje: 0.03%\n",
            "Municipio: 57005093, Frecuencia: 26, Porcentaje: 0.03%\n",
            "Municipio: 57073483, Frecuencia: 26, Porcentaje: 0.03%\n",
            "Municipio: 57013744, Frecuencia: 26, Porcentaje: 0.03%\n",
            "Municipio: 57025328, Frecuencia: 25, Porcentaje: 0.03%\n",
            "Municipio: 57015599, Frecuencia: 25, Porcentaje: 0.03%\n",
            "Municipio: 57054660, Frecuencia: 25, Porcentaje: 0.03%\n",
            "Municipio: 57025535, Frecuencia: 25, Porcentaje: 0.03%\n",
            "Municipio: 57052399, Frecuencia: 25, Porcentaje: 0.03%\n",
            "Municipio: 57050350, Frecuencia: 25, Porcentaje: 0.03%\n",
            "Municipio: 57005667, Frecuencia: 25, Porcentaje: 0.03%\n",
            "Municipio: 57005495, Frecuencia: 25, Porcentaje: 0.03%\n",
            "Municipio: 57025596, Frecuencia: 25, Porcentaje: 0.03%\n",
            "Municipio: 57005240, Frecuencia: 25, Porcentaje: 0.03%\n",
            "Municipio: 57013683, Frecuencia: 25, Porcentaje: 0.03%\n",
            "Municipio: 57008137, Frecuencia: 25, Porcentaje: 0.03%\n",
            "Municipio: 57085139, Frecuencia: 25, Porcentaje: 0.03%\n",
            "Municipio: 57050251, Frecuencia: 25, Porcentaje: 0.03%\n",
            "Municipio: 57017444, Frecuencia: 25, Porcentaje: 0.03%\n",
            "Municipio: 57018205, Frecuencia: 25, Porcentaje: 0.03%\n",
            "Municipio: 57041483, Frecuencia: 25, Porcentaje: 0.03%\n",
            "Municipio: 57047570, Frecuencia: 24, Porcentaje: 0.02%\n",
            "Municipio: 57068266, Frecuencia: 24, Porcentaje: 0.02%\n",
            "Municipio: 57013549, Frecuencia: 24, Porcentaje: 0.02%\n",
            "Municipio: 57068385, Frecuencia: 24, Porcentaje: 0.02%\n",
            "Municipio: 57025486, Frecuencia: 24, Porcentaje: 0.02%\n",
            "Municipio: 57027600, Frecuencia: 24, Porcentaje: 0.02%\n",
            "Municipio: 57018610, Frecuencia: 24, Porcentaje: 0.02%\n",
            "Municipio: 57013188, Frecuencia: 24, Porcentaje: 0.02%\n",
            "Municipio: 57017653, Frecuencia: 24, Porcentaje: 0.02%\n",
            "Municipio: 57008436, Frecuencia: 24, Porcentaje: 0.02%\n",
            "Municipio: 57070265, Frecuencia: 24, Porcentaje: 0.02%\n",
            "Municipio: 57023168, Frecuencia: 24, Porcentaje: 0.02%\n",
            "Municipio: 57015507, Frecuencia: 24, Porcentaje: 0.02%\n",
            "Municipio: 57025769, Frecuencia: 24, Porcentaje: 0.02%\n",
            "Municipio: 57099624, Frecuencia: 24, Porcentaje: 0.02%\n",
            "Municipio: 57041013, Frecuencia: 24, Porcentaje: 0.02%\n",
            "Municipio: 57081300, Frecuencia: 24, Porcentaje: 0.02%\n",
            "Municipio: 57052354, Frecuencia: 23, Porcentaje: 0.02%\n",
            "Municipio: 57019397, Frecuencia: 23, Porcentaje: 0.02%\n",
            "Municipio: 57015861, Frecuencia: 23, Porcentaje: 0.02%\n",
            "Municipio: 57005125, Frecuencia: 23, Porcentaje: 0.02%\n",
            "Municipio: 57041872, Frecuencia: 23, Porcentaje: 0.02%\n",
            "Municipio: 57025123, Frecuencia: 23, Porcentaje: 0.02%\n",
            "Municipio: 57018029, Frecuencia: 23, Porcentaje: 0.02%\n",
            "Municipio: 57041319, Frecuencia: 23, Porcentaje: 0.02%\n",
            "Municipio: 57073270, Frecuencia: 23, Porcentaje: 0.02%\n",
            "Municipio: 57019392, Frecuencia: 23, Porcentaje: 0.02%\n",
            "Municipio: 57041518, Frecuencia: 23, Porcentaje: 0.02%\n",
            "Municipio: 57052378, Frecuencia: 23, Porcentaje: 0.02%\n",
            "Municipio: 57068271, Frecuencia: 23, Porcentaje: 0.02%\n",
            "Municipio: 57052224, Frecuencia: 23, Porcentaje: 0.02%\n",
            "Municipio: 57068235, Frecuencia: 23, Porcentaje: 0.02%\n",
            "Municipio: 57005361, Frecuencia: 23, Porcentaje: 0.02%\n",
            "Municipio: 57005809, Frecuencia: 23, Porcentaje: 0.02%\n",
            "Municipio: 57015531, Frecuencia: 23, Porcentaje: 0.02%\n",
            "Municipio: 57025317, Frecuencia: 23, Porcentaje: 0.02%\n",
            "Municipio: 57052480, Frecuencia: 23, Porcentaje: 0.02%\n",
            "Municipio: 57066572, Frecuencia: 23, Porcentaje: 0.02%\n",
            "Municipio: 57052786, Frecuencia: 23, Porcentaje: 0.02%\n",
            "Municipio: 57015757, Frecuencia: 23, Porcentaje: 0.02%\n",
            "Municipio: 57068079, Frecuencia: 22, Porcentaje: 0.02%\n",
            "Municipio: 57073200, Frecuencia: 22, Porcentaje: 0.02%\n",
            "Municipio: 57041349, Frecuencia: 22, Porcentaje: 0.02%\n",
            "Municipio: 57015180, Frecuencia: 22, Porcentaje: 0.02%\n",
            "Municipio: 57020570, Frecuencia: 22, Porcentaje: 0.02%\n",
            "Municipio: 57066318, Frecuencia: 22, Porcentaje: 0.02%\n",
            "Municipio: 57023574, Frecuencia: 22, Porcentaje: 0.02%\n",
            "Municipio: 57025878, Frecuencia: 22, Porcentaje: 0.02%\n",
            "Municipio: 57070230, Frecuencia: 22, Porcentaje: 0.02%\n",
            "Municipio: 57027077, Frecuencia: 22, Porcentaje: 0.02%\n",
            "Municipio: 57073870, Frecuencia: 22, Porcentaje: 0.02%\n",
            "Municipio: 57020614, Frecuencia: 22, Porcentaje: 0.02%\n",
            "Municipio: 57027800, Frecuencia: 22, Porcentaje: 0.02%\n",
            "Municipio: 57047268, Frecuencia: 22, Porcentaje: 0.02%\n",
            "Municipio: 57013894, Frecuencia: 22, Porcentaje: 0.02%\n",
            "Municipio: 57013074, Frecuencia: 22, Porcentaje: 0.02%\n",
            "Municipio: 57041530, Frecuencia: 22, Porcentaje: 0.02%\n",
            "Municipio: 57015087, Frecuencia: 22, Porcentaje: 0.02%\n",
            "Municipio: 57027372, Frecuencia: 22, Porcentaje: 0.02%\n",
            "Municipio: 57068051, Frecuencia: 22, Porcentaje: 0.02%\n",
            "Municipio: 57019760, Frecuencia: 22, Porcentaje: 0.02%\n",
            "Municipio: 57027135, Frecuencia: 21, Porcentaje: 0.02%\n",
            "Municipio: 57015837, Frecuencia: 21, Porcentaje: 0.02%\n",
            "Municipio: 57017272, Frecuencia: 21, Porcentaje: 0.02%\n",
            "Municipio: 57019050, Frecuencia: 21, Porcentaje: 0.02%\n",
            "Municipio: 57054480, Frecuencia: 21, Porcentaje: 0.02%\n",
            "Municipio: 57025599, Frecuencia: 21, Porcentaje: 0.02%\n",
            "Municipio: 57005411, Frecuencia: 21, Porcentaje: 0.02%\n",
            "Municipio: 57015272, Frecuencia: 21, Porcentaje: 0.02%\n",
            "Municipio: 57019780, Frecuencia: 21, Porcentaje: 0.02%\n",
            "Municipio: 57023682, Frecuencia: 21, Porcentaje: 0.02%\n",
            "Municipio: 57068327, Frecuencia: 21, Porcentaje: 0.02%\n",
            "Municipio: 57005659, Frecuencia: 21, Porcentaje: 0.02%\n",
            "Municipio: 57005353, Frecuencia: 21, Porcentaje: 0.02%\n",
            "Municipio: 57086755, Frecuencia: 21, Porcentaje: 0.02%\n",
            "Municipio: 57023464, Frecuencia: 21, Porcentaje: 0.02%\n",
            "Municipio: 57005628, Frecuencia: 21, Porcentaje: 0.02%\n",
            "Municipio: 57018592, Frecuencia: 21, Porcentaje: 0.02%\n",
            "Municipio: 57044110, Frecuencia: 20, Porcentaje: 0.02%\n",
            "Municipio: 57052385, Frecuencia: 20, Porcentaje: 0.02%\n",
            "Municipio: 57005321, Frecuencia: 20, Porcentaje: 0.02%\n",
            "Municipio: 57073547, Frecuencia: 20, Porcentaje: 0.02%\n",
            "Municipio: 57025736, Frecuencia: 20, Porcentaje: 0.02%\n",
            "Municipio: 57015835, Frecuencia: 20, Porcentaje: 0.02%\n",
            "Municipio: 57005652, Frecuencia: 20, Porcentaje: 0.02%\n",
            "Municipio: 57095025, Frecuencia: 20, Porcentaje: 0.02%\n",
            "Municipio: 57076869, Frecuencia: 20, Porcentaje: 0.02%\n",
            "Municipio: 57025873, Frecuencia: 20, Porcentaje: 0.02%\n",
            "Municipio: 57050711, Frecuencia: 20, Porcentaje: 0.02%\n",
            "Municipio: 57025295, Frecuencia: 20, Porcentaje: 0.02%\n",
            "Municipio: 57018410, Frecuencia: 20, Porcentaje: 0.02%\n",
            "Municipio: 57008141, Frecuencia: 20, Porcentaje: 0.02%\n",
            "Municipio: 57052240, Frecuencia: 19, Porcentaje: 0.02%\n",
            "Municipio: 57073678, Frecuencia: 19, Porcentaje: 0.02%\n",
            "Municipio: 57052207, Frecuencia: 19, Porcentaje: 0.02%\n",
            "Municipio: 57047258, Frecuencia: 19, Porcentaje: 0.02%\n",
            "Municipio: 57019517, Frecuencia: 19, Porcentaje: 0.02%\n",
            "Municipio: 57005206, Frecuencia: 19, Porcentaje: 0.02%\n",
            "Municipio: 57018860, Frecuencia: 19, Porcentaje: 0.02%\n",
            "Municipio: 57041797, Frecuencia: 19, Porcentaje: 0.02%\n",
            "Municipio: 57052490, Frecuencia: 19, Porcentaje: 0.02%\n",
            "Municipio: 57076377, Frecuencia: 19, Porcentaje: 0.02%\n",
            "Municipio: 57019622, Frecuencia: 19, Porcentaje: 0.02%\n",
            "Municipio: 57066456, Frecuencia: 19, Porcentaje: 0.02%\n",
            "Municipio: 57052405, Frecuencia: 19, Porcentaje: 0.02%\n",
            "Municipio: 57068684, Frecuencia: 19, Porcentaje: 0.02%\n",
            "Municipio: 57025645, Frecuencia: 19, Porcentaje: 0.02%\n",
            "Municipio: 57025845, Frecuencia: 19, Porcentaje: 0.02%\n",
            "Municipio: 57076890, Frecuencia: 19, Porcentaje: 0.02%\n",
            "Municipio: 57017088, Frecuencia: 19, Porcentaje: 0.02%\n",
            "Municipio: 57068207, Frecuencia: 19, Porcentaje: 0.02%\n",
            "Municipio: 57068669, Frecuencia: 19, Porcentaje: 0.02%\n",
            "Municipio: 57017050, Frecuencia: 19, Porcentaje: 0.02%\n",
            "Municipio: 57015097, Frecuencia: 18, Porcentaje: 0.02%\n",
            "Municipio: 57013647, Frecuencia: 18, Porcentaje: 0.02%\n",
            "Municipio: 57047798, Frecuencia: 18, Porcentaje: 0.02%\n",
            "Municipio: 57054239, Frecuencia: 18, Porcentaje: 0.02%\n",
            "Municipio: 57068500, Frecuencia: 18, Porcentaje: 0.02%\n",
            "Municipio: 57017867, Frecuencia: 18, Porcentaje: 0.02%\n",
            "Municipio: 57015580, Frecuencia: 18, Porcentaje: 0.02%\n",
            "Municipio: 57068745, Frecuencia: 18, Porcentaje: 0.02%\n",
            "Municipio: 57005134, Frecuencia: 18, Porcentaje: 0.02%\n",
            "Municipio: 57027099, Frecuencia: 18, Porcentaje: 0.02%\n",
            "Municipio: 57054377, Frecuencia: 18, Porcentaje: 0.02%\n",
            "Municipio: 57076863, Frecuencia: 18, Porcentaje: 0.02%\n",
            "Municipio: 57015537, Frecuencia: 18, Porcentaje: 0.02%\n",
            "Municipio: 57086757, Frecuencia: 18, Porcentaje: 0.02%\n",
            "Municipio: 57052573, Frecuencia: 18, Porcentaje: 0.02%\n",
            "Municipio: 57054206, Frecuencia: 18, Porcentaje: 0.02%\n",
            "Municipio: 57005347, Frecuencia: 18, Porcentaje: 0.02%\n",
            "Municipio: 57068318, Frecuencia: 18, Porcentaje: 0.02%\n",
            "Municipio: 57076041, Frecuencia: 18, Porcentaje: 0.02%\n",
            "Municipio: 57095015, Frecuencia: 18, Porcentaje: 0.02%\n",
            "Municipio: 57019137, Frecuencia: 18, Porcentaje: 0.02%\n",
            "Municipio: 57015104, Frecuencia: 18, Porcentaje: 0.02%\n",
            "Municipio: 57054385, Frecuencia: 18, Porcentaje: 0.02%\n",
            "Municipio: 57027075, Frecuencia: 18, Porcentaje: 0.02%\n",
            "Municipio: 57073854, Frecuencia: 18, Porcentaje: 0.02%\n",
            "Municipio: 57025530, Frecuencia: 17, Porcentaje: 0.02%\n",
            "Municipio: 57013473, Frecuencia: 17, Porcentaje: 0.02%\n",
            "Municipio: 57050400, Frecuencia: 17, Porcentaje: 0.02%\n",
            "Municipio: 57015804, Frecuencia: 17, Porcentaje: 0.02%\n",
            "Municipio: 57015763, Frecuencia: 17, Porcentaje: 0.02%\n",
            "Municipio: 57013222, Frecuencia: 17, Porcentaje: 0.02%\n",
            "Municipio: 57063212, Frecuencia: 17, Porcentaje: 0.02%\n",
            "Municipio: 57015244, Frecuencia: 17, Porcentaje: 0.02%\n",
            "Municipio: 57068167, Frecuencia: 17, Porcentaje: 0.02%\n",
            "Municipio: 57025491, Frecuencia: 17, Porcentaje: 0.02%\n",
            "Municipio: 57025885, Frecuencia: 17, Porcentaje: 0.02%\n",
            "Municipio: 57054553, Frecuencia: 17, Porcentaje: 0.02%\n",
            "Municipio: 57052079, Frecuencia: 17, Porcentaje: 0.02%\n",
            "Municipio: 57050577, Frecuencia: 17, Porcentaje: 0.02%\n",
            "Municipio: 57052210, Frecuencia: 17, Porcentaje: 0.02%\n",
            "Municipio: 57013760, Frecuencia: 17, Porcentaje: 0.02%\n",
            "Municipio: 57019821, Frecuencia: 17, Porcentaje: 0.02%\n",
            "Municipio: 57017442, Frecuencia: 17, Porcentaje: 0.02%\n",
            "Municipio: 57052258, Frecuencia: 17, Porcentaje: 0.02%\n",
            "Municipio: 57008549, Frecuencia: 16, Porcentaje: 0.02%\n",
            "Municipio: 57052260, Frecuencia: 16, Porcentaje: 0.02%\n",
            "Municipio: 57025178, Frecuencia: 16, Porcentaje: 0.02%\n",
            "Municipio: 57015667, Frecuencia: 16, Porcentaje: 0.02%\n",
            "Municipio: 57013042, Frecuencia: 16, Porcentaje: 0.02%\n",
            "Municipio: 57054599, Frecuencia: 16, Porcentaje: 0.02%\n",
            "Municipio: 57005209, Frecuencia: 16, Porcentaje: 0.02%\n",
            "Municipio: 57025095, Frecuencia: 16, Porcentaje: 0.02%\n",
            "Municipio: 57005021, Frecuencia: 16, Porcentaje: 0.02%\n",
            "Municipio: 57076823, Frecuencia: 16, Porcentaje: 0.02%\n",
            "Municipio: 57099524, Frecuencia: 16, Porcentaje: 0.02%\n",
            "Municipio: 57020443, Frecuencia: 16, Porcentaje: 0.02%\n",
            "Municipio: 57025279, Frecuencia: 16, Porcentaje: 0.02%\n",
            "Municipio: 57052051, Frecuencia: 16, Porcentaje: 0.02%\n",
            "Municipio: 57086760, Frecuencia: 16, Porcentaje: 0.02%\n",
            "Municipio: 57050370, Frecuencia: 16, Porcentaje: 0.02%\n",
            "Municipio: 57008770, Frecuencia: 16, Porcentaje: 0.02%\n",
            "Municipio: 57054128, Frecuencia: 16, Porcentaje: 0.02%\n",
            "Municipio: 57005674, Frecuencia: 16, Porcentaje: 0.02%\n",
            "Municipio: 57068872, Frecuencia: 16, Porcentaje: 0.02%\n",
            "Municipio: 57085230, Frecuencia: 16, Porcentaje: 0.02%\n",
            "Municipio: 57052520, Frecuencia: 16, Porcentaje: 0.02%\n",
            "Municipio: 57050683, Frecuencia: 16, Porcentaje: 0.02%\n",
            "Municipio: 57025797, Frecuencia: 16, Porcentaje: 0.02%\n",
            "Municipio: 57052788, Frecuencia: 16, Porcentaje: 0.02%\n",
            "Municipio: 57019364, Frecuencia: 15, Porcentaje: 0.01%\n",
            "Municipio: 57023815, Frecuencia: 15, Porcentaje: 0.01%\n",
            "Municipio: 57019809, Frecuencia: 15, Porcentaje: 0.01%\n",
            "Municipio: 57068217, Frecuencia: 15, Porcentaje: 0.01%\n",
            "Municipio: 57015897, Frecuencia: 15, Porcentaje: 0.01%\n",
            "Municipio: 57047692, Frecuencia: 15, Porcentaje: 0.01%\n",
            "Municipio: 57068498, Frecuencia: 15, Porcentaje: 0.01%\n",
            "Municipio: 57013620, Frecuencia: 15, Porcentaje: 0.01%\n",
            "Municipio: 57068320, Frecuencia: 15, Porcentaje: 0.01%\n",
            "Municipio: 57025326, Frecuencia: 15, Porcentaje: 0.01%\n",
            "Municipio: 57025839, Frecuencia: 15, Porcentaje: 0.01%\n",
            "Municipio: 57015755, Frecuencia: 15, Porcentaje: 0.01%\n",
            "Municipio: 593020001, Frecuencia: 15, Porcentaje: 0.01%\n",
            "Municipio: 57015325, Frecuencia: 15, Porcentaje: 0.01%\n",
            "Municipio: 57027245, Frecuencia: 15, Porcentaje: 0.01%\n",
            "Municipio: 57013248, Frecuencia: 15, Porcentaje: 0.01%\n",
            "Municipio: 57015377, Frecuencia: 15, Porcentaje: 0.01%\n",
            "Municipio: 57052696, Frecuencia: 15, Porcentaje: 0.01%\n",
            "Municipio: 57015664, Frecuencia: 15, Porcentaje: 0.01%\n",
            "Municipio: 57054172, Frecuencia: 15, Porcentaje: 0.01%\n",
            "Municipio: 57005885, Frecuencia: 15, Porcentaje: 0.01%\n",
            "Municipio: 51013001, Frecuencia: 15, Porcentaje: 0.01%\n",
            "Municipio: 57041357, Frecuencia: 15, Porcentaje: 0.01%\n",
            "Municipio: 57017513, Frecuencia: 15, Porcentaje: 0.01%\n",
            "Municipio: 57054223, Frecuencia: 15, Porcentaje: 0.01%\n",
            "Municipio: 57068418, Frecuencia: 15, Porcentaje: 0.01%\n",
            "Municipio: 57054099, Frecuencia: 15, Porcentaje: 0.01%\n",
            "Municipio: 57019075, Frecuencia: 14, Porcentaje: 0.01%\n",
            "Municipio: 57023090, Frecuencia: 14, Porcentaje: 0.01%\n",
            "Municipio: 57005467, Frecuencia: 14, Porcentaje: 0.01%\n",
            "Municipio: 57085300, Frecuencia: 14, Porcentaje: 0.01%\n",
            "Municipio: 57025524, Frecuencia: 14, Porcentaje: 0.01%\n",
            "Municipio: 57025592, Frecuencia: 14, Porcentaje: 0.01%\n",
            "Municipio: 57018785, Frecuencia: 14, Porcentaje: 0.01%\n",
            "Municipio: 57025168, Frecuencia: 14, Porcentaje: 0.01%\n",
            "Municipio: 57005113, Frecuencia: 14, Porcentaje: 0.01%\n",
            "Municipio: 57005036, Frecuencia: 14, Porcentaje: 0.01%\n",
            "Municipio: 57005658, Frecuencia: 14, Porcentaje: 0.01%\n",
            "Municipio: 57054313, Frecuencia: 14, Porcentaje: 0.01%\n",
            "Municipio: 57073563, Frecuencia: 14, Porcentaje: 0.01%\n",
            "Municipio: 57013062, Frecuencia: 14, Porcentaje: 0.01%\n",
            "Municipio: 57025398, Frecuencia: 14, Porcentaje: 0.01%\n",
            "Municipio: 57025841, Frecuencia: 14, Porcentaje: 0.01%\n",
            "Municipio: 57015185, Frecuencia: 14, Porcentaje: 0.01%\n",
            "Municipio: 57050330, Frecuencia: 14, Porcentaje: 0.01%\n",
            "Municipio: 57052323, Frecuencia: 14, Porcentaje: 0.01%\n",
            "Municipio: 57068820, Frecuencia: 13, Porcentaje: 0.01%\n",
            "Municipio: 57025483, Frecuencia: 13, Porcentaje: 0.01%\n",
            "Municipio: 57019824, Frecuencia: 13, Porcentaje: 0.01%\n",
            "Municipio: 57054680, Frecuencia: 13, Porcentaje: 0.01%\n",
            "Municipio: 57015172, Frecuencia: 13, Porcentaje: 0.01%\n",
            "Municipio: 57041026, Frecuencia: 13, Porcentaje: 0.01%\n",
            "Municipio: 57013300, Frecuencia: 13, Porcentaje: 0.01%\n",
            "Municipio: 57017665, Frecuencia: 13, Porcentaje: 0.01%\n",
            "Municipio: 57066383, Frecuencia: 13, Porcentaje: 0.01%\n",
            "Municipio: 57050680, Frecuencia: 13, Porcentaje: 0.01%\n",
            "Municipio: 57052110, Frecuencia: 13, Porcentaje: 0.01%\n",
            "Municipio: 57015673, Frecuencia: 13, Porcentaje: 0.01%\n",
            "Municipio: 57047605, Frecuencia: 13, Porcentaje: 0.01%\n",
            "Municipio: 57025293, Frecuencia: 13, Porcentaje: 0.01%\n",
            "Municipio: 57068425, Frecuencia: 13, Porcentaje: 0.01%\n",
            "Municipio: 57076054, Frecuencia: 13, Porcentaje: 0.01%\n",
            "Municipio: 57076403, Frecuencia: 13, Porcentaje: 0.01%\n",
            "Municipio: 57073873, Frecuencia: 13, Porcentaje: 0.01%\n",
            "Municipio: 57047205, Frecuencia: 13, Porcentaje: 0.01%\n",
            "Municipio: 57027810, Frecuencia: 13, Porcentaje: 0.01%\n",
            "Municipio: 57068377, Frecuencia: 13, Porcentaje: 0.01%\n",
            "Municipio: 57054800, Frecuencia: 13, Porcentaje: 0.01%\n",
            "Municipio: 57073026, Frecuencia: 13, Porcentaje: 0.01%\n",
            "Municipio: 57050110, Frecuencia: 13, Porcentaje: 0.01%\n",
            "Municipio: 57005038, Frecuencia: 13, Porcentaje: 0.01%\n",
            "Municipio: 57052560, Frecuencia: 13, Porcentaje: 0.01%\n",
            "Municipio: 57068464, Frecuencia: 13, Porcentaje: 0.01%\n",
            "Municipio: 57041078, Frecuencia: 13, Porcentaje: 0.01%\n",
            "Municipio: 57054398, Frecuencia: 13, Porcentaje: 0.01%\n",
            "Municipio: 57015442, Frecuencia: 13, Porcentaje: 0.01%\n",
            "Municipio: 57025867, Frecuencia: 13, Porcentaje: 0.01%\n",
            "Municipio: 57025224, Frecuencia: 13, Porcentaje: 0.01%\n",
            "Municipio: 57008849, Frecuencia: 13, Porcentaje: 0.01%\n",
            "Municipio: 57015215, Frecuencia: 13, Porcentaje: 0.01%\n",
            "Municipio: 57027430, Frecuencia: 13, Porcentaje: 0.01%\n",
            "Municipio: 57015367, Frecuencia: 13, Porcentaje: 0.01%\n",
            "Municipio: 57005425, Frecuencia: 13, Porcentaje: 0.01%\n",
            "Municipio: 57054051, Frecuencia: 13, Porcentaje: 0.01%\n",
            "Municipio: 57025436, Frecuencia: 12, Porcentaje: 0.01%\n",
            "Municipio: 57085125, Frecuencia: 12, Porcentaje: 0.01%\n",
            "Municipio: 57025120, Frecuencia: 12, Porcentaje: 0.01%\n",
            "Municipio: 57017616, Frecuencia: 12, Porcentaje: 0.01%\n",
            "Municipio: 57025288, Frecuencia: 12, Porcentaje: 0.01%\n",
            "Municipio: 57005483, Frecuencia: 12, Porcentaje: 0.01%\n",
            "Municipio: 57015810, Frecuencia: 12, Porcentaje: 0.01%\n",
            "Municipio: 57015051, Frecuencia: 12, Porcentaje: 0.01%\n",
            "Municipio: 57027413, Frecuencia: 12, Porcentaje: 0.01%\n",
            "Municipio: 57018756, Frecuencia: 12, Porcentaje: 0.01%\n",
            "Municipio: 57044855, Frecuencia: 12, Porcentaje: 0.01%\n",
            "Municipio: 57085430, Frecuencia: 12, Porcentaje: 0.01%\n",
            "Municipio: 57027491, Frecuencia: 12, Porcentaje: 0.01%\n",
            "Municipio: 57066075, Frecuencia: 12, Porcentaje: 0.01%\n",
            "Municipio: 57015632, Frecuencia: 12, Porcentaje: 0.01%\n",
            "Municipio: 57052352, Frecuencia: 12, Porcentaje: 0.01%\n",
            "Municipio: 57005107, Frecuencia: 12, Porcentaje: 0.01%\n",
            "Municipio: 57025805, Frecuencia: 12, Porcentaje: 0.01%\n",
            "Municipio: 57052473, Frecuencia: 12, Porcentaje: 0.01%\n",
            "Municipio: 57054250, Frecuencia: 12, Porcentaje: 0.01%\n",
            "Municipio: 57015764, Frecuencia: 12, Porcentaje: 0.01%\n",
            "Municipio: 57052693, Frecuencia: 12, Porcentaje: 0.01%\n",
            "Municipio: 57068147, Frecuencia: 12, Porcentaje: 0.01%\n",
            "Municipio: 57068533, Frecuencia: 12, Porcentaje: 0.01%\n",
            "Municipio: 57018460, Frecuencia: 12, Porcentaje: 0.01%\n",
            "Municipio: 57073043, Frecuencia: 12, Porcentaje: 0.01%\n",
            "Municipio: 57041801, Frecuencia: 12, Porcentaje: 0.01%\n",
            "Municipio: 57015276, Frecuencia: 12, Porcentaje: 0.01%\n",
            "Municipio: 57044098, Frecuencia: 11, Porcentaje: 0.01%\n",
            "Municipio: 57052435, Frecuencia: 11, Porcentaje: 0.01%\n",
            "Municipio: 57023350, Frecuencia: 11, Porcentaje: 0.01%\n",
            "Municipio: 57073030, Frecuencia: 11, Porcentaje: 0.01%\n",
            "Municipio: 57025871, Frecuencia: 11, Porcentaje: 0.01%\n",
            "Municipio: 57025793, Frecuencia: 11, Porcentaje: 0.01%\n",
            "Municipio: 57005044, Frecuencia: 11, Porcentaje: 0.01%\n",
            "Municipio: 57050590, Frecuencia: 11, Porcentaje: 0.01%\n",
            "Municipio: 57023419, Frecuencia: 11, Porcentaje: 0.01%\n",
            "Municipio: 57073686, Frecuencia: 11, Porcentaje: 0.01%\n",
            "Municipio: 57015790, Frecuencia: 11, Porcentaje: 0.01%\n",
            "Municipio: 57013600, Frecuencia: 11, Porcentaje: 0.01%\n",
            "Municipio: 57019693, Frecuencia: 11, Porcentaje: 0.01%\n",
            "Municipio: 57052621, Frecuencia: 11, Porcentaje: 0.01%\n",
            "Municipio: 57015676, Frecuencia: 11, Porcentaje: 0.01%\n",
            "Municipio: 57027495, Frecuencia: 11, Porcentaje: 0.01%\n",
            "Municipio: 57015293, Frecuencia: 11, Porcentaje: 0.01%\n",
            "Municipio: 57025335, Frecuencia: 11, Porcentaje: 0.01%\n",
            "Municipio: 57015135, Frecuencia: 11, Porcentaje: 0.01%\n",
            "Municipio: 57052381, Frecuencia: 11, Porcentaje: 0.01%\n",
            "Municipio: 57005091, Frecuencia: 11, Porcentaje: 0.01%\n",
            "Municipio: 57050124, Frecuencia: 11, Porcentaje: 0.01%\n",
            "Municipio: 57047161, Frecuencia: 11, Porcentaje: 0.01%\n",
            "Municipio: 57025258, Frecuencia: 11, Porcentaje: 0.01%\n",
            "Municipio: 57005264, Frecuencia: 11, Porcentaje: 0.01%\n",
            "Municipio: 57015218, Frecuencia: 11, Porcentaje: 0.01%\n",
            "Municipio: 57068468, Frecuencia: 11, Porcentaje: 0.01%\n",
            "Municipio: 57076246, Frecuencia: 11, Porcentaje: 0.01%\n",
            "Municipio: 57008675, Frecuencia: 11, Porcentaje: 0.01%\n",
            "Municipio: 57018256, Frecuencia: 11, Porcentaje: 0.01%\n",
            "Municipio: 57027050, Frecuencia: 11, Porcentaje: 0.01%\n",
            "Municipio: 57013667, Frecuencia: 11, Porcentaje: 0.01%\n",
            "Municipio: 57005842, Frecuencia: 11, Porcentaje: 0.01%\n",
            "Municipio: 57076243, Frecuencia: 10, Porcentaje: 0.01%\n",
            "Municipio: 57015466, Frecuencia: 10, Porcentaje: 0.01%\n",
            "Municipio: 57027250, Frecuencia: 10, Porcentaje: 0.01%\n",
            "Municipio: 57025312, Frecuencia: 10, Porcentaje: 0.01%\n",
            "Municipio: 57015223, Frecuencia: 10, Porcentaje: 0.01%\n",
            "Municipio: 57015092, Frecuencia: 10, Porcentaje: 0.01%\n",
            "Municipio: 57015542, Frecuencia: 10, Porcentaje: 0.01%\n",
            "Municipio: 57068020, Frecuencia: 10, Porcentaje: 0.01%\n",
            "Municipio: 57015494, Frecuencia: 10, Porcentaje: 0.01%\n",
            "Municipio: 57027450, Frecuencia: 10, Porcentaje: 0.01%\n",
            "Municipio: 57015480, Frecuencia: 10, Porcentaje: 0.01%\n",
            "Municipio: 57073226, Frecuencia: 10, Porcentaje: 0.01%\n",
            "Municipio: 57025518, Frecuencia: 10, Porcentaje: 0.01%\n",
            "Municipio: 57013440, Frecuencia: 10, Porcentaje: 0.01%\n",
            "Municipio: 58022002, Frecuencia: 10, Porcentaje: 0.01%\n",
            "Municipio: 57005310, Frecuencia: 10, Porcentaje: 0.01%\n",
            "Municipio: 57054743, Frecuencia: 10, Porcentaje: 0.01%\n",
            "Municipio: 57025823, Frecuencia: 10, Porcentaje: 0.01%\n",
            "Municipio: 57025489, Frecuencia: 10, Porcentaje: 0.01%\n",
            "Municipio: 57041660, Frecuencia: 10, Porcentaje: 0.01%\n",
            "Municipio: 57041885, Frecuencia: 10, Porcentaje: 0.01%\n",
            "Municipio: 57054174, Frecuencia: 10, Porcentaje: 0.01%\n",
            "Municipio: 57015842, Frecuencia: 10, Porcentaje: 0.01%\n",
            "Municipio: 57025407, Frecuencia: 10, Porcentaje: 0.01%\n",
            "Municipio: 57068573, Frecuencia: 10, Porcentaje: 0.01%\n",
            "Municipio: 57041799, Frecuencia: 10, Porcentaje: 0.01%\n",
            "Municipio: 57015368, Frecuencia: 10, Porcentaje: 0.01%\n",
            "Municipio: 57015774, Frecuencia: 10, Porcentaje: 0.01%\n",
            "Municipio: 57068773, Frecuencia: 10, Porcentaje: 0.01%\n",
            "Municipio: 57025781, Frecuencia: 9, Porcentaje: 0.01%\n",
            "Municipio: 57076845, Frecuencia: 9, Porcentaje: 0.01%\n",
            "Municipio: 57027086, Frecuencia: 9, Porcentaje: 0.01%\n",
            "Municipio: 57052565, Frecuencia: 9, Porcentaje: 0.01%\n",
            "Municipio: 57052885, Frecuencia: 9, Porcentaje: 0.01%\n",
            "Municipio: 57005145, Frecuencia: 9, Porcentaje: 0.01%\n",
            "Municipio: 57050223, Frecuencia: 9, Porcentaje: 0.01%\n",
            "Municipio: 57050287, Frecuencia: 9, Porcentaje: 0.01%\n",
            "Municipio: 57020310, Frecuencia: 9, Porcentaje: 0.01%\n",
            "Municipio: 57027025, Frecuencia: 9, Porcentaje: 0.01%\n",
            "Municipio: 57025862, Frecuencia: 9, Porcentaje: 0.01%\n",
            "Municipio: 57068686, Frecuencia: 9, Porcentaje: 0.01%\n",
            "Municipio: 57027150, Frecuencia: 9, Porcentaje: 0.01%\n",
            "Municipio: 57063111, Frecuencia: 9, Porcentaje: 0.01%\n",
            "Municipio: 57005313, Frecuencia: 9, Porcentaje: 0.01%\n",
            "Municipio: 54008001, Frecuencia: 9, Porcentaje: 0.01%\n",
            "Municipio: 57085325, Frecuencia: 9, Porcentaje: 0.01%\n",
            "Municipio: 57019533, Frecuencia: 9, Porcentaje: 0.01%\n",
            "Municipio: 57073347, Frecuencia: 9, Porcentaje: 0.01%\n",
            "Municipio: 57073622, Frecuencia: 9, Porcentaje: 0.01%\n",
            "Municipio: 57068179, Frecuencia: 9, Porcentaje: 0.01%\n",
            "Municipio: 57005576, Frecuencia: 9, Porcentaje: 0.01%\n",
            "Municipio: 57052036, Frecuencia: 9, Porcentaje: 0.01%\n",
            "Municipio: 57052254, Frecuencia: 9, Porcentaje: 0.01%\n",
            "Municipio: 57091540, Frecuencia: 9, Porcentaje: 0.01%\n",
            "Municipio: 57047745, Frecuencia: 9, Porcentaje: 0.01%\n",
            "Municipio: 57068324, Frecuencia: 9, Porcentaje: 0.01%\n",
            "Municipio: 57013650, Frecuencia: 9, Porcentaje: 0.01%\n",
            "Municipio: 57005315, Frecuencia: 9, Porcentaje: 0.01%\n",
            "Municipio: 57068298, Frecuencia: 9, Porcentaje: 0.01%\n",
            "Municipio: 57025653, Frecuencia: 9, Porcentaje: 0.01%\n",
            "Municipio: 57054520, Frecuencia: 9, Porcentaje: 0.01%\n",
            "Municipio: 57015820, Frecuencia: 9, Porcentaje: 0.01%\n",
            "Municipio: 57027745, Frecuencia: 8, Porcentaje: 0.01%\n",
            "Municipio: 57068169, Frecuencia: 8, Porcentaje: 0.01%\n",
            "Municipio: 57015296, Frecuencia: 8, Porcentaje: 0.01%\n",
            "Municipio: 57041503, Frecuencia: 8, Porcentaje: 0.01%\n",
            "Municipio: 57015183, Frecuencia: 8, Porcentaje: 0.01%\n",
            "Municipio: 57054347, Frecuencia: 8, Porcentaje: 0.01%\n",
            "Municipio: 57068397, Frecuencia: 8, Porcentaje: 0.01%\n",
            "Municipio: 57052256, Frecuencia: 8, Porcentaje: 0.01%\n",
            "Municipio: 57025281, Frecuencia: 8, Porcentaje: 0.01%\n",
            "Municipio: 57015162, Frecuencia: 8, Porcentaje: 0.01%\n",
            "Municipio: 57068855, Frecuencia: 8, Porcentaje: 0.01%\n",
            "Municipio: 57073236, Frecuencia: 8, Porcentaje: 0.01%\n",
            "Municipio: 56013001, Frecuencia: 8, Porcentaje: 0.01%\n",
            "Municipio: 57052699, Frecuencia: 8, Porcentaje: 0.01%\n",
            "Municipio: 507008001, Frecuencia: 8, Porcentaje: 0.01%\n",
            "Municipio: 57015740, Frecuencia: 8, Porcentaje: 0.01%\n",
            "Municipio: 57005873, Frecuencia: 8, Porcentaje: 0.01%\n",
            "Municipio: 57015514, Frecuencia: 8, Porcentaje: 0.01%\n",
            "Municipio: 57013810, Frecuencia: 8, Porcentaje: 0.01%\n",
            "Municipio: 57025339, Frecuencia: 8, Porcentaje: 0.01%\n",
            "Municipio: 57025898, Frecuencia: 8, Porcentaje: 0.01%\n",
            "Municipio: 57015690, Frecuencia: 8, Porcentaje: 0.01%\n",
            "Municipio: 57015248, Frecuencia: 8, Porcentaje: 0.01%\n",
            "Municipio: 57027660, Frecuencia: 8, Porcentaje: 0.01%\n",
            "Municipio: 57068121, Frecuencia: 8, Porcentaje: 0.01%\n",
            "Municipio: 57027073, Frecuencia: 8, Porcentaje: 0.01%\n",
            "Municipio: 57073152, Frecuencia: 8, Porcentaje: 0.01%\n",
            "Municipio: 57005390, Frecuencia: 7, Porcentaje: 0.01%\n",
            "Municipio: 57050325, Frecuencia: 7, Porcentaje: 0.01%\n",
            "Municipio: 57025154, Frecuencia: 7, Porcentaje: 0.01%\n",
            "Municipio: 34051001, Frecuencia: 7, Porcentaje: 0.01%\n",
            "Municipio: 57052720, Frecuencia: 7, Porcentaje: 0.01%\n",
            "Municipio: 57015189, Frecuencia: 7, Porcentaje: 0.01%\n",
            "Municipio: 57047675, Frecuencia: 7, Porcentaje: 0.01%\n",
            "Municipio: 57047660, Frecuencia: 7, Porcentaje: 0.01%\n",
            "Municipio: 57085263, Frecuencia: 7, Porcentaje: 0.01%\n",
            "Municipio: 57052418, Frecuencia: 7, Porcentaje: 0.01%\n",
            "Municipio: 57054418, Frecuencia: 7, Porcentaje: 0.01%\n",
            "Municipio: 57025426, Frecuencia: 7, Porcentaje: 0.01%\n",
            "Municipio: 57005004, Frecuencia: 7, Porcentaje: 0.01%\n",
            "Municipio: 57005819, Frecuencia: 7, Porcentaje: 0.01%\n",
            "Municipio: 57047460, Frecuencia: 7, Porcentaje: 0.01%\n",
            "Municipio: 57047541, Frecuencia: 7, Porcentaje: 0.01%\n",
            "Municipio: 57054673, Frecuencia: 7, Porcentaje: 0.01%\n",
            "Municipio: 57085315, Frecuencia: 7, Porcentaje: 0.01%\n",
            "Municipio: 57068211, Frecuencia: 7, Porcentaje: 0.01%\n",
            "Municipio: 57005306, Frecuencia: 7, Porcentaje: 0.01%\n",
            "Municipio: 57068245, Frecuencia: 7, Porcentaje: 0.01%\n",
            "Municipio: 57015621, Frecuencia: 7, Porcentaje: 0.01%\n",
            "Municipio: 57068250, Frecuencia: 7, Porcentaje: 0.01%\n",
            "Municipio: 57018479, Frecuencia: 7, Porcentaje: 0.01%\n",
            "Municipio: 57015464, Frecuencia: 7, Porcentaje: 0.01%\n",
            "Municipio: 57076250, Frecuencia: 7, Porcentaje: 0.01%\n",
            "Municipio: 57073461, Frecuencia: 7, Porcentaje: 0.01%\n",
            "Municipio: 57015776, Frecuencia: 7, Porcentaje: 0.01%\n",
            "Municipio: 57015236, Frecuencia: 7, Porcentaje: 0.01%\n",
            "Municipio: 57041206, Frecuencia: 7, Porcentaje: 0.01%\n",
            "Municipio: 57052390, Frecuencia: 7, Porcentaje: 0.01%\n",
            "Municipio: 57015814, Frecuencia: 7, Porcentaje: 0.01%\n",
            "Municipio: 999999999, Frecuencia: 7, Porcentaje: 0.01%\n",
            "Municipio: 57085225, Frecuencia: 7, Porcentaje: 0.01%\n",
            "Municipio: 57019701, Frecuencia: 7, Porcentaje: 0.01%\n",
            "Municipio: 57095200, Frecuencia: 7, Porcentaje: 0.01%\n",
            "Municipio: 57013580, Frecuencia: 7, Porcentaje: 0.01%\n",
            "Municipio: 57015808, Frecuencia: 7, Porcentaje: 0.01%\n",
            "Municipio: 57005475, Frecuencia: 6, Porcentaje: 0.01%\n",
            "Municipio: 57015224, Frecuencia: 6, Porcentaje: 0.01%\n",
            "Municipio: 57015681, Frecuencia: 6, Porcentaje: 0.01%\n",
            "Municipio: 57054125, Frecuencia: 6, Porcentaje: 0.01%\n",
            "Municipio: 57015362, Frecuencia: 6, Porcentaje: 0.01%\n",
            "Municipio: 57052411, Frecuencia: 6, Porcentaje: 0.01%\n",
            "Municipio: 57068264, Frecuencia: 6, Porcentaje: 0.01%\n",
            "Municipio: 57047960, Frecuencia: 6, Porcentaje: 0.01%\n",
            "Municipio: 57025086, Frecuencia: 6, Porcentaje: 0.01%\n",
            "Municipio: 57015187, Frecuencia: 6, Porcentaje: 0.01%\n",
            "Municipio: 57054344, Frecuencia: 6, Porcentaje: 0.01%\n",
            "Municipio: 57068296, Frecuencia: 6, Porcentaje: 0.01%\n",
            "Municipio: 57027580, Frecuencia: 6, Porcentaje: 0.01%\n",
            "Municipio: 57019418, Frecuencia: 6, Porcentaje: 0.01%\n",
            "Municipio: 57015500, Frecuencia: 6, Porcentaje: 0.01%\n",
            "Municipio: 57081220, Frecuencia: 6, Porcentaje: 0.01%\n",
            "Municipio: 57019110, Frecuencia: 6, Porcentaje: 0.01%\n",
            "Municipio: 1000000021, Frecuencia: 6, Porcentaje: 0.01%\n",
            "Municipio: 57017495, Frecuencia: 6, Porcentaje: 0.01%\n",
            "Municipio: 57015403, Frecuencia: 6, Porcentaje: 0.01%\n",
            "Municipio: 57068132, Frecuencia: 6, Porcentaje: 0.01%\n",
            "Municipio: 147013001, Frecuencia: 6, Porcentaje: 0.01%\n",
            "Municipio: 57005792, Frecuencia: 6, Porcentaje: 0.01%\n",
            "Municipio: 57015380, Frecuencia: 6, Porcentaje: 0.01%\n",
            "Municipio: 58007001, Frecuencia: 6, Porcentaje: 0.01%\n",
            "Municipio: 57052427, Frecuencia: 6, Porcentaje: 0.01%\n",
            "Municipio: 57068522, Frecuencia: 6, Porcentaje: 0.01%\n",
            "Municipio: 57068549, Frecuencia: 6, Porcentaje: 0.01%\n",
            "Municipio: 57068673, Frecuencia: 6, Porcentaje: 0.01%\n",
            "Municipio: 57041244, Frecuencia: 5, Porcentaje: 0.01%\n",
            "Municipio: 58004001, Frecuencia: 5, Porcentaje: 0.01%\n",
            "Municipio: 57047703, Frecuencia: 5, Porcentaje: 0.01%\n",
            "Municipio: 57013655, Frecuencia: 5, Porcentaje: 0.01%\n",
            "Municipio: 54009001, Frecuencia: 5, Porcentaje: 0.01%\n",
            "Municipio: 57015232, Frecuencia: 5, Porcentaje: 0.01%\n",
            "Municipio: 57005150, Frecuencia: 5, Porcentaje: 0.01%\n",
            "Municipio: 57068444, Frecuencia: 5, Porcentaje: 0.01%\n",
            "Municipio: 504007001, Frecuencia: 5, Porcentaje: 0.01%\n",
            "Municipio: 57015762, Frecuencia: 5, Porcentaje: 0.01%\n",
            "Municipio: 57052287, Frecuencia: 5, Porcentaje: 0.01%\n",
            "Municipio: 57068867, Frecuencia: 5, Porcentaje: 0.01%\n",
            "Municipio: 57015131, Frecuencia: 5, Porcentaje: 0.01%\n",
            "Municipio: 57027160, Frecuencia: 5, Porcentaje: 0.01%\n",
            "Municipio: 57068209, Frecuencia: 5, Porcentaje: 0.01%\n",
            "Municipio: 57052540, Frecuencia: 5, Porcentaje: 0.01%\n",
            "Municipio: 57019290, Frecuencia: 5, Porcentaje: 0.01%\n",
            "Municipio: 57013268, Frecuencia: 5, Porcentaje: 0.01%\n",
            "Municipio: 57015822, Frecuencia: 5, Porcentaje: 0.01%\n",
            "Municipio: 57054109, Frecuencia: 5, Porcentaje: 0.01%\n",
            "Municipio: 185029001, Frecuencia: 5, Porcentaje: 0.01%\n",
            "Municipio: 57047545, Frecuencia: 5, Porcentaje: 0.01%\n",
            "Municipio: 57025779, Frecuencia: 5, Porcentaje: 0.01%\n",
            "Municipio: 57068780, Frecuencia: 5, Porcentaje: 0.01%\n",
            "Municipio: 57052022, Frecuencia: 5, Porcentaje: 0.01%\n",
            "Municipio: 57015723, Frecuencia: 5, Porcentaje: 0.01%\n",
            "Municipio: 57025777, Frecuencia: 5, Porcentaje: 0.01%\n",
            "Municipio: 57015600, Frecuencia: 5, Porcentaje: 0.01%\n",
            "Municipio: 57044420, Frecuencia: 5, Porcentaje: 0.01%\n",
            "Municipio: 185030001, Frecuencia: 5, Porcentaje: 0.01%\n",
            "Municipio: 57025372, Frecuencia: 5, Porcentaje: 0.01%\n",
            "Municipio: 57073770, Frecuencia: 5, Porcentaje: 0.01%\n",
            "Municipio: 57015696, Frecuencia: 5, Porcentaje: 0.01%\n",
            "Municipio: 57068092, Frecuencia: 5, Porcentaje: 0.01%\n",
            "Municipio: 57015401, Frecuencia: 5, Porcentaje: 0.01%\n",
            "Municipio: 57015522, Frecuencia: 5, Porcentaje: 0.01%\n",
            "Municipio: 57047720, Frecuencia: 5, Porcentaje: 0.01%\n",
            "Municipio: 57025807, Frecuencia: 5, Porcentaje: 0.01%\n",
            "Municipio: 57015778, Frecuencia: 5, Porcentaje: 0.01%\n",
            "Municipio: 1007001, Frecuencia: 4, Porcentaje: 0.00%\n",
            "Municipio: 57085015, Frecuencia: 4, Porcentaje: 0.00%\n",
            "Municipio: 57052694, Frecuencia: 4, Porcentaje: 0.00%\n",
            "Municipio: 57025324, Frecuencia: 4, Porcentaje: 0.00%\n",
            "Municipio: 1000000041, Frecuencia: 4, Porcentaje: 0.00%\n",
            "Municipio: 57015550, Frecuencia: 4, Porcentaje: 0.00%\n",
            "Municipio: 57013458, Frecuencia: 4, Porcentaje: 0.00%\n",
            "Municipio: 57068524, Frecuencia: 4, Porcentaje: 0.00%\n",
            "Municipio: 57025368, Frecuencia: 4, Porcentaje: 0.00%\n",
            "Municipio: 57052233, Frecuencia: 4, Porcentaje: 0.00%\n",
            "Municipio: 57015226, Frecuencia: 4, Porcentaje: 0.00%\n",
            "Municipio: 57025580, Frecuencia: 4, Porcentaje: 0.00%\n",
            "Municipio: 57068368, Frecuencia: 4, Porcentaje: 0.00%\n",
            "Municipio: 57015660, Frecuencia: 4, Porcentaje: 0.00%\n",
            "Municipio: 57005059, Frecuencia: 4, Porcentaje: 0.00%\n",
            "Municipio: 593008001, Frecuencia: 4, Porcentaje: 0.00%\n",
            "Municipio: 57015109, Frecuencia: 4, Porcentaje: 0.00%\n",
            "Municipio: 57005647, Frecuencia: 4, Porcentaje: 0.00%\n",
            "Municipio: 57005086, Frecuencia: 4, Porcentaje: 0.00%\n",
            "Municipio: 57015476, Frecuencia: 4, Porcentaje: 0.00%\n",
            "Municipio: 57097161, Frecuencia: 4, Porcentaje: 0.00%\n",
            "Municipio: 56007001, Frecuencia: 4, Porcentaje: 0.00%\n",
            "Municipio: 147013002, Frecuencia: 4, Porcentaje: 0.00%\n",
            "Municipio: 57068705, Frecuencia: 4, Porcentaje: 0.00%\n",
            "Municipio: 57085136, Frecuencia: 4, Porcentaje: 0.00%\n",
            "Municipio: 57013030, Frecuencia: 3, Porcentaje: 0.00%\n",
            "Municipio: 185024001, Frecuencia: 3, Porcentaje: 0.00%\n",
            "Municipio: 1008001, Frecuencia: 3, Porcentaje: 0.00%\n",
            "Municipio: 57015090, Frecuencia: 3, Porcentaje: 0.00%\n",
            "Municipio: 57091405, Frecuencia: 3, Porcentaje: 0.00%\n",
            "Municipio: 57015425, Frecuencia: 3, Porcentaje: 0.00%\n",
            "Municipio: 57054670, Frecuencia: 3, Porcentaje: 0.00%\n",
            "Municipio: 57027425, Frecuencia: 3, Porcentaje: 0.00%\n",
            "Municipio: 506007001, Frecuencia: 3, Porcentaje: 0.00%\n",
            "Municipio: 57015638, Frecuencia: 3, Porcentaje: 0.00%\n",
            "Municipio: 57068160, Frecuencia: 3, Porcentaje: 0.00%\n",
            "Municipio: 57052506, Frecuencia: 3, Porcentaje: 0.00%\n",
            "Municipio: 34038001, Frecuencia: 3, Porcentaje: 0.00%\n",
            "Municipio: 57015761, Frecuencia: 3, Porcentaje: 0.00%\n",
            "Municipio: 57015798, Frecuencia: 3, Porcentaje: 0.00%\n",
            "Municipio: 57025299, Frecuencia: 3, Porcentaje: 0.00%\n",
            "Municipio: 51003001, Frecuencia: 3, Porcentaje: 0.00%\n",
            "Municipio: 57017446, Frecuencia: 3, Porcentaje: 0.00%\n",
            "Municipio: 57068152, Frecuencia: 3, Porcentaje: 0.00%\n",
            "Municipio: 57068176, Frecuencia: 3, Porcentaje: 0.00%\n",
            "Municipio: 593018001, Frecuencia: 3, Porcentaje: 0.00%\n",
            "Municipio: 57094887, Frecuencia: 3, Porcentaje: 0.00%\n",
            "Municipio: 34062001, Frecuencia: 3, Porcentaje: 0.00%\n",
            "Municipio: 57015106, Frecuencia: 3, Porcentaje: 0.00%\n",
            "Municipio: 57052685, Frecuencia: 3, Porcentaje: 0.00%\n",
            "Municipio: 57015212, Frecuencia: 3, Porcentaje: 0.00%\n",
            "Municipio: 51001001, Frecuencia: 3, Porcentaje: 0.00%\n",
            "Municipio: 57015816, Frecuencia: 3, Porcentaje: 0.00%\n",
            "Municipio: 57068720, Frecuencia: 3, Porcentaje: 0.00%\n",
            "Municipio: 57094884, Frecuencia: 3, Porcentaje: 0.00%\n",
            "Municipio: 505010001, Frecuencia: 3, Porcentaje: 0.00%\n",
            "Municipio: 57068370, Frecuencia: 3, Porcentaje: 0.00%\n",
            "Municipio: 58014002, Frecuencia: 3, Porcentaje: 0.00%\n",
            "Municipio: 51005001, Frecuencia: 3, Porcentaje: 0.00%\n",
            "Municipio: 58006001, Frecuencia: 3, Porcentaje: 0.00%\n",
            "Municipio: 57015332, Frecuencia: 3, Porcentaje: 0.00%\n",
            "Municipio: 57068682, Frecuencia: 3, Porcentaje: 0.00%\n",
            "Municipio: 49004001, Frecuencia: 2, Porcentaje: 0.00%\n",
            "Municipio: 57005501, Frecuencia: 2, Porcentaje: 0.00%\n",
            "Municipio: 593019001, Frecuencia: 2, Porcentaje: 0.00%\n",
            "Municipio: 57050686, Frecuencia: 2, Porcentaje: 0.00%\n",
            "Municipio: 57091263, Frecuencia: 2, Porcentaje: 0.00%\n",
            "Municipio: 57050245, Frecuencia: 2, Porcentaje: 0.00%\n",
            "Municipio: 51024001, Frecuencia: 2, Porcentaje: 0.00%\n",
            "Municipio: 147041001, Frecuencia: 2, Porcentaje: 0.00%\n",
            "Municipio: 593016001, Frecuencia: 2, Porcentaje: 0.00%\n",
            "Municipio: 34060001, Frecuencia: 2, Porcentaje: 0.00%\n",
            "Municipio: 58019022, Frecuencia: 2, Porcentaje: 0.00%\n",
            "Municipio: 1001001, Frecuencia: 2, Porcentaje: 0.00%\n",
            "Municipio: 58019002, Frecuencia: 2, Porcentaje: 0.00%\n",
            "Municipio: 56002001, Frecuencia: 2, Porcentaje: 0.00%\n",
            "Municipio: 57015720, Frecuencia: 2, Porcentaje: 0.00%\n",
            "Municipio: 123003001, Frecuencia: 2, Porcentaje: 0.00%\n",
            "Municipio: 51011001, Frecuencia: 2, Porcentaje: 0.00%\n",
            "Municipio: 51007001, Frecuencia: 2, Porcentaje: 0.00%\n",
            "Municipio: 57068322, Frecuencia: 2, Porcentaje: 0.00%\n",
            "Municipio: 57013490, Frecuencia: 2, Porcentaje: 0.00%\n",
            "Municipio: 58011001, Frecuencia: 2, Porcentaje: 0.00%\n",
            "Municipio: 593001001, Frecuencia: 2, Porcentaje: 0.00%\n",
            "Municipio: 57015518, Frecuencia: 2, Porcentaje: 0.00%\n",
            "Municipio: 34018001, Frecuencia: 2, Porcentaje: 0.00%\n",
            "Municipio: 147014001, Frecuencia: 2, Porcentaje: 0.00%\n",
            "Municipio: 147034001, Frecuencia: 2, Porcentaje: 0.00%\n",
            "Municipio: 34013001, Frecuencia: 2, Porcentaje: 0.00%\n",
            "Municipio: 57052203, Frecuencia: 2, Porcentaje: 0.00%\n",
            "Municipio: 591004001, Frecuencia: 2, Porcentaje: 0.00%\n",
            "Municipio: 57015879, Frecuencia: 2, Porcentaje: 0.00%\n",
            "Municipio: 52023001, Frecuencia: 2, Porcentaje: 0.00%\n",
            "Municipio: 58019001, Frecuencia: 2, Porcentaje: 0.00%\n",
            "Municipio: 58015001, Frecuencia: 2, Porcentaje: 0.00%\n",
            "Municipio: 180023001, Frecuencia: 2, Porcentaje: 0.00%\n",
            "Municipio: 185028001, Frecuencia: 1, Porcentaje: 0.00%\n",
            "Municipio: 34022001, Frecuencia: 1, Porcentaje: 0.00%\n",
            "Municipio: 52027001, Frecuencia: 1, Porcentaje: 0.00%\n",
            "Municipio: 39111001, Frecuencia: 1, Porcentaje: 0.00%\n",
            "Municipio: 52021001, Frecuencia: 1, Porcentaje: 0.00%\n",
            "Municipio: 34041001, Frecuencia: 1, Porcentaje: 0.00%\n",
            "Municipio: 57085279, Frecuencia: 1, Porcentaje: 0.00%\n",
            "Municipio: 51021001, Frecuencia: 1, Porcentaje: 0.00%\n",
            "Municipio: 54010001, Frecuencia: 1, Porcentaje: 0.00%\n",
            "Municipio: 593009001, Frecuencia: 1, Porcentaje: 0.00%\n",
            "Municipio: 57091536, Frecuencia: 1, Porcentaje: 0.00%\n",
            "Municipio: 106001001, Frecuencia: 1, Porcentaje: 0.00%\n",
            "Municipio: 57015114, Frecuencia: 1, Porcentaje: 0.00%\n",
            "Municipio: 1003001, Frecuencia: 1, Porcentaje: 0.00%\n",
            "Municipio: 147032001, Frecuencia: 1, Porcentaje: 0.00%\n",
            "Municipio: 504006001, Frecuencia: 1, Porcentaje: 0.00%\n",
            "Municipio: 591007001, Frecuencia: 1, Porcentaje: 0.00%\n",
            "Municipio: 34014001, Frecuencia: 1, Porcentaje: 0.00%\n",
            "Municipio: 54001001, Frecuencia: 1, Porcentaje: 0.00%\n",
            "Municipio: 43008001, Frecuencia: 1, Porcentaje: 0.00%\n",
            "Municipio: 34058001, Frecuencia: 1, Porcentaje: 0.00%\n",
            "Municipio: 506002001, Frecuencia: 1, Porcentaje: 0.00%\n",
            "Municipio: 503006001, Frecuencia: 1, Porcentaje: 0.00%\n",
            "Municipio: 58024003, Frecuencia: 1, Porcentaje: 0.00%\n",
            "Municipio: 34059001, Frecuencia: 1, Porcentaje: 0.00%\n",
            "Municipio: 595012001, Frecuencia: 1, Porcentaje: 0.00%\n",
            "Municipio: 51022001, Frecuencia: 1, Porcentaje: 0.00%\n",
            "Municipio: 593004001, Frecuencia: 1, Porcentaje: 0.00%\n",
            "Municipio: 57019785, Frecuencia: 1, Porcentaje: 0.00%\n",
            "Municipio: 34007001, Frecuencia: 1, Porcentaje: 0.00%\n",
            "Municipio: 51002001, Frecuencia: 1, Porcentaje: 0.00%\n",
            "Municipio: 54017001, Frecuencia: 1, Porcentaje: 0.00%\n",
            "Municipio: 185019001, Frecuencia: 1, Porcentaje: 0.00%\n",
            "Municipio: 593017001, Frecuencia: 1, Porcentaje: 0.00%\n",
            "Municipio: 81029001, Frecuencia: 1, Porcentaje: 0.00%\n",
            "Municipio: 52001001, Frecuencia: 1, Porcentaje: 0.00%\n",
            "Municipio: 507010001, Frecuencia: 1, Porcentaje: 0.00%\n",
            "Municipio: 39064001, Frecuencia: 1, Porcentaje: 0.00%\n",
            "Municipio: 147044001, Frecuencia: 1, Porcentaje: 0.00%\n",
            "Municipio: 51012001, Frecuencia: 1, Porcentaje: 0.00%\n",
            "Municipio: 58012001, Frecuencia: 1, Porcentaje: 0.00%\n",
            "Municipio: 58008001, Frecuencia: 1, Porcentaje: 0.00%\n",
            "Municipio: 57068344, Frecuencia: 1, Porcentaje: 0.00%\n",
            "Municipio: 57054245, Frecuencia: 1, Porcentaje: 0.00%\n",
            "Municipio: 51010001, Frecuencia: 1, Porcentaje: 0.00%\n",
            "Municipio: 147035001, Frecuencia: 1, Porcentaje: 0.00%\n",
            "Municipio: 57085400, Frecuencia: 1, Porcentaje: 0.00%\n",
            "Municipio: 57015839, Frecuencia: 1, Porcentaje: 0.00%\n",
            "Municipio: 58012002, Frecuencia: 1, Porcentaje: 0.00%\n",
            "Municipio: 593007001, Frecuencia: 1, Porcentaje: 0.00%\n",
            "Municipio: 185021001, Frecuencia: 1, Porcentaje: 0.00%\n",
            "Municipio: 595010001, Frecuencia: 1, Porcentaje: 0.00%\n",
            "Municipio: 57015511, Frecuencia: 1, Porcentaje: 0.00%\n",
            "Municipio: 57015533, Frecuencia: 1, Porcentaje: 0.00%\n",
            "Municipio: 56012001, Frecuencia: 1, Porcentaje: 0.00%\n",
            "Municipio: 297001001, Frecuencia: 1, Porcentaje: 0.00%\n",
            "Municipio: 147003001, Frecuencia: 1, Porcentaje: 0.00%\n",
            "Municipio: 147043002, Frecuencia: 1, Porcentaje: 0.00%\n",
            "Municipio: 58019006, Frecuencia: 1, Porcentaje: 0.00%\n",
            "Municipio: 593015001, Frecuencia: 1, Porcentaje: 0.00%\n",
            "Municipio: 53007001, Frecuencia: 1, Porcentaje: 0.00%\n",
            "Municipio: 61006001, Frecuencia: 1, Porcentaje: 0.00%\n",
            "Municipio: 580223100, Frecuencia: 1, Porcentaje: 0.00%\n",
            "Municipio: 52005001, Frecuencia: 1, Porcentaje: 0.00%\n",
            "Municipio: 147018001, Frecuencia: 1, Porcentaje: 0.00%\n",
            "Municipio: 55003001, Frecuencia: 1, Porcentaje: 0.00%\n",
            "Municipio: 52020001, Frecuencia: 1, Porcentaje: 0.00%\n",
            "Municipio: 52019001, Frecuencia: 1, Porcentaje: 0.00%\n",
            "Municipio: 189051001, Frecuencia: 1, Porcentaje: 0.00%\n",
            "Municipio: 185004001, Frecuencia: 1, Porcentaje: 0.00%\n",
            "Municipio: 34042001, Frecuencia: 1, Porcentaje: 0.00%\n",
            "Municipio: 147016001, Frecuencia: 1, Porcentaje: 0.00%\n",
            "Municipio: 147034002, Frecuencia: 1, Porcentaje: 0.00%\n",
            "Municipio: 185001001, Frecuencia: 1, Porcentaje: 0.00%\n",
            "Municipio: 51018001, Frecuencia: 1, Porcentaje: 0.00%\n",
            "Municipio: 506003001, Frecuencia: 1, Porcentaje: 0.00%\n",
            "Municipio: 593003001, Frecuencia: 1, Porcentaje: 0.00%\n",
            "Municipio: 54018001, Frecuencia: 1, Porcentaje: 0.00%\n",
            "Municipio: 58024001, Frecuencia: 1, Porcentaje: 0.00%\n",
            "Municipio: 52017001, Frecuencia: 1, Porcentaje: 0.00%\n",
            "Municipio: 46003001, Frecuencia: 1, Porcentaje: 0.00%\n",
            "Municipio: 1000000421, Frecuencia: 1, Porcentaje: 0.00%\n",
            "Municipio: 147043001, Frecuencia: 1, Porcentaje: 0.00%\n",
            "Municipio: 147025001, Frecuencia: 1, Porcentaje: 0.00%\n",
            "Municipio: 57015317, Frecuencia: 1, Porcentaje: 0.00%\n",
            "Municipio: 58020021, Frecuencia: 1, Porcentaje: 0.00%\n",
            "Municipio: 1000000022, Frecuencia: 1, Porcentaje: 0.00%\n",
            "Municipio: 52016001, Frecuencia: 1, Porcentaje: 0.00%\n",
            "Municipio: 591002001, Frecuencia: 1, Porcentaje: 0.00%\n",
            "Municipio: 57068502, Frecuencia: 1, Porcentaje: 0.00%\n",
            "Municipio: 39052001, Frecuencia: 1, Porcentaje: 0.00%\n",
            "Municipio: 58013001, Frecuencia: 1, Porcentaje: 0.00%\n",
            "Municipio: 34009001, Frecuencia: 1, Porcentaje: 0.00%\n",
            "Municipio: 49007001, Frecuencia: 1, Porcentaje: 0.00%\n",
            "Municipio: 147046001, Frecuencia: 1, Porcentaje: 0.00%\n",
            "Municipio: 57015832, Frecuencia: 1, Porcentaje: 0.00%\n",
            "Municipio: 56006001, Frecuencia: 1, Porcentaje: 0.00%\n",
            "Municipio: 52028001, Frecuencia: 1, Porcentaje: 0.00%\n",
            "Municipio: 57054871, Frecuencia: 1, Porcentaje: 0.00%\n",
            "Municipio: 178065001, Frecuencia: 1, Porcentaje: 0.00%\n",
            "Municipio: 58016001, Frecuencia: 1, Porcentaje: 0.00%\n"
          ]
        }
      ]
    },
    {
      "cell_type": "markdown",
      "source": [
        "COD_ZONA_RESIDENCIA"
      ],
      "metadata": {
        "id": "Haa6A4G3U8UP"
      }
    },
    {
      "cell_type": "code",
      "source": [
        "df[\"COD_ZONA_RESIDENCIA\"].value_counts()"
      ],
      "metadata": {
        "colab": {
          "base_uri": "https://localhost:8080/"
        },
        "id": "fWpGYYBlVEMs",
        "outputId": "27c85069-08bf-4348-b1b0-5cbd46310b2b"
      },
      "execution_count": null,
      "outputs": [
        {
          "output_type": "execute_result",
          "data": {
            "text/plain": [
              "COD_ZONA_RESIDENCIA\n",
              "11.0     195\n",
              "8.0      192\n",
              "10.0     156\n",
              "7.0      129\n",
              "161.0    115\n",
              "        ... \n",
              "325.0      1\n",
              "363.0      1\n",
              "416.0      1\n",
              "349.0      1\n",
              "326.0      1\n",
              "Name: count, Length: 347, dtype: int64"
            ]
          },
          "metadata": {},
          "execution_count": 75
        }
      ]
    },
    {
      "cell_type": "code",
      "source": [
        "print(\"Número de valores únicos: \",len(df[\"COD_ZONA_RESIDENCIA\"].unique()))"
      ],
      "metadata": {
        "colab": {
          "base_uri": "https://localhost:8080/"
        },
        "id": "xIFPaC1hVNY-",
        "outputId": "39a03724-bcab-457d-c121-2233b7059fab"
      },
      "execution_count": null,
      "outputs": [
        {
          "output_type": "stream",
          "name": "stdout",
          "text": [
            "Número de valores únicos:  348\n"
          ]
        }
      ]
    },
    {
      "cell_type": "code",
      "source": [
        "valores_nulos = df[\"COD_ZONA_RESIDENCIA\"].isnull().sum()\n",
        "total_valores = len(df[\"COD_ZONA_RESIDENCIA\"])\n",
        "porcentaje_nulos = (valores_nulos / total_valores) * 100\n",
        "print(f\"Valores nulos en 'COD_ZONA_RESIDENCIA': {valores_nulos}\")\n",
        "print(f\"Porcentaje de valores nulos: {porcentaje_nulos:.2f}%\")"
      ],
      "metadata": {
        "colab": {
          "base_uri": "https://localhost:8080/"
        },
        "id": "CzAS-TttVvoH",
        "outputId": "be7491a4-10f2-495f-e0e6-0d48f7fde59e"
      },
      "execution_count": null,
      "outputs": [
        {
          "output_type": "stream",
          "name": "stdout",
          "text": [
            "Valores nulos en 'COD_ZONA_RESIDENCIA': 96323\n",
            "Porcentaje de valores nulos: 96.32%\n"
          ]
        }
      ]
    },
    {
      "cell_type": "markdown",
      "source": [
        "COD_BARRIO_RESIDENCIA"
      ],
      "metadata": {
        "id": "mggvhCCAWNR-"
      }
    },
    {
      "cell_type": "code",
      "source": [
        "df[\"COD_BARRIO_RESIDENCIA\"].value_counts()"
      ],
      "metadata": {
        "colab": {
          "base_uri": "https://localhost:8080/"
        },
        "id": "g4H4jfoNWRXP",
        "outputId": "a90d0d80-35e5-414d-de4a-f5bc8e6b900d"
      },
      "execution_count": null,
      "outputs": [
        {
          "output_type": "execute_result",
          "data": {
            "text/plain": [
              "COD_BARRIO_RESIDENCIA\n",
              "304.0     33\n",
              "372.0     17\n",
              "564.0     16\n",
              "3369.0    15\n",
              "3094.0    12\n",
              "          ..\n",
              "2156.0     1\n",
              "3.0        1\n",
              "958.0      1\n",
              "8268.0     1\n",
              "5182.0     1\n",
              "Name: count, Length: 1643, dtype: int64"
            ]
          },
          "metadata": {},
          "execution_count": 79
        }
      ]
    },
    {
      "cell_type": "code",
      "source": [
        "print(\"Número de valores únicos: \",len(df[\"COD_BARRIO_RESIDENCIA\"].unique()))"
      ],
      "metadata": {
        "colab": {
          "base_uri": "https://localhost:8080/"
        },
        "id": "5_kNnopeWW_Y",
        "outputId": "48fab08e-1fad-4a92-ae73-25c15da0ba8b"
      },
      "execution_count": null,
      "outputs": [
        {
          "output_type": "stream",
          "name": "stdout",
          "text": [
            "Número de valores únicos:  1644\n"
          ]
        }
      ]
    },
    {
      "cell_type": "code",
      "source": [
        "valores_nulos = df[\"COD_BARRIO_RESIDENCIA\"].isnull().sum()\n",
        "total_valores = len(df[\"COD_BARRIO_RESIDENCIA\"])\n",
        "porcentaje_nulos = (valores_nulos / total_valores) * 100\n",
        "print(f\"Valores nulos en 'COD_BARRIO_RESIDENCIA': {valores_nulos}\")\n",
        "print(f\"Porcentaje de valores nulos: {porcentaje_nulos:.2f}%\")"
      ],
      "metadata": {
        "colab": {
          "base_uri": "https://localhost:8080/"
        },
        "id": "JwX5qCtTWLFe",
        "outputId": "1a716544-08fd-43e6-f631-ad1ed76ac4f0"
      },
      "execution_count": null,
      "outputs": [
        {
          "output_type": "stream",
          "name": "stdout",
          "text": [
            "Valores nulos en 'COD_BARRIO_RESIDENCIA': 96796\n",
            "Porcentaje de valores nulos: 96.80%\n"
          ]
        }
      ]
    },
    {
      "cell_type": "markdown",
      "source": [
        "Identificación de valores nan en todas las características:"
      ],
      "metadata": {
        "id": "VaSush3gCB7k"
      }
    },
    {
      "cell_type": "code",
      "source": [
        "df.isna().sum()"
      ],
      "metadata": {
        "colab": {
          "base_uri": "https://localhost:8080/"
        },
        "id": "JR2S7qYnB8OV",
        "outputId": "6d16feeb-c7ba-4891-8451-259b4d8d1557"
      },
      "execution_count": null,
      "outputs": [
        {
          "output_type": "execute_result",
          "data": {
            "text/plain": [
              "NIS                              0\n",
              "GENERO                           0\n",
              "FECHA_NACIMIENTO                 0\n",
              "ESTADO_CIVIL                     0\n",
              "ESTRATO                          0\n",
              "PUNTAJE_ICFES                98202\n",
              "SISBEN                      100000\n",
              "DBU_HIJOS                   100000\n",
              "COD_PAIS_RESISENCIA              0\n",
              "COD_DPTO_RESIDENCIA              0\n",
              "COD_MUNICIPIO_RESIDENCIA         0\n",
              "COD_ZONA_RESIDENCIA          96323\n",
              "COD_BARRIO_RESIDENCIA        96796\n",
              "dtype: int64"
            ]
          },
          "metadata": {},
          "execution_count": 82
        }
      ]
    },
    {
      "cell_type": "code",
      "source": [
        "df.columns"
      ],
      "metadata": {
        "colab": {
          "base_uri": "https://localhost:8080/"
        },
        "id": "nNAW2JRCTkQg",
        "outputId": "d03c1801-9f5d-40de-d5f2-f91fb79be2c6"
      },
      "execution_count": null,
      "outputs": [
        {
          "output_type": "execute_result",
          "data": {
            "text/plain": [
              "Index(['NIS', 'GENERO', 'FECHA_NACIMIENTO', 'ESTADO_CIVIL', 'ESTRATO',\n",
              "       'PUNTAJE_ICFES', 'SISBEN', 'DBU_HIJOS', 'COD_PAIS_RESISENCIA',\n",
              "       'COD_DPTO_RESIDENCIA', 'COD_MUNICIPIO_RESIDENCIA',\n",
              "       'COD_ZONA_RESIDENCIA', 'COD_BARRIO_RESIDENCIA'],\n",
              "      dtype='object')"
            ]
          },
          "metadata": {},
          "execution_count": 83
        }
      ]
    },
    {
      "cell_type": "code",
      "source": [
        "col = ['NIS', 'GENERO', 'FECHA_NACIMIENTO', 'ESTADO_CIVIL', 'ESTRATO',\n",
        "       'PUNTAJE_ICFES', 'SISBEN', 'DBU_HIJOS', 'COD_PAIS_RESISENCIA',\n",
        "       'COD_DPTO_RESIDENCIA', 'COD_MUNICIPIO_RESIDENCIA',\n",
        "       'COD_ZONA_RESIDENCIA', 'COD_BARRIO_RESIDENCIA']\n",
        "for n in col:\n",
        "  print(n,\"\\n\",df[n].value_counts())\n",
        "  #print(col, df[n])"
      ],
      "metadata": {
        "id": "TUvO7h9iK3wM",
        "colab": {
          "base_uri": "https://localhost:8080/"
        },
        "outputId": "7506294a-642f-4445-87c2-b30b21c89894"
      },
      "execution_count": null,
      "outputs": [
        {
          "output_type": "stream",
          "name": "stdout",
          "text": [
            "NIS \n",
            " NIS\n",
            "12296839    1\n",
            "10128364    1\n",
            "11220445    1\n",
            "12175709    1\n",
            "12971187    1\n",
            "           ..\n",
            "12978951    1\n",
            "7552481     1\n",
            "12182157    1\n",
            "10133402    1\n",
            "9225995     1\n",
            "Name: count, Length: 100000, dtype: int64\n",
            "GENERO \n",
            " GENERO\n",
            "F    52928\n",
            "M    47072\n",
            "Name: count, dtype: int64\n",
            "FECHA_NACIMIENTO \n",
            " FECHA_NACIMIENTO\n",
            "5/01/1980     103\n",
            "26/05/1992     69\n",
            "7/01/1980      63\n",
            "8/03/1992      62\n",
            "1/01/1980      62\n",
            "             ... \n",
            "2/05/2010       1\n",
            "15/01/1971      1\n",
            "24/07/1960      1\n",
            "21/05/1964      1\n",
            "15/02/2000      1\n",
            "Name: count, Length: 20797, dtype: int64\n",
            "ESTADO_CIVIL \n",
            " ESTADO_CIVIL\n",
            "N    56620\n",
            "S    25091\n",
            "C     7067\n",
            "U     7056\n",
            "I     3030\n",
            "E      936\n",
            "V      200\n",
            "Name: count, dtype: int64\n",
            "ESTRATO \n",
            " ESTRATO\n",
            "1    44380\n",
            "2    36679\n",
            "3    16150\n",
            "4     2133\n",
            "5      485\n",
            "6      173\n",
            "Name: count, dtype: int64\n",
            "PUNTAJE_ICFES \n",
            " PUNTAJE_ICFES\n",
            "50,00     51\n",
            "45,00     46\n",
            "48,00     41\n",
            "49,00     37\n",
            "300,00    35\n",
            "          ..\n",
            "351,00     1\n",
            "470,00     1\n",
            "591,00     1\n",
            "379,00     1\n",
            "813,00     1\n",
            "Name: count, Length: 467, dtype: int64\n",
            "SISBEN \n",
            " Series([], Name: count, dtype: int64)\n",
            "DBU_HIJOS \n",
            " Series([], Name: count, dtype: int64)\n",
            "COD_PAIS_RESISENCIA \n",
            " COD_PAIS_RESISENCIA\n",
            "57     99688\n",
            "58        55\n",
            "51        40\n",
            "593       34\n",
            "147       31\n",
            "34        27\n",
            "54        19\n",
            "185       18\n",
            "56        16\n",
            "52        11\n",
            "1         10\n",
            "507        9\n",
            "504        6\n",
            "506        5\n",
            "591        4\n",
            "39         3\n",
            "505        3\n",
            "49         3\n",
            "123        2\n",
            "180        2\n",
            "595        2\n",
            "503        1\n",
            "106        1\n",
            "43         1\n",
            "188        1\n",
            "46         1\n",
            "297        1\n",
            "178        1\n",
            "189        1\n",
            "55         1\n",
            "61         1\n",
            "53         1\n",
            "81         1\n",
            "Name: count, dtype: int64\n",
            "COD_DPTO_RESIDENCIA \n",
            " COD_DPTO_RESIDENCIA\n",
            "57011     16866\n",
            "57005     12392\n",
            "57076      8199\n",
            "57025      6871\n",
            "57068      6212\n",
            "          ...  \n",
            "593015        1\n",
            "595010        1\n",
            "52020         1\n",
            "185004        1\n",
            "58016         1\n",
            "Name: count, Length: 164, dtype: int64\n",
            "COD_MUNICIPIO_RESIDENCIA \n",
            " COD_MUNICIPIO_RESIDENCIA\n",
            "57011001     16862\n",
            "57005001      4745\n",
            "57076001      3570\n",
            "57008001      2838\n",
            "57013001      2731\n",
            "             ...  \n",
            "56006001         1\n",
            "52028001         1\n",
            "57054871         1\n",
            "178065001        1\n",
            "58016001         1\n",
            "Name: count, Length: 1248, dtype: int64\n",
            "COD_ZONA_RESIDENCIA \n",
            " COD_ZONA_RESIDENCIA\n",
            "11.0     195\n",
            "8.0      192\n",
            "10.0     156\n",
            "7.0      129\n",
            "161.0    115\n",
            "        ... \n",
            "325.0      1\n",
            "363.0      1\n",
            "416.0      1\n",
            "349.0      1\n",
            "326.0      1\n",
            "Name: count, Length: 347, dtype: int64\n",
            "COD_BARRIO_RESIDENCIA \n",
            " COD_BARRIO_RESIDENCIA\n",
            "304.0     33\n",
            "372.0     17\n",
            "564.0     16\n",
            "3369.0    15\n",
            "3094.0    12\n",
            "          ..\n",
            "2156.0     1\n",
            "3.0        1\n",
            "958.0      1\n",
            "8268.0     1\n",
            "5182.0     1\n",
            "Name: count, Length: 1643, dtype: int64\n"
          ]
        }
      ]
    }
  ]
}